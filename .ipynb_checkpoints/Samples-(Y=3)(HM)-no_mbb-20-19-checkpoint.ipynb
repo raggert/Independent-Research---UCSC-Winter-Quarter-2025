{
 "cells": [
  {
   "cell_type": "code",
   "execution_count": null,
   "id": "c7c577ef-5e2c-4f0c-a143-2e2b4137ad3f",
   "metadata": {},
   "outputs": [],
   "source": [
    "import matplotlib.pyplot as plt\n",
    "import numpy as np\n",
    "import matplotlib as mpl\n",
    "import math\n",
    "import pandas as pd\n",
    "from scipy.optimize import curve_fit\n",
    "import uncertainties\n",
    "from uncertainties import ufloat\n",
    "\n",
    "import uproot"
   ]
  },
  {
   "cell_type": "code",
   "execution_count": null,
   "id": "a53af0a5-d502-4ae8-839e-8a991b8d12e9",
   "metadata": {},
   "outputs": [],
   "source": [
    "import os\n",
    "\n",
    "# Change to the project directory\n",
    "os.chdir('/home/ursuni/Research_Project')\n",
    "\n",
    "# Confirm the current working directory\n",
    "print(\"Current working directory:\", os.getcwd())"
   ]
  },
  {
   "cell_type": "markdown",
   "id": "91ac9931-b940-4df4-a89e-bd708b63dfc7",
   "metadata": {},
   "source": [
    "## Useful Functions"
   ]
  },
  {
   "cell_type": "code",
   "execution_count": null,
   "id": "dfd16bd0-4e3a-4868-bf02-ecfc603c7e73",
   "metadata": {},
   "outputs": [],
   "source": [
    "def read_data(filename, col_array=['mbb','myy','weight']):\n",
    "    file_data = pd.read_hdf('/data/mhance/bbyy/arrays/HHbbyy_v6_KF_85WP_2pBjets_athenaOR_bugfixed/' + filename)\n",
    "\n",
    "    data_list = []\n",
    "\n",
    "    for entry in col_array:\n",
    "        dataset = file_data[entry].to_numpy()\n",
    "        data_list.append(dataset)\n",
    "\n",
    "    return tuple(data_list)"
   ]
  },
  {
   "cell_type": "code",
   "execution_count": null,
   "id": "34632600-ae11-457c-9d1f-3cff2e825343",
   "metadata": {},
   "outputs": [],
   "source": [
    "def read_data_sens(filename, sens):\n",
    "    file_path2 = '/data/mhance/bbyy/ntuples_v7_retrained/outputs/no_mbb/categorized_minitrees/' + filename + '_Run2HM_' + str(sens) + '.root'\n",
    "    file_path3 = '/data/mhance/bbyy/ntuples_v7_retrained/outputs/no_mbb/categorized_minitrees/' + filename + '_Run3HM_' + str(sens) + '.root'\n",
    "\n",
    "    with uproot.open(file_path2) as file2:\n",
    "        mbb2 = file2['output']['mbb'].array().to_numpy()\n",
    "        myy2 = file2['output']['m_yy'].array().to_numpy()\n",
    "        weights2 = file2['output']['weight'].array().to_numpy()\n",
    "\n",
    "    with uproot.open(file_path3) as file3:\n",
    "        mbb3 = file3['output']['mbb'].array().to_numpy()\n",
    "        myy3 = file3['output']['m_yy'].array().to_numpy()\n",
    "        weights3 = file3['output']['weight'].array().to_numpy()\n",
    "\n",
    "    mbb = np.concatenate([mbb2, mbb3])\n",
    "    myy = np.concatenate([myy2, myy3])\n",
    "    weights = np.concatenate([weights2, weights3])\n",
    "\n",
    "    return mbb, myy, weights"
   ]
  },
  {
   "cell_type": "code",
   "execution_count": null,
   "id": "7746d684-5868-4f33-83a5-e55d1be719b0",
   "metadata": {},
   "outputs": [],
   "source": [
    "def get_errors(x, weights, bin_edges, bin_num):\n",
    "    errors = np.array([])\n",
    "\n",
    "    #determine to which bin the elements in our x array belong to\n",
    "    bin_x = np.digitize(x, bin_edges)\n",
    "\n",
    "    for i in range(1, bin_num+1): #starting from 1 since np.digitize starts counting at 1\n",
    "        bin_weights = weights[np.where(bin_x==i)[0]]\n",
    "        error = np.sqrt(np.sum(bin_weights**2))\n",
    "        errors = np.append(errors, error)\n",
    "\n",
    "    return errors"
   ]
  },
  {
   "cell_type": "code",
   "execution_count": null,
   "id": "62391162-be81-447d-9882-a75272af788f",
   "metadata": {},
   "outputs": [],
   "source": [
    "import scipy.stats as st\n",
    "\n",
    "def get_poisson_errors(x, weights):\n",
    "    high_err = st.chi2.ppf(1. - (1. - 0.68)/2. , 2.* (x + 1.)) / 2. - x - 1\n",
    "\n",
    "    low_err = np.where(\n",
    "                        x <= 0,\n",
    "                        0,\n",
    "                        x - st.chi2.ppf((1. - 0.68)/2., 2.*x) / 2\n",
    "                        )\n",
    "        \n",
    "    return np.array([low_err, high_err]) * np.mean(weights)"
   ]
  },
  {
   "cell_type": "code",
   "execution_count": null,
   "id": "28bde3f1-81d3-49b1-a961-dc1829b60c91",
   "metadata": {},
   "outputs": [],
   "source": [
    "def custom_str(value):\n",
    "    \"\"\"\n",
    "    Format the ufloat with pretty printing, but limit to 2 significant figures.\n",
    "    \"\"\"\n",
    "    # Get the nominal value and the uncertainty\n",
    "    nominal = value.nominal_value\n",
    "    std_dev = value.std_dev\n",
    "    \n",
    "    # If the uncertainty is larger than the nominal value, format with 2 significant figures\n",
    "    if abs(nominal * 10) < std_dev:\n",
    "        return f\"{nominal:.2g} ± {std_dev:.2g}\"\n",
    "    \n",
    "    # Otherwise, use the default pretty printing\n",
    "    return '{:P}'.format(value)"
   ]
  },
  {
   "cell_type": "code",
   "execution_count": null,
   "id": "3ceb3547-1979-41b7-a88f-d471a6b5db19",
   "metadata": {},
   "outputs": [],
   "source": [
    "def get_legend(popt, pcov, chi_red, labels, units):\n",
    "    \n",
    "    if (len(labels) == popt.size):\n",
    "        string = ''\n",
    "    else:\n",
    "        string = 'Fit: ' + labels[-1] + ' \\n'\n",
    "        \n",
    "    for i in range(popt.size):\n",
    "        string += labels[i] + ' = '\n",
    "        \n",
    "        if units[i] == ' ':\n",
    "            string += custom_str(ufloat(popt[i], np.sqrt(pcov[i][i])))\n",
    "        elif units[i] == 'GeV':\n",
    "            string += '(' + custom_str(ufloat(popt[i], np.sqrt(pcov[i][i]))/1e3 ) + ')'\n",
    "        elif units[i] == r'GeV$^{-1}$':\n",
    "            string += '(' + custom_str(ufloat(popt[i], np.sqrt(pcov[i][i]))/1e-3 ) + ')'\n",
    "        elif units[i] == r'GeV$^{-2}$':\n",
    "            string += '(' + custom_str(ufloat(popt[i], np.sqrt(pcov[i][i]))/1e-6 ) + ')'\n",
    "        elif units[i] == r'GeV$^{-3}$':\n",
    "            string += '(' + custom_str(ufloat(popt[i], np.sqrt(pcov[i][i]))/1e-9 ) + ')'\n",
    "        elif units[i] == r'GeV$^{-4}$':\n",
    "            string += '(' + custom_str(ufloat(popt[i], np.sqrt(pcov[i][i]))/1e-12 ) + ')'\n",
    "        elif units[i] == r'GeV$^{-5}$':\n",
    "            string += '(' + custom_str(ufloat(popt[i], np.sqrt(pcov[i][i]))/1e-15 ) + ')'\n",
    "        elif units[i] == r'GeV$^{-6}$':\n",
    "            string += '(' + custom_str(ufloat(popt[i], np.sqrt(pcov[i][i]))/1e-18 ) + ')'\n",
    "        elif units[i] == r'GeV$^{-7}$':\n",
    "            string += '(' + custom_str(ufloat(popt[i], np.sqrt(pcov[i][i]))/1e-21 ) + ')'\n",
    "        elif units[i] == r'GeV$^{-8}$':\n",
    "            string += '(' + custom_str(ufloat(popt[i], np.sqrt(pcov[i][i]))/1e-24 ) + ')'\n",
    "        else:\n",
    "            string += custom_str(ufloat(popt[i], np.sqrt(pcov[i][i])))\n",
    "        \n",
    "        string += ' ' + units[i]\n",
    "        string += ' \\n'\n",
    "\n",
    "    string += r'$\\chi^2_{red}$ = ' + '{:.3g}'.format(chi_red)\n",
    "\n",
    "    return string"
   ]
  },
  {
   "cell_type": "markdown",
   "id": "c7335976-3cdb-4f8a-9290-42650aaf6427",
   "metadata": {},
   "source": [
    "## Fit Functions"
   ]
  },
  {
   "cell_type": "code",
   "execution_count": null,
   "id": "84676bb3-4b03-45cb-a48f-3d7d607a5d33",
   "metadata": {},
   "outputs": [],
   "source": [
    "def gauss_func(x, mu, sigma, N):\n",
    "    return N * np.exp(-0.5 * ((x - mu) / sigma) ** 2)\n",
    "\n",
    "gauss_labels = [r'$\\mu$', r'$\\sigma$', 'N', 'Gaussian']\n",
    "gauss_units = ['GeV', 'GeV', ' ']"
   ]
  },
  {
   "cell_type": "code",
   "execution_count": null,
   "id": "919f7b8d-78fc-45df-887d-c4fbc8320a5d",
   "metadata": {},
   "outputs": [],
   "source": [
    "def double_gauss(x, mu_L, sig_L, mu_R, sig_R, N_L, N_R):\n",
    "    return gauss_func(x, mu_L, sig_L, N_L) + gauss_func(x, mu_R, sig_R, N_R)\n",
    "\n",
    "double_gauss_labels = [r'$\\mu_L$', r'$\\sigma_L$', r'$\\mu_R$', r'$\\sigma_R$', r'N$_L$', r'N$_R$', 'Double Gaussian']\n",
    "double_gauss_units = ['GeV', 'GeV', 'GeV', 'GeV', ' ' , ' ']"
   ]
  },
  {
   "cell_type": "code",
   "execution_count": null,
   "id": "cf56a3dc-e9be-4ee7-83d5-f0ef3f0ee613",
   "metadata": {},
   "outputs": [],
   "source": [
    "def cb_func(x, mu, sigma, alpha, n, N):\n",
    "    A = (n / np.abs(alpha)) ** n * np.exp(-0.5 * alpha ** 2)\n",
    "    B = n / np.abs(alpha) - np.abs(alpha)\n",
    "\n",
    "    right = N * A * (B - (mu - x) / sigma) ** -n\n",
    "\n",
    "    gauss = N * np.exp(-0.5 * ((x - mu) / sigma) ** 2)\n",
    "\n",
    "    result = np.where((x - mu) / sigma > alpha, right, gauss)\n",
    "    \n",
    "    return result\n",
    "\n",
    "cb_labels = [r'$\\mu$', r'$\\sigma$', r'$\\alpha$', 'n', 'N', 'Crystal Ball']\n",
    "cb_units = ['GeV', 'GeV', ' ', ' ', ' ']"
   ]
  },
  {
   "cell_type": "code",
   "execution_count": null,
   "id": "c42a8574-f273-4fdf-ac24-810feea61910",
   "metadata": {},
   "outputs": [],
   "source": [
    "def dscb_func(x, mu, sigma, alpha_L, alpha_R, n_L, n_R, N):\n",
    "\n",
    "    #n_L = int(round(n_L))\n",
    "    #n_R = int(round(n_R))\n",
    "    \n",
    "    #Left Power Function\n",
    "    A_L = (n_L / np.abs(alpha_L)) ** n_L * np.exp(-0.5 * alpha_L ** 2)\n",
    "    B_L = n_L / np.abs(alpha_L) - np.abs(alpha_L)\n",
    "\n",
    "    #Alternatively to prevent overflow\n",
    "    #A_L = np.clip(n_L / np.abs(alpha_L),1e-10,1e3) ** n_L * np.exp(-0.5 * alpha_L ** 2)\n",
    "\n",
    "    #or\n",
    "    #log_A_L = n_L * np.log(n_L / np.abs(alpha_L)) - 0.5 * alpha_L ** 2\n",
    "    #A_L = np.exp(np.clip(log_A_L, -700, 700))  # Clip to prevent overflow\n",
    "\n",
    "    left = N * A_L * (B_L - (x - mu) / sigma) ** -n_L\n",
    "    #left = N * A_L * np.maximum(B_L - (x - mu) / sigma, 1e-15) ** -n_L\n",
    "    \n",
    "    #Right Power Function\n",
    "    A_R = (n_R / np.abs(alpha_R)) ** n_R * np.exp(-0.5 * alpha_R ** 2)\n",
    "    B_R = n_R / np.abs(alpha_R) - np.abs(alpha_R)\n",
    "\n",
    "    #A_R = np.clip(n_R / np.abs(alpha_R),1e-10,1e3) ** n_R * np.exp(-0.5 * alpha_R ** 2)\n",
    "\n",
    "    right = N * A_R * (B_R - (mu - x) / sigma) ** -n_R\n",
    "    \n",
    "    #right = N * A_R * np.maximum(B_R - (mu - x) / sigma, 1e-15) ** -n_R\n",
    "    \n",
    "    #Gaussian\n",
    "    gauss = N * np.exp(-0.5 * ((x - mu) / sigma) ** 2)\n",
    "    \n",
    "    #Result\n",
    "    result = np.where((x - mu) / sigma > -alpha_L, gauss, left)\n",
    "    result = np.where((x - mu) / sigma > alpha_R, right, result)\n",
    "    \n",
    "    return result\n",
    "\n",
    "dscb_labels = [r'$\\mu$', r'$\\sigma$', r'$\\alpha_L$', r'$\\alpha_R$', r'n$_L$', r'n$_R$', 'N', 'DSCB']\n",
    "dscb_units = ['GeV', 'GeV', ' ', ' ', ' ', ' ', ' ']"
   ]
  },
  {
   "cell_type": "code",
   "execution_count": null,
   "id": "96bd0fed-5f7d-4517-bf81-a54b2bf1b31d",
   "metadata": {},
   "outputs": [],
   "source": [
    "def double_dscb(x, mu1, sigma1, alpha_L1, alpha_R1, n_L1, n_R1, N1, mu2, sigma2, alpha_L2, alpha_R2, n_L2, n_R2, N2):\n",
    "    return dscb_func(x, mu1, sigma1, alpha_L1, alpha_R1, n_L1, n_R1, N1) + dscb_func(x, mu2, sigma2, alpha_L2, alpha_R2, n_L2, n_R2, N2)\n",
    "\n",
    "double_dscb_labels = [r'$\\mu_1$', r'$\\sigma_1$', r'$\\alpha_{L_1}$', r'$\\alpha_{R_1}$', r'n$_{L_1}$', r'n$_{R_1}$', 'N$_1$', \\\n",
    "                      r'$\\mu_2$', r'$\\sigma_2$', r'$\\alpha_{L_2}$', r'$\\alpha_{R_2}$', r'n$_{L_2}$', r'n$_{R_2}$', 'N$_2$', 'DOUBLE DSCB']\n",
    "double_dscb_units = ['GeV', 'GeV', ' ', ' ', ' ', ' ', ' ', 'GeV', 'GeV', ' ', ' ', ' ', ' ', ' ']"
   ]
  },
  {
   "cell_type": "code",
   "execution_count": null,
   "id": "a916b853-da4b-45f5-aa37-0603f79f33f2",
   "metadata": {},
   "outputs": [],
   "source": [
    "def cb_dscb(x, mu1, sigma1, alpha_R1, n_R1, N1, mu2, sigma2, alpha_L2, alpha_R2, n_L2, n_R2, N2):\n",
    "    return cb_func(x, mu1, sigma1, alpha_R1, n_R1, N1) + dscb_func(x, mu2, sigma2, alpha_L2, alpha_R2, n_L2, n_R2, N2)\n",
    "\n",
    "cb_dscb_labels = [r'$\\mu_1$', r'$\\sigma_1$', r'$\\alpha_{R_1}$', r'n$_{R_1}$', 'N$_1$', \\\n",
    "                      r'$\\mu_2$', r'$\\sigma_2$', r'$\\alpha_{L_2}$', r'$\\alpha_{R_2}$', r'n$_{L_2}$', r'n$_{R_2}$', 'N$_2$', 'CB + DSCB']\n",
    "cb_dscb_units = ['GeV', 'GeV', ' ', ' ', ' ', 'GeV', 'GeV', ' ', ' ', ' ', ' ', ' ']"
   ]
  },
  {
   "cell_type": "code",
   "execution_count": null,
   "id": "31f5089a-e3d2-4f96-9883-60934f7420cf",
   "metadata": {},
   "outputs": [],
   "source": [
    "def exp_fit(x, a, b):\n",
    "    return a * np.exp(-b*x)\n",
    "\n",
    "exp_fit_labels = ['a', r'$\\lambda$', 'Exponential']\n",
    "exp_fit_units = [' ', r'GeV$^{-1}$']"
   ]
  },
  {
   "cell_type": "code",
   "execution_count": null,
   "id": "8b2209a0-1dac-4a8f-8970-1ae53630dac9",
   "metadata": {},
   "outputs": [],
   "source": [
    "from scipy.special import factorial\n",
    "\n",
    "def poisson(x, l):\n",
    "    return l**x * np.exp(-l) / factorial(x)"
   ]
  },
  {
   "cell_type": "code",
   "execution_count": null,
   "id": "91b43e5a-192b-4fbe-8f19-24cc4b4b7431",
   "metadata": {},
   "outputs": [],
   "source": [
    "def log_exp_func(x, a, b, c):\n",
    "    return np.sqrt(x-a) * np.exp(-b*x+c)"
   ]
  },
  {
   "cell_type": "code",
   "execution_count": null,
   "id": "e92d45e4-a6c4-4dc9-b3c3-ee3dd381b56e",
   "metadata": {},
   "outputs": [],
   "source": [
    "import numpy.polynomial.chebyshev as cheb\n",
    "\n",
    "def poly_fn(x,a0,a1,a2,a3,a4,a5,a6):#,a7,a8):\n",
    "    result = a0 + a1 * x + a2 * x**2 + a3 * x**3 + a4 * x**4 + a5 * x**5# + a6 * x**6 + a7 * x**7 + a8 * x**8\n",
    "    return result\n",
    "\n",
    "poly_labels = [r'$a_0$', r'$a_1$', r'$a_2$', r'$a_3$', r'$a_4$', r'$a_5$', r'$a_6$']#, r'$a_7$', r'$a_8$', 'Polynomial']\n",
    "poly_units = [' ', r'GeV$^{-1}$', r'GeV$^{-2}$', r'GeV$^{-3}$', r'GeV$^{-4}$', r'GeV$^{-5}$', r'GeV$^{-6}$']#, r'GeV$^{-7}$', r'GeV$^{-8}$']"
   ]
  },
  {
   "cell_type": "code",
   "execution_count": null,
   "id": "0673d0e0-e89d-4207-9017-ef230b0bda54",
   "metadata": {},
   "outputs": [],
   "source": []
  },
  {
   "cell_type": "markdown",
   "id": "5e561936-80a8-414c-99d6-9bc8734c9c6f",
   "metadata": {},
   "source": [
    "## Fit Evaluation Functions"
   ]
  },
  {
   "cell_type": "markdown",
   "id": "f89756fb-95b1-45d6-8a12-1c387d4defbc",
   "metadata": {},
   "source": [
    "Function to calculate relevant parameters to evaluate the fit:"
   ]
  },
  {
   "cell_type": "code",
   "execution_count": null,
   "id": "c08dc83f-bf28-4590-82e6-956123b1ec19",
   "metadata": {},
   "outputs": [],
   "source": [
    "def fit_evaluation(func, x, y, err, params):\n",
    "    ratio = np.where(y == 0, np.nan, func(x,*params) / y)\n",
    "    residuals = func(x,*params) - y\n",
    "\n",
    "    chisquare = np.sum( (func(x,*params)-y)**2 / err**2 )\n",
    "    chisquare_red = chisquare/(x.size-params.size)\n",
    "\n",
    "    return ratio, residuals, chisquare_red, chisquare"
   ]
  },
  {
   "cell_type": "markdown",
   "id": "f3d0991f-2325-407c-98b1-dd88d918dbcf",
   "metadata": {},
   "source": [
    "Function to plot the ratio:"
   ]
  },
  {
   "cell_type": "code",
   "execution_count": null,
   "id": "1c3d3ae7-2b0b-47a0-9efa-1b40d0cc3ecd",
   "metadata": {},
   "outputs": [],
   "source": [
    "def ratio_plot(x, ratio, title, m):\n",
    "    plt.title('Ratio Fit vs. Data (' + title + ')')\n",
    "    plt.ylabel('Ratio')\n",
    "\n",
    "    if m == 'mbb':\n",
    "        plt.xlabel(r'm$_{b\\bar{b}}$ [GeV]')\n",
    "    elif m == 'myy':\n",
    "        plt.xlabel(r'm$_{yy}$ [GeV]')\n",
    "    \n",
    "    plt.grid(ls=':',zorder=-2)\n",
    "    \n",
    "    plt.scatter(x/1e3, ratio,marker='^', color='blue')\n",
    "    \n",
    "    plt.axhline(y=1.0, linestyle='--', color='orange', zorder=-1,linewidth=2)"
   ]
  },
  {
   "cell_type": "markdown",
   "id": "c836fc50-adeb-4d1d-8a4a-afd7490e18eb",
   "metadata": {},
   "source": [
    "Function to plot the residuals:"
   ]
  },
  {
   "cell_type": "code",
   "execution_count": null,
   "id": "18c10e0a-39bc-467e-a419-d3025482a7c1",
   "metadata": {},
   "outputs": [],
   "source": [
    "def residual_plot(x, residuals, title, m):\n",
    "    plt.title(r'Residuals (' + title + ')')\n",
    "    plt.ylabel('Residuals')\n",
    "\n",
    "    if m == 'mbb':\n",
    "        plt.xlabel(r'm$_{b\\bar{b}}$ [GeV]')\n",
    "    elif m == 'myy':\n",
    "        plt.xlabel(r'm$_{yy}$ [GeV]')\n",
    "\n",
    "    plt.grid(ls=':')\n",
    "\n",
    "    plt.scatter(x/1e3, residuals, marker='^', color='orange')\n",
    "\n",
    "    plt.axhline(y=0, ls='-', color='blue')"
   ]
  },
  {
   "cell_type": "markdown",
   "id": "ae3fe974-9892-4c93-9e52-5d0c12fdd220",
   "metadata": {},
   "source": [
    "Function to get the fit parameters of a DSCB fit and print them out:"
   ]
  },
  {
   "cell_type": "code",
   "execution_count": null,
   "id": "00bb2c59-8d24-494f-9849-2622efdadaf3",
   "metadata": {},
   "outputs": [],
   "source": [
    "def get_params_dscb(popt, pcov, title):\n",
    "    mu = ufloat(popt[0], np.sqrt(pcov[0][0]))/1e3\n",
    "    sig = ufloat(popt[1], np.sqrt(pcov[1][1]))/1e3\n",
    "    alpha_L = ufloat(popt[2], np.sqrt(pcov[2][2]))\n",
    "    alpha_R = ufloat(popt[3], np.sqrt(pcov[3][3]))\n",
    "    n_L = ufloat(popt[4], np.sqrt(pcov[4][4]))\n",
    "    n_R = ufloat(popt[5], np.sqrt(pcov[5][5]))\n",
    "    N = ufloat(popt[6], np.sqrt(pcov[6][6]))\n",
    "\n",
    "    #print('Fit Parameters (' + title + '):\\n')\n",
    "    #print('mu = ({}) GeV'.format(mu))\n",
    "    #print('sigma = ({}) GeV'.format(sig))\n",
    "    #print('alpha_L = {}'.format(alpha_L))\n",
    "    #print('alpha_R = {}'.format(alpha_R))\n",
    "    #print('n_L = {}'.format(n_L))\n",
    "    #print('n_R = {}'.format(n_R))\n",
    "    #print('N = {}'.format(N))\n",
    "\n",
    "    return mu, sig, alpha_L, alpha_R, n_L, n_R, N"
   ]
  },
  {
   "cell_type": "code",
   "execution_count": null,
   "id": "22c6bcd2-742f-4a38-a530-bf84473619bc",
   "metadata": {},
   "outputs": [],
   "source": [
    "def plot_ratio_red(bin_centers, ratio, residuals, title, m, ratio_bool=True):\n",
    "    ratio_plot(bin_centers, ratio, title, m)\n",
    "\n",
    "    plt.show()\n",
    "\n",
    "    residual_plot(bin_centers, residuals, title, m)"
   ]
  },
  {
   "cell_type": "markdown",
   "id": "0ef3fa4a-eead-489e-8186-b466e11fc692",
   "metadata": {},
   "source": [
    "---\n",
    "---"
   ]
  },
  {
   "cell_type": "markdown",
   "id": "2f9554f3-7ff5-4824-85cc-73f6b374eabd",
   "metadata": {},
   "source": [
    "## General Parameters"
   ]
  },
  {
   "cell_type": "markdown",
   "id": "57c49f21-e9e9-4ecf-b57c-a2d83c235188",
   "metadata": {},
   "source": [
    "General parameters that will be used for all samples to ensure we analyze them in a consistent way:"
   ]
  },
  {
   "cell_type": "code",
   "execution_count": null,
   "id": "afdb48e3-c2bd-468f-a9ae-4bf5007c2f48",
   "metadata": {},
   "outputs": [],
   "source": [
    "#set the range for our samples\n",
    "mbb_min = 80e3\n",
    "mbb_max = 180e3\n",
    "\n",
    "myy_min = 110e3\n",
    "myy_max = 140e3\n",
    "\n",
    "mbb_range = (mbb_min, mbb_max)\n",
    "myy_range = (myy_min, myy_max)\n",
    "\n",
    "#set the bin numbers\n",
    "mbb_bin_num = 20\n",
    "myy_bin_num = 19\n",
    "\n",
    "#set the bin edges and centers\n",
    "mbb_bins = np.linspace(mbb_min, mbb_max, mbb_bin_num+1)\n",
    "myy_bins = np.linspace(myy_min, myy_max, myy_bin_num+1)\n",
    "\n",
    "mbb_bin_centers = mbb_bins[:-1] + (mbb_max-mbb_min)/(2*mbb_bin_num)\n",
    "myy_bin_centers = myy_bins[:-1] + (myy_max-myy_min)/(2*myy_bin_num)\n",
    "\n",
    "#set the arrays to plot the fit funtion\n",
    "mbb_plot = np.linspace(*mbb_range, 1000)\n",
    "myy_plot = np.linspace(*myy_range, 1000)"
   ]
  },
  {
   "cell_type": "markdown",
   "id": "d0be1e8f-17cc-4f6e-a4eb-200a4db29e7c",
   "metadata": {},
   "source": [
    "---\n",
    "---"
   ]
  },
  {
   "cell_type": "code",
   "execution_count": null,
   "id": "70117bb0-6863-4b69-8ce7-b8ac452f3f17",
   "metadata": {},
   "outputs": [],
   "source": [
    "a = np.array([1,2,3,4])\n",
    "\n",
    "a==1"
   ]
  },
  {
   "cell_type": "markdown",
   "id": "71979c21-e10c-4da7-b277-546d07ad1f13",
   "metadata": {},
   "source": [
    "## VBFHH"
   ]
  },
  {
   "cell_type": "code",
   "execution_count": null,
   "id": "da0ce608-02ca-40b2-bc52-2f4ecb464845",
   "metadata": {},
   "outputs": [],
   "source": [
    "VBFHH_mbb, VBFHH_myy, VBFHH_weights = read_data_sens('VBFHH_kl1kvv1kv1', 3)"
   ]
  },
  {
   "cell_type": "markdown",
   "id": "81a713bf-dd5c-4748-91c2-1da50a24af1d",
   "metadata": {},
   "source": [
    "### VBFHH - $m_{b\\bar{b}}$"
   ]
  },
  {
   "cell_type": "code",
   "execution_count": null,
   "id": "ff2ab161-8f6a-43c3-bfb6-87472ab85f11",
   "metadata": {},
   "outputs": [],
   "source": [
    "#VBFHH_mbb_err = get_errors(VBFHH_mbb, VBFHH_weights, mbb_bins, mbb_bin_num)\n",
    "\n",
    "#VBFHH_mbb_err, np.mean(VBFHH_weights), poisson_error(VBFHH_mbb_counts)"
   ]
  },
  {
   "cell_type": "code",
   "execution_count": null,
   "id": "d8d117b3-d3c9-4810-b5df-68dcd37d061e",
   "metadata": {},
   "outputs": [],
   "source": [
    "VBFHH_mbb_counts, VBFHH_mbb_bins, _ = plt.hist(VBFHH_mbb, bins=mbb_bins, range=mbb_range, color='blue',\\\n",
    "                                    edgecolor='black', weights=VBFHH_weights)\n",
    "\n",
    "VBFHH_mbb_err = get_poisson_errors(VBFHH_mbb_counts, VBFHH_weights)\n",
    "\n",
    "plt.errorbar(mbb_bin_centers, VBFHH_mbb_counts, yerr=VBFHH_mbb_err, marker='x', color='orange', ls='')\n",
    "\n",
    "#np.mean(VBFHH_mbb_err, axis=0), VBFHH_mbb_err"
   ]
  },
  {
   "cell_type": "code",
   "execution_count": null,
   "id": "c7a79d5e-6731-40db-b701-d0060b8ab608",
   "metadata": {},
   "outputs": [],
   "source": [
    "VBFHH_mbb_popt, VBFHH_mbb_pcov = curve_fit(dscb_func, mbb_bin_centers, VBFHH_mbb_counts, p0=[120000,12000,1.5,1.5,3,3,0.007], \\\n",
    "                                           sigma=np.mean(VBFHH_mbb_err, axis=0), absolute_sigma=True)\n",
    "\n",
    "VBFHH_mbb_ratio, VBFHH_mbb_residuals, VBFHH_mbb_chi_red, VBFHH_mbb_chi \\\n",
    "= fit_evaluation(dscb_func, mbb_bin_centers, VBFHH_mbb_counts, np.mean(VBFHH_mbb_err, axis=0), VBFHH_mbb_popt)\n",
    "\n",
    "VBFHH_mbb_legend = get_legend(VBFHH_mbb_popt, VBFHH_mbb_pcov, VBFHH_mbb_chi_red, dscb_labels, dscb_units)"
   ]
  },
  {
   "cell_type": "code",
   "execution_count": null,
   "id": "cf44f025-869c-4a5c-a5a8-02563a168087",
   "metadata": {},
   "outputs": [],
   "source": [
    "plt.title(r'VBFHH (m$_{b\\bar{b}}$) - Y=3')\n",
    "plt.xlabel(r'm$_{b\\bar{b}}$ [GeV]')\n",
    "\n",
    "plt.xticks(np.linspace(mbb_min,mbb_max,6),(np.linspace(mbb_min,mbb_max,6)/1e3).astype(int))\n",
    "\n",
    "\n",
    "plt.plot(mbb_plot, dscb_func(mbb_plot,*VBFHH_mbb_popt), color='orange', linewidth=1.5, zorder=5, \\\n",
    "        label=VBFHH_mbb_legend)\n",
    "\n",
    "plt.errorbar(mbb_bin_centers, VBFHH_mbb_counts, yerr=VBFHH_mbb_err, marker='x', color='blue', ls='')\n",
    "\n",
    "_, _, _ =plt.hist(VBFHH_mbb, bins=mbb_bins, range=mbb_range, color='white',\\\n",
    "                                    edgecolor='white', weights=VBFHH_weights)\n",
    "\n",
    "_=plt.legend(handlelength=0)\n",
    "\n",
    "#plt.savefig('./Plots/Y0-mbb/VBFHH_mbb_Y0.pdf', format='pdf')"
   ]
  },
  {
   "cell_type": "code",
   "execution_count": null,
   "id": "28649335-2b23-4ded-b616-c6ba1022b3d0",
   "metadata": {},
   "outputs": [],
   "source": [
    "plt.ylim(0,2)\n",
    "\n",
    "plot_ratio_red(mbb_bin_centers, VBFHH_mbb_ratio, VBFHH_mbb_residuals, r'VBFHH - Y=3', 'mbb')"
   ]
  },
  {
   "cell_type": "markdown",
   "id": "d1fa2631-fa5d-4c56-80b9-1fe72c127535",
   "metadata": {},
   "source": [
    "---"
   ]
  },
  {
   "cell_type": "markdown",
   "id": "0e997116-6c10-4e35-b566-fc3e54747267",
   "metadata": {},
   "source": [
    "### VBFHH - m$_{\\gamma\\gamma}$"
   ]
  },
  {
   "cell_type": "code",
   "execution_count": null,
   "id": "c860cd1e-78c9-428e-91e6-f05f58c3f258",
   "metadata": {},
   "outputs": [],
   "source": [
    "VBFHH_myy = VBFHH_myy * 1e3"
   ]
  },
  {
   "cell_type": "code",
   "execution_count": null,
   "id": "18d96228-bf02-4943-9641-1e8c1eb34490",
   "metadata": {},
   "outputs": [],
   "source": [
    "VBFHH_myy_counts, VBFHH_myy_bins, _ = plt.hist(VBFHH_myy, bins=myy_bins, range=myy_range, color='blue',\\\n",
    "                                    edgecolor='black', weights=VBFHH_weights)\n",
    "\n",
    "VBFHH_myy_err = get_poisson_errors(VBFHH_myy_counts, VBFHH_weights)\n",
    "\n",
    "plt.errorbar(myy_bin_centers, VBFHH_myy_counts, yerr=VBFHH_myy_err, marker='x', color='orange', ls='')"
   ]
  },
  {
   "cell_type": "code",
   "execution_count": null,
   "id": "2a3deaee-ad1c-4d68-b402-d9ed70b138f9",
   "metadata": {},
   "outputs": [],
   "source": [
    "VBFHH_myy_popt, VBFHH_myy_pcov = curve_fit(dscb_func, myy_bin_centers, VBFHH_myy_counts, p0=[125e3, 2.5e3, 1.64, 1.64612321e+00, \\\n",
    "       1.3, 13, 0.014], sigma=np.mean(VBFHH_myy_err, axis=0), absolute_sigma=True)\n",
    "\n",
    "VBFHH_myy_mu, VBFHH_myy_sig, VBFHH_myy_aL, VBFHH_myy_aR, VBFHH_myy_nL, VBFHH_myy_nR, VBFHH_myy_N \\\n",
    "= get_params_dscb(VBFHH_myy_popt, VBFHH_myy_pcov, '')\n",
    "\n",
    "VBFHH_myy_ratio, VBFHH_myy_residuals, VBFHH_myy_chi_red, VBFHH_myy_chi = \\\n",
    "fit_evaluation(dscb_func, myy_bin_centers, VBFHH_myy_counts, np.mean(VBFHH_myy_err, axis=0), VBFHH_myy_popt)\n",
    "\n",
    "VBFHH_myy_legend = get_legend(VBFHH_myy_popt, VBFHH_myy_pcov, VBFHH_myy_chi_red, dscb_labels, dscb_units)"
   ]
  },
  {
   "cell_type": "code",
   "execution_count": null,
   "id": "f0c3e77a-3690-42ea-91cc-c26d7d291cd2",
   "metadata": {},
   "outputs": [],
   "source": [
    "plt.title(r'VBFHH (m$_{\\gamma\\gamma}$) - Y=3')\n",
    "plt.xlabel(r'm$_{\\gamma\\gamma}$ [GeV]')\n",
    "\n",
    "plt.xticks(np.linspace(myy_min,myy_max,7),(np.linspace(myy_min,myy_max,7)/1e3).astype(int))\n",
    "\n",
    "plt.plot(myy_plot, dscb_func(myy_plot,*VBFHH_myy_popt), color='orange', linewidth=1.5, zorder=5, \\\n",
    "        label=VBFHH_myy_legend)\n",
    "\n",
    "plt.errorbar(myy_bin_centers, VBFHH_myy_counts, yerr=VBFHH_myy_err, marker='x', color='blue', ls='')\n",
    "\n",
    "_, _, _ =plt.hist(VBFHH_myy, bins=myy_bins, range=myy_range, color='white',\\\n",
    "                                    edgecolor='white', weights=VBFHH_weights)\n",
    "\n",
    "_=plt.legend(handlelength=0)\n",
    "\n",
    "#plt.savefig('./Plots/Y0-myy/VBFHH_myy_Y0.pdf', format='pdf')"
   ]
  },
  {
   "cell_type": "code",
   "execution_count": null,
   "id": "cb05ce7d-4bd0-4bd1-b3b1-c24b0493b600",
   "metadata": {},
   "outputs": [],
   "source": [
    "plot_ratio_red(myy_bin_centers, VBFHH_myy_ratio, VBFHH_myy_residuals, r'VBFHH - Y=3', 'myy')"
   ]
  },
  {
   "cell_type": "code",
   "execution_count": null,
   "id": "1ef6fb7d-0f59-4a5c-a96b-52e3a0bc1703",
   "metadata": {},
   "outputs": [],
   "source": []
  },
  {
   "cell_type": "markdown",
   "id": "f6199a38-c095-4c64-b9f1-5dee817dae73",
   "metadata": {},
   "source": [
    "---\n",
    "---"
   ]
  },
  {
   "cell_type": "markdown",
   "id": "a20b5d98-354e-4bd3-972e-6768f0718536",
   "metadata": {},
   "source": [
    "## ggFH"
   ]
  },
  {
   "cell_type": "code",
   "execution_count": null,
   "id": "dcac70b2-c48c-42cd-a344-d924340efcba",
   "metadata": {},
   "outputs": [],
   "source": [
    "ggFH_mbb, ggFH_myy, ggFH_weights = read_data_sens('ggFH',3)\n",
    "\n",
    "#ggFH_mbb, ggFH_myy = ggFH_mbb_MeV * 1e-3, ggFH_myy_MeV * 1e-3"
   ]
  },
  {
   "cell_type": "markdown",
   "id": "ec1b994b-0aff-4c87-aae7-05c6f72af7e3",
   "metadata": {},
   "source": [
    "### ggFH - $m_{b\\bar{b}}$"
   ]
  },
  {
   "cell_type": "code",
   "execution_count": null,
   "id": "25cc4bf2-6c89-4f39-8233-671ee84c1037",
   "metadata": {},
   "outputs": [],
   "source": [
    "#ggFH_mbb_err = get_errors(ggFH_mbb, ggFH_weights, mbb_bins, mbb_bin_num)"
   ]
  },
  {
   "cell_type": "code",
   "execution_count": null,
   "id": "71ec15e4-8db6-44b5-9af7-be81a89b75de",
   "metadata": {},
   "outputs": [],
   "source": [
    "ggFH_mbb_counts, ggFH_mbb_bins, _ = plt.hist(ggFH_mbb, bins=mbb_bins, range=mbb_range, color='blue',\\\n",
    "                                    edgecolor='black', weights=ggFH_weights)\n",
    "\n",
    "ggFH_mbb_err = get_poisson_errors(ggFH_mbb_counts, ggFH_weights)\n",
    "\n",
    "#plt.errorbar(mbb_bin_centers, ggFH_mbb_counts, yerr=ggFH_mbb_err, marker='x', color='orange', ls='')"
   ]
  },
  {
   "cell_type": "code",
   "execution_count": null,
   "id": "a146e135-b7de-4482-9357-d646b5b5cd20",
   "metadata": {},
   "outputs": [],
   "source": [
    "ggFH_mbb_popt, ggFH_mbb_pcov = curve_fit(gauss_func, mbb_bin_centers, ggFH_mbb_counts, p0=[105e3,17e3,0.07], \\\n",
    "                                         sigma=np.mean(ggFH_mbb_err, axis=0), absolute_sigma=True)\n",
    "\n",
    "ggFH_mbb_a = ufloat(ggFH_mbb_popt[0], np.sqrt(ggFH_mbb_pcov[0][0]))\n",
    "ggFH_mbb_b = ufloat(ggFH_mbb_popt[1], np.sqrt(ggFH_mbb_pcov[1][1]))\n",
    "\n",
    "ggFH_mbb_ratio, ggFH_mbb_residuals, ggFH_mbb_chi_red, ggFH_mbb_chi = fit_evaluation(gauss_func, mbb_bin_centers, ggFH_mbb_counts, np.mean(ggFH_mbb_err, axis=0), ggFH_mbb_popt)\n",
    "\n",
    "ggFH_mbb_legend = get_legend(ggFH_mbb_popt, ggFH_mbb_pcov, ggFH_mbb_chi_red, gauss_labels, gauss_units)"
   ]
  },
  {
   "cell_type": "code",
   "execution_count": null,
   "id": "ba6a5c52-f3f0-45c8-80e0-08802fc7d876",
   "metadata": {
    "scrolled": true
   },
   "outputs": [],
   "source": [
    "ggFH_mbb_popt, ggFH_mbb_pcov, ggFH_mbb_counts, mbb_bin_centers"
   ]
  },
  {
   "cell_type": "code",
   "execution_count": null,
   "id": "a17be213-07c3-4aac-be89-0b4a53b2656a",
   "metadata": {},
   "outputs": [],
   "source": [
    "plt.title(r'ggFH (m$_{b\\bar{b}}$) - Y=3')\n",
    "plt.xlabel(r'm$_{b\\bar{b}}$ [GeV]')\n",
    "\n",
    "plt.xticks(np.linspace(mbb_min,mbb_max,6),(np.linspace(mbb_min,mbb_max,6)/1e3).astype(int))\n",
    "\n",
    "\n",
    "plt.plot(mbb_plot, gauss_func(mbb_plot,*ggFH_mbb_popt), color='orange', linewidth=1.5, zorder=5, \\\n",
    "        label=ggFH_mbb_legend)\n",
    "\n",
    "plt.errorbar(mbb_bin_centers, ggFH_mbb_counts, yerr=ggFH_mbb_err, marker='x', color='blue', ls='')\n",
    "\n",
    "_, _, _ =plt.hist(ggFH_mbb, bins=mbb_bins, range=mbb_range, color='white',\\\n",
    "                                    edgecolor='white', weights=ggFH_weights)\n",
    "\n",
    "_=plt.legend(handlelength=0)\n",
    "\n",
    "#plt.savefig('./Plots/Y0-mbb/ggFH_mbb_Y0.pdf', format='pdf')"
   ]
  },
  {
   "cell_type": "code",
   "execution_count": null,
   "id": "8f2e5f3a-2f53-4c12-a8dd-32ca60422c3d",
   "metadata": {},
   "outputs": [],
   "source": [
    "plot_ratio_red(mbb_bin_centers, ggFH_mbb_ratio, ggFH_mbb_residuals, r'ggFH - Y=3', 'mbb')"
   ]
  },
  {
   "cell_type": "markdown",
   "id": "a7931838-9411-49df-9bda-227a9ff826b7",
   "metadata": {},
   "source": [
    "---"
   ]
  },
  {
   "cell_type": "markdown",
   "id": "34e08c14-1bd4-4240-8084-80245fd9081d",
   "metadata": {},
   "source": [
    "### ggFH - m$_{\\gamma\\gamma}$"
   ]
  },
  {
   "cell_type": "code",
   "execution_count": null,
   "id": "5fd29a6e-c619-452d-9c01-4fda34c43e88",
   "metadata": {},
   "outputs": [],
   "source": [
    "ggFH_myy *= 1e3"
   ]
  },
  {
   "cell_type": "code",
   "execution_count": null,
   "id": "a1a9d421-9cce-4931-9707-66495f3eb8b7",
   "metadata": {},
   "outputs": [],
   "source": [
    "ggFH_myy_counts, ggFH_myy_bins, _ = plt.hist(ggFH_myy, bins=myy_bins, range=myy_range, color='blue',\\\n",
    "                                    edgecolor='black', weights=ggFH_weights)\n",
    "\n",
    "ggFH_myy_err = get_poisson_errors(ggFH_myy_counts, ggFH_weights)\n",
    "\n",
    "#ggFH_myy_err = ggFH_myy_err[ggFH_myy_counts > 0]\n",
    "#ggFH_myy_bins = ggFH_myy_bins[:-1][ggFH_myy_counts > 0] + (myy_max-myy_min)/myy_bin_num/2\n",
    "#ggFH_myy_counts = ggFH_myy_counts[ggFH_myy_counts > 0]\n",
    "\n",
    "plt.errorbar(myy_bin_centers, ggFH_myy_counts, yerr=ggFH_myy_err, marker='x', color='orange', ls='')"
   ]
  },
  {
   "cell_type": "code",
   "execution_count": null,
   "id": "77d9d367-1196-458f-8161-04906ef7a5f5",
   "metadata": {},
   "outputs": [],
   "source": [
    "ggFH_myy_popt, ggFH_myy_pcov = curve_fit(dscb_func, myy_bin_centers, ggFH_myy_counts, p0=[125e3, 2.6e3, 1.64, 1.41, \\\n",
    "       5, 13, 0.14], sigma=np.mean(ggFH_myy_err, axis=0), absolute_sigma=True)\n",
    "\n",
    "ggFH_myy_mu, ggFH_myy_sig, ggFH_myy_aL, ggFH_myy_aR, ggFH_myy_nL, ggFH_myy_nR, ggFH_myy_N \\\n",
    "= get_params_dscb(ggFH_myy_popt, ggFH_myy_pcov, '')\n",
    "\n",
    "ggFH_myy_ratio, ggFH_myy_residuals, ggFH_myy_chi_red, ggFH_myy_chi = \\\n",
    "fit_evaluation(dscb_func, myy_bin_centers, ggFH_myy_counts, np.mean(ggFH_myy_err, axis=0), ggFH_myy_popt)\n",
    "\n",
    "ggFH_myy_legend = get_legend(ggFH_myy_popt, ggFH_myy_pcov, ggFH_myy_chi_red, dscb_labels, dscb_units)"
   ]
  },
  {
   "cell_type": "code",
   "execution_count": null,
   "id": "1c79f0f6-050f-4c9e-86fc-eec91b7a1003",
   "metadata": {},
   "outputs": [],
   "source": [
    "plt.title(r'ggFH (m$_{\\gamma\\gamma}$) - Y=3')\n",
    "plt.xlabel(r'm$_{\\gamma\\gamma}$ [GeV]')\n",
    "\n",
    "plt.xticks(np.linspace(myy_min,myy_max,7),(np.linspace(myy_min,myy_max,7)/1e3).astype(int))\n",
    "\n",
    "plt.plot(myy_plot, dscb_func(myy_plot,*ggFH_myy_popt), color='orange', linewidth=1.5, zorder=5, \\\n",
    "        label=ggFH_myy_legend)\n",
    "\n",
    "plt.errorbar(myy_bin_centers, ggFH_myy_counts, yerr=ggFH_myy_err, marker='x', color='blue', ls='')\n",
    "\n",
    "_, _, _ =plt.hist(ggFH_myy, bins=myy_bins, range=myy_range, color='white',\\\n",
    "                                    edgecolor='white', weights=ggFH_weights)\n",
    "\n",
    "_=plt.legend(handlelength=0)\n",
    "\n",
    "#plt.savefig('./Plots/Y0-myy/ggFH_myy_Y0.pdf', format='pdf')"
   ]
  },
  {
   "cell_type": "code",
   "execution_count": null,
   "id": "c9b40d20-2bb2-4de5-9bdd-261f78289a20",
   "metadata": {},
   "outputs": [],
   "source": [
    "plot_ratio_red(myy_bin_centers, ggFH_myy_ratio, ggFH_myy_residuals, r'ggFH - Y=3', 'myy')"
   ]
  },
  {
   "cell_type": "markdown",
   "id": "9d5f188e-af6d-4b3f-aecc-ecb17db3fbb2",
   "metadata": {},
   "source": [
    "---\n",
    "---"
   ]
  },
  {
   "cell_type": "markdown",
   "id": "d7067700-832c-4e61-a1c0-f039a27c5a89",
   "metadata": {},
   "source": [
    "## ttH"
   ]
  },
  {
   "cell_type": "code",
   "execution_count": null,
   "id": "540732d8-3afb-4d96-90a0-7cac06c0b6aa",
   "metadata": {},
   "outputs": [],
   "source": [
    "ttH_mbb, ttH_myy, ttH_weights = read_data_sens('ttH',3)"
   ]
  },
  {
   "cell_type": "markdown",
   "id": "3318fb47-41fc-49e5-825d-2e6826cb7c4d",
   "metadata": {},
   "source": [
    "### ttH - m$_{b\\bar{b}}$"
   ]
  },
  {
   "cell_type": "code",
   "execution_count": null,
   "id": "b87dc9ec-0047-4b9c-958f-9aac29f84703",
   "metadata": {},
   "outputs": [],
   "source": [
    "#ttH_mbb_err = get_errors(ttH_mbb, ttH_weights, mbb_bins, mbb_bin_num)"
   ]
  },
  {
   "cell_type": "code",
   "execution_count": null,
   "id": "ad5de328-b14b-41cd-bc8c-eeb9a9ddb050",
   "metadata": {},
   "outputs": [],
   "source": [
    "ttH_mbb_counts, ttH_mbb_bins, _ = plt.hist(ttH_mbb, bins=mbb_bin_num, range=mbb_range, color='blue',\\\n",
    "                                    edgecolor='black', weights=ttH_weights)\n",
    "\n",
    "ttH_mbb_err = get_poisson_errors(ttH_mbb_counts, ttH_weights)\n",
    "\n",
    "plt.errorbar(mbb_bin_centers, ttH_mbb_counts, yerr=ttH_mbb_err, marker='x', color='orange', ls='')"
   ]
  },
  {
   "cell_type": "code",
   "execution_count": null,
   "id": "33a36ddc-623a-4ca1-97a8-94c7a66ef3a2",
   "metadata": {},
   "outputs": [],
   "source": [
    "ttH_mbb_popt, ttH_mbb_pcov = curve_fit(dscb_func, mbb_bin_centers, ttH_mbb_counts, \\\n",
    "                                       p0 = [124000,25000,0.8,0.8,25,25,0.008], sigma=np.mean(ttH_mbb_err, axis=0), absolute_sigma=True)\n",
    "\n",
    "ttH_mbb_ratio, ttH_mbb_residuals, ttH_mbb_chi_red, ttH_mbb_chi = fit_evaluation(dscb_func, mbb_bin_centers, ttH_mbb_counts, np.mean(ttH_mbb_err, axis=0), ttH_mbb_popt)\n",
    "\n",
    "ttH_mbb_legend = get_legend(ttH_mbb_popt, ttH_mbb_pcov, ttH_mbb_chi_red, dscb_labels, dscb_units)\n",
    "\n",
    "ttH_mbb_popt, ttH_mbb_pcov"
   ]
  },
  {
   "cell_type": "code",
   "execution_count": null,
   "id": "166b1742-b181-498e-a162-48b9cad3686b",
   "metadata": {},
   "outputs": [],
   "source": [
    "plt.title(r'ttH (m$_{b\\bar{b}}$) - Y=3')\n",
    "plt.xlabel(r'm$_{b\\bar{b}}$ [GeV]')\n",
    "\n",
    "plt.xticks(np.linspace(mbb_min,mbb_max,6),(np.linspace(mbb_min,mbb_max,6)/1e3).astype(int))\n",
    "\n",
    "\n",
    "plt.plot(mbb_plot, dscb_func(mbb_plot,*ttH_mbb_popt), color='orange', linewidth=1.5, zorder=5, \\\n",
    "        label=ttH_mbb_legend)\n",
    "\n",
    "plt.errorbar(mbb_bin_centers, ttH_mbb_counts, yerr=ttH_mbb_err, marker='x', color='blue', ls='')\n",
    "\n",
    "_, _, _ =plt.hist(ttH_mbb, bins=mbb_bins, range=mbb_range, color='white',\\\n",
    "                                    edgecolor='white', weights=ttH_weights)\n",
    "\n",
    "_=plt.legend(handlelength=0, fontsize=6)\n",
    "\n",
    "#plt.savefig('./Plots/Y0-mbb/ttH_mbb_Y0.pdf', format='pdf')"
   ]
  },
  {
   "cell_type": "code",
   "execution_count": null,
   "id": "6a15f782-6d51-4987-8142-5665657e3b73",
   "metadata": {},
   "outputs": [],
   "source": [
    "plot_ratio_red(mbb_bin_centers, ttH_mbb_ratio, ttH_mbb_residuals, r'ttH - Y=3', 'mbb')"
   ]
  },
  {
   "cell_type": "markdown",
   "id": "b7d7d6cd-7a58-4c2c-b154-86ef4e8274e7",
   "metadata": {},
   "source": [
    "---"
   ]
  },
  {
   "cell_type": "markdown",
   "id": "bb207a91-3629-4c5f-a2d3-7541f2a4e294",
   "metadata": {},
   "source": [
    "### ttH - m$_{\\gamma\\gamma}$"
   ]
  },
  {
   "cell_type": "code",
   "execution_count": null,
   "id": "f873e75c-8d0e-4e68-8b37-7381d35e3753",
   "metadata": {},
   "outputs": [],
   "source": [
    "ttH_myy *= 1e3"
   ]
  },
  {
   "cell_type": "code",
   "execution_count": null,
   "id": "2c9ccdf5-0f38-457a-8dd6-27a201b02cb9",
   "metadata": {},
   "outputs": [],
   "source": [
    "ttH_myy_counts, ttH_myy_bins, _ = plt.hist(ttH_myy, bins=myy_bins, range=myy_range, color='blue',\\\n",
    "                                    edgecolor='black', weights=ttH_weights)\n",
    "\n",
    "ttH_myy_err = get_poisson_errors(ttH_myy_counts, ttH_weights)\n",
    "\n",
    "plt.errorbar(myy_bin_centers, ttH_myy_counts, yerr=ttH_myy_err, marker='x', color='orange', ls='')"
   ]
  },
  {
   "cell_type": "code",
   "execution_count": null,
   "id": "db23b62f-ce3f-48c7-8b26-496745a31eb8",
   "metadata": {},
   "outputs": [],
   "source": [
    "ttH_myy_popt, ttH_myy_pcov = curve_fit(dscb_func, myy_bin_centers, ttH_myy_counts, p0=[125e3, 3.5e3, 1.64, 1.64612321e+00, \\\n",
    "       1.3, 13, 0.05], sigma=np.mean(ttH_myy_err, axis=0), absolute_sigma=True)\n",
    "\n",
    "ttH_myy_mu, ttH_myy_sig, ttH_myy_aL, ttH_myy_aR, ttH_myy_nL, ttH_myy_nR, ttH_myy_N \\\n",
    "= get_params_dscb(ttH_myy_popt, ttH_myy_pcov, '')\n",
    "\n",
    "ttH_myy_ratio, ttH_myy_residuals, ttH_myy_chi_red, ttH_myy_chi = fit_evaluation(dscb_func, myy_bin_centers, ttH_myy_counts, np.mean(ttH_myy_err, axis=0), ttH_myy_popt)\n",
    "\n",
    "ttH_myy_legend = get_legend(ttH_myy_popt, ttH_myy_pcov, ttH_myy_chi_red, dscb_labels, dscb_units)"
   ]
  },
  {
   "cell_type": "code",
   "execution_count": null,
   "id": "463137cd-d6a6-41cf-9d4e-5ba04641adc0",
   "metadata": {},
   "outputs": [],
   "source": [
    "plt.title(r'ttH (m$_{\\gamma\\gamma}$) - Y=3')\n",
    "plt.xlabel(r'm$_{\\gamma\\gamma}$ [GeV]')\n",
    "\n",
    "plt.xticks(np.linspace(myy_min,myy_max,7),(np.linspace(myy_min,myy_max,7)/1e3).astype(int))\n",
    "\n",
    "plt.plot(myy_plot, dscb_func(myy_plot,*ttH_myy_popt), color='orange', linewidth=1.5, zorder=5, \\\n",
    "        label=ttH_myy_legend)\n",
    "\n",
    "plt.errorbar(myy_bin_centers, ttH_myy_counts, yerr=ttH_myy_err, marker='x', color='blue', ls='')\n",
    "\n",
    "_, _, _ =plt.hist(ttH_myy, bins=myy_bins, range=myy_range, color='white',\\\n",
    "                                    edgecolor='white', weights=ttH_weights)\n",
    "\n",
    "_=plt.legend(handlelength=0)\n",
    "\n",
    "#plt.savefig('./Plots/Y0-myy/ttH_myy_Y0.pdf', format='pdf')"
   ]
  },
  {
   "cell_type": "code",
   "execution_count": null,
   "id": "ec9c17db-342c-4b03-9629-8b4b24ab0598",
   "metadata": {},
   "outputs": [],
   "source": [
    "plot_ratio_red(myy_bin_centers, ttH_myy_ratio, ttH_myy_residuals, r'ttH - Y=3', 'myy')"
   ]
  },
  {
   "cell_type": "markdown",
   "id": "a7b2ec52-c362-473f-a3e3-a369b693aa1f",
   "metadata": {},
   "source": [
    "---\n",
    "---"
   ]
  },
  {
   "cell_type": "markdown",
   "id": "d22182a9-2bac-4b19-8578-ef65a6c654a9",
   "metadata": {},
   "source": [
    "## qqZH"
   ]
  },
  {
   "cell_type": "code",
   "execution_count": null,
   "id": "c46fc001-8a4f-4e48-9a9d-035a57c9b96b",
   "metadata": {},
   "outputs": [],
   "source": [
    "qqZH_mbb, qqZH_myy, qqZH_weights = read_data_sens('qqZH',3)"
   ]
  },
  {
   "cell_type": "markdown",
   "id": "6219a41c-9f0d-4c6c-8a2a-93965d00bb73",
   "metadata": {},
   "source": [
    "### qqZH - m$_{b\\bar{b}}$"
   ]
  },
  {
   "cell_type": "code",
   "execution_count": null,
   "id": "ddab24b5-1f40-4078-b790-a948849a5d61",
   "metadata": {},
   "outputs": [],
   "source": [
    "#qqZH_mbb_err = get_errors(qqZH_mbb, qqZH_weights, mbb_bins, mbb_bin_num)"
   ]
  },
  {
   "cell_type": "code",
   "execution_count": null,
   "id": "6288f385-c352-48f3-a971-49652a00e5ef",
   "metadata": {},
   "outputs": [],
   "source": [
    "qqZH_mbb_counts, qqZH_mbb_bins, _ = plt.hist(qqZH_mbb, bins=mbb_bins, range=mbb_range, color='blue',\\\n",
    "                                    edgecolor='black', weights=qqZH_weights)\n",
    "\n",
    "qqZH_mbb_err = get_poisson_errors(qqZH_mbb_counts, qqZH_weights)\n",
    "\n",
    "plt.errorbar(mbb_bin_centers, qqZH_mbb_counts, yerr=qqZH_mbb_err, marker='x', color='orange', ls='')"
   ]
  },
  {
   "cell_type": "code",
   "execution_count": null,
   "id": "89106eb2-d036-42c9-960d-d32df03bff02",
   "metadata": {},
   "outputs": [],
   "source": [
    "qqZH_mbb_popt, qqZH_mbb_pcov = curve_fit(cb_func, mbb_bin_centers, qqZH_mbb_counts, \\\n",
    "                                       p0 = [90e3, 5e3, 0.5, 5, 0.07], sigma=np.mean(qqZH_mbb_err, axis=0), absolute_sigma=True)\n",
    "\n",
    "qqZH_mbb_ratio, qqZH_mbb_residuals, qqZH_mbb_chi_red, qqZH_mbb_chi = fit_evaluation(cb_func, mbb_bin_centers, qqZH_mbb_counts, np.mean(qqZH_mbb_err, axis=0), qqZH_mbb_popt)\n",
    "\n",
    "qqZH_mbb_legend = get_legend(qqZH_mbb_popt, qqZH_mbb_pcov, qqZH_mbb_chi_red, cb_labels, cb_units)"
   ]
  },
  {
   "cell_type": "code",
   "execution_count": null,
   "id": "30de832e-51fe-4c81-8bfa-a787e141bc36",
   "metadata": {},
   "outputs": [],
   "source": [
    "plt.title(r'qqZH (m$_{b\\bar{b}}$) - Y=3')\n",
    "plt.xlabel(r'm$_{b\\bar{b}}$ [GeV]')\n",
    "\n",
    "plt.xticks(np.linspace(mbb_min,mbb_max,6),(np.linspace(mbb_min,mbb_max,6)/1e3).astype(int))\n",
    "\n",
    "\n",
    "plt.plot(mbb_plot, cb_func(mbb_plot,*qqZH_mbb_popt), color='orange', linewidth=1.5, zorder=5, \\\n",
    "        label=qqZH_mbb_legend)\n",
    "\n",
    "plt.errorbar(mbb_bin_centers, qqZH_mbb_counts, yerr=qqZH_mbb_err, marker='x', color='blue', ls='')\n",
    "\n",
    "_, _, _ =plt.hist(qqZH_mbb, bins=mbb_bins, range=mbb_range, color='white',\\\n",
    "                                    edgecolor='white', weights=qqZH_weights)\n",
    "\n",
    "_=plt.legend(handlelength=0)\n",
    "\n",
    "#plt.savefig('./Plots/Y0-mbb/qqZH_mbb_Y0.pdf', format='pdf')"
   ]
  },
  {
   "cell_type": "code",
   "execution_count": null,
   "id": "4d6b69a7-48da-4e1e-8800-6bf7d5b54aad",
   "metadata": {},
   "outputs": [],
   "source": [
    "plt.ylim(0,4)\n",
    "\n",
    "plot_ratio_red(mbb_bin_centers, qqZH_mbb_ratio, qqZH_mbb_residuals, r'qqZH - Y=3', 'mbb')"
   ]
  },
  {
   "cell_type": "markdown",
   "id": "9653e263-3dbd-479f-9ddf-b1434d26bcd8",
   "metadata": {},
   "source": [
    "---"
   ]
  },
  {
   "cell_type": "markdown",
   "id": "9cf0b00b-d4b6-4119-b425-7a22c8f7f574",
   "metadata": {},
   "source": [
    "### qqZH - m$_{\\gamma\\gamma}$"
   ]
  },
  {
   "cell_type": "code",
   "execution_count": null,
   "id": "7c025ce6-03c7-4b42-9283-aa0fb81781de",
   "metadata": {},
   "outputs": [],
   "source": [
    "qqZH_myy *= 1e3"
   ]
  },
  {
   "cell_type": "code",
   "execution_count": null,
   "id": "8398d12a-8b6a-44eb-aec9-39671937031c",
   "metadata": {},
   "outputs": [],
   "source": [
    "qqZH_myy_counts, qqZH_myy_bins, _ = plt.hist(qqZH_myy, bins=myy_bins, range=myy_range, color='blue',\\\n",
    "                                    edgecolor='black', weights=qqZH_weights)\n",
    "\n",
    "qqZH_myy_err = get_poisson_errors(qqZH_myy_counts, qqZH_weights)\n",
    "\n",
    "#qqZH_myy_err = qqZH_myy_err[qqZH_myy_counts > 0]\n",
    "#qqZH_myy_bins = qqZH_myy_bins[:-1][qqZH_myy_counts > 0] + (myy_max-myy_min)/myy_bin_num/2\n",
    "#qqZH_myy_counts = qqZH_myy_counts[qqZH_myy_counts > 0]\n",
    "\n",
    "plt.errorbar(myy_bin_centers, qqZH_myy_counts, yerr=qqZH_myy_err, marker='x', color='orange', ls='')"
   ]
  },
  {
   "cell_type": "code",
   "execution_count": null,
   "id": "ba51459e-7aa1-4eb2-b944-fe7bc79e306d",
   "metadata": {},
   "outputs": [],
   "source": [
    "qqZH_myy_popt, qqZH_myy_pcov = curve_fit(dscb_func, myy_bin_centers, qqZH_myy_counts, p0=[125e3, 2.5e3, 1.64, 1.64612321e+00, \\\n",
    "       4, 12, 0.16], sigma=np.mean(qqZH_myy_err, axis=0), absolute_sigma=True)\n",
    "\n",
    "qqZH_myy_mu, ggFH_myy_sig, qqZH_myy_aL, qqZH_myy_aR, qqZH_myy_nL, qqZH_myy_nR, qqZH_myy_N \\\n",
    "= get_params_dscb(qqZH_myy_popt, qqZH_myy_pcov, '')\n",
    "\n",
    "qqZH_myy_ratio, qqZH_myy_residuals, qqZH_myy_chi_red, qqZH_myy_chi = fit_evaluation(dscb_func, myy_bin_centers, qqZH_myy_counts, np.mean(qqZH_myy_err, axis=0), qqZH_myy_popt)\n",
    "\n",
    "qqZH_myy_legend = get_legend(qqZH_myy_popt, qqZH_myy_pcov, qqZH_myy_chi_red, dscb_labels, dscb_units)"
   ]
  },
  {
   "cell_type": "code",
   "execution_count": null,
   "id": "f5dd58b1-e9b1-4d72-a5eb-2ed17a2d7bf3",
   "metadata": {},
   "outputs": [],
   "source": [
    "plt.title(r'qqZH (m$_{\\gamma\\gamma}$) - Y=3')\n",
    "plt.xlabel(r'm$_{\\gamma\\gamma}$ [GeV]')\n",
    "\n",
    "plt.xticks(np.linspace(myy_min,myy_max,7),(np.linspace(myy_min,myy_max,7)/1e3).astype(int))\n",
    "\n",
    "plt.plot(myy_plot, dscb_func(myy_plot,*qqZH_myy_popt), color='orange', linewidth=1.5, zorder=5, \\\n",
    "        label=qqZH_myy_legend)\n",
    "\n",
    "plt.errorbar(myy_bin_centers, qqZH_myy_counts, yerr=qqZH_myy_err, marker='x', color='blue', ls='')\n",
    "\n",
    "_, _, _ =plt.hist(qqZH_myy, bins=myy_bins, range=myy_range, color='white',\\\n",
    "                                    edgecolor='white', weights=qqZH_weights)\n",
    "\n",
    "_=plt.legend(handlelength=0)\n",
    "\n",
    "#plt.savefig('./Plots/Y0-myy/qqZH_myy_Y0.pdf', format='pdf')"
   ]
  },
  {
   "cell_type": "code",
   "execution_count": null,
   "id": "08537a93-eed5-4a2a-9954-f6344155cb68",
   "metadata": {},
   "outputs": [],
   "source": [
    "plt.ylim(0,4)\n",
    "\n",
    "plot_ratio_red(myy_bin_centers, qqZH_myy_ratio, qqZH_myy_residuals, 'qqZH - Y=3', 'myy')"
   ]
  },
  {
   "cell_type": "markdown",
   "id": "f6f447b5-2719-4801-b173-7189faf84c5d",
   "metadata": {},
   "source": [
    "---\n",
    "---"
   ]
  },
  {
   "cell_type": "markdown",
   "id": "876f801c-26a2-4527-9000-512ab825febf",
   "metadata": {},
   "source": [
    "## yybb"
   ]
  },
  {
   "cell_type": "code",
   "execution_count": null,
   "id": "8a121267-f012-4a59-8daf-6946cbc57136",
   "metadata": {},
   "outputs": [],
   "source": [
    "yybb_mbb, yybb_myy, yybb_weights = read_data_sens('yybb',3)"
   ]
  },
  {
   "cell_type": "markdown",
   "id": "39398b35-72c7-4def-b640-7f46b2d7b2c2",
   "metadata": {},
   "source": [
    "### yybb - m$_{b\\bar{b}}$"
   ]
  },
  {
   "cell_type": "code",
   "execution_count": null,
   "id": "f64a0976-33f7-4434-a3ac-b3e24220a5ef",
   "metadata": {},
   "outputs": [],
   "source": [
    "yybb_mbb_counts, yybb_mbb_bins, _ = plt.hist(yybb_mbb, bins=mbb_bins, range=mbb_range, color='blue',\\\n",
    "                                    edgecolor='black', weights=yybb_weights)\n",
    "\n",
    "yybb_mbb_err = get_poisson_errors(yybb_mbb_counts, yybb_weights)\n",
    "\n",
    "plt.errorbar(mbb_bin_centers, yybb_mbb_counts, yerr=yybb_mbb_err, marker='x', color='orange', ls='')"
   ]
  },
  {
   "cell_type": "code",
   "execution_count": null,
   "id": "e5b2c0d8-aaed-43f0-99d4-5581ac40cc64",
   "metadata": {},
   "outputs": [],
   "source": [
    "yybb_mbb_popt, yybb_mbb_pcov = curve_fit(cb_func, mbb_bin_centers, yybb_mbb_counts, \\\n",
    "                                         p0=[110e3, 20e3, 1.5, 5, 1.75], \\\n",
    "                                         sigma=np.mean(yybb_mbb_err, axis=0), absolute_sigma=True)\n",
    "\n",
    "yybb_mbb_a = ufloat(yybb_mbb_popt[0], np.sqrt(yybb_mbb_pcov[0][0]))\n",
    "yybb_mbb_b = ufloat(yybb_mbb_popt[1], np.sqrt(yybb_mbb_pcov[1][1]))\n",
    "\n",
    "yybb_mbb_ratio, yybb_mbb_residuals, yybb_mbb_chi_red, yybb_mbb_chi = fit_evaluation(cb_func, mbb_bin_centers, yybb_mbb_counts, np.mean(yybb_mbb_err, axis=0), yybb_mbb_popt)\n",
    "\n",
    "yybb_mbb_legend = get_legend(yybb_mbb_popt, yybb_mbb_pcov, yybb_mbb_chi_red, cb_labels, cb_units)"
   ]
  },
  {
   "cell_type": "code",
   "execution_count": null,
   "id": "6ab9af81-4801-4cd9-af06-8159077eaa1d",
   "metadata": {},
   "outputs": [],
   "source": [
    "plt.title(r'yybb (m$_{b\\bar{b}}$) - Y=3')\n",
    "plt.xlabel(r'm$_{b\\bar{b}}$ [GeV]')\n",
    "\n",
    "plt.xticks(np.linspace(mbb_min,mbb_max,6),(np.linspace(mbb_min,mbb_max,6)/1e3).astype(int))\n",
    "\n",
    "\n",
    "plt.plot(mbb_plot, cb_func(mbb_plot,*yybb_mbb_popt), color='orange', linewidth=1.5, zorder=5, \\\n",
    "        label=yybb_mbb_legend)\n",
    "\n",
    "plt.errorbar(mbb_bin_centers, yybb_mbb_counts, yerr=yybb_mbb_err, marker='x', color='blue', ls='')\n",
    "\n",
    "_, _, _ =plt.hist(yybb_mbb, bins=mbb_bins, range=mbb_range, color='white',\\\n",
    "                                    edgecolor='white', weights=yybb_weights)\n",
    "\n",
    "_=plt.legend(handlelength=0)\n",
    "\n",
    "#plt.savefig('./Plots/Y0-mbb/yybb_mbb_Y0.pdf', format='pdf')"
   ]
  },
  {
   "cell_type": "code",
   "execution_count": null,
   "id": "b6a00ae9-37ad-4df0-8a2f-09e8cb262f73",
   "metadata": {},
   "outputs": [],
   "source": [
    "plt.ylim(0,4)\n",
    "\n",
    "plot_ratio_red(mbb_bin_centers, yybb_mbb_ratio, yybb_mbb_residuals, r'yybb - Y=3', 'mbb')"
   ]
  },
  {
   "cell_type": "markdown",
   "id": "bdd579e5-015a-4596-a3cf-cbbe132c435e",
   "metadata": {},
   "source": [
    "---"
   ]
  },
  {
   "cell_type": "markdown",
   "id": "1dba223b-d8d5-446a-9e60-307b5e94c3c6",
   "metadata": {},
   "source": [
    "### yybb - m$_{\\gamma\\gamma}$"
   ]
  },
  {
   "cell_type": "code",
   "execution_count": null,
   "id": "9956ba76-2e28-4cef-8116-b415faee0f93",
   "metadata": {},
   "outputs": [],
   "source": [
    "yybb_myy *= 1e3"
   ]
  },
  {
   "cell_type": "code",
   "execution_count": null,
   "id": "890173fd-956d-44db-85d3-9467f29832f6",
   "metadata": {},
   "outputs": [],
   "source": [
    "yybb_myy_counts, yybb_myy_bins, _ = plt.hist(yybb_myy, bins=myy_bins, range=myy_range, color='blue',\\\n",
    "                                    edgecolor='black', weights=yybb_weights)\n",
    "\n",
    "yybb_myy_err = get_poisson_errors(yybb_myy_counts, yybb_weights)\n",
    "\n",
    "plt.errorbar(myy_bin_centers, yybb_myy_counts, yerr=yybb_myy_err, marker='x', color='orange', ls='')"
   ]
  },
  {
   "cell_type": "code",
   "execution_count": null,
   "id": "912a734d-4ba7-432b-85a7-94025f4aaee2",
   "metadata": {},
   "outputs": [],
   "source": [
    "yybb_myy_popt, yybb_myy_pcov = curve_fit(exp_fit, myy_bin_centers, yybb_myy_counts, p0=[0.7,1.54e-5], \\\n",
    "                                         sigma=np.mean(yybb_myy_err, axis=0), absolute_sigma=True)\n",
    "\n",
    "yybb_myy_ratio, yybb_myy_residuals, yybb_myy_chi_red, yybb_myy_chi = fit_evaluation(exp_fit, myy_bin_centers, yybb_myy_counts, np.mean(yybb_myy_err, axis=0), yybb_myy_popt)\n",
    "\n",
    "yybb_myy_legend = get_legend(yybb_myy_popt, yybb_myy_pcov, yybb_myy_chi_red, exp_fit_labels, exp_fit_units)"
   ]
  },
  {
   "cell_type": "code",
   "execution_count": null,
   "id": "750ebae6-1692-4083-ae06-11ce01e33a2a",
   "metadata": {},
   "outputs": [],
   "source": [
    "plt.title(r'yybb (m$_{\\gamma\\gamma}$) - Y=3')\n",
    "plt.xlabel(r'm$_{\\gamma\\gamma}$ [GeV]')\n",
    "\n",
    "plt.xticks(np.linspace(myy_min,myy_max,7),(np.linspace(myy_min,myy_max,7)/1e3).astype(int))\n",
    "\n",
    "plt.plot(myy_plot, exp_fit(myy_plot,*yybb_myy_popt), color='orange', linewidth=1.5, zorder=5, \\\n",
    "        label=yybb_myy_legend)\n",
    "\n",
    "plt.errorbar(myy_bin_centers, yybb_myy_counts, yerr=yybb_myy_err, marker='x', color='blue', ls='')\n",
    "\n",
    "_, _, _ =plt.hist(yybb_myy, bins=myy_bins, range=myy_range, color='white',\\\n",
    "                                    edgecolor='white', weights=yybb_weights)\n",
    "\n",
    "_=plt.legend(handlelength=0)\n",
    "\n",
    "#plt.savefig('./Plots/Y0-myy/yybb_myy_Y0.pdf', format='pdf')"
   ]
  },
  {
   "cell_type": "code",
   "execution_count": null,
   "id": "6eb5327d-cd2c-44e2-94ce-426045f16ac2",
   "metadata": {},
   "outputs": [],
   "source": [
    "plot_ratio_red(myy_bin_centers, yybb_myy_ratio, yybb_myy_residuals, r'yybb - Y=3', 'myy')"
   ]
  },
  {
   "cell_type": "markdown",
   "id": "39cf1561-dc18-4d2f-826d-aa3b6128008c",
   "metadata": {},
   "source": [
    "---\n",
    "---"
   ]
  },
  {
   "cell_type": "markdown",
   "id": "4f1c9205-c991-4677-b050-c6024659a210",
   "metadata": {},
   "source": [
    "## ggFHH_kl1"
   ]
  },
  {
   "cell_type": "code",
   "execution_count": null,
   "id": "a8c92928-cfee-4a9c-8eb9-2f2d0b5a4a9a",
   "metadata": {},
   "outputs": [],
   "source": [
    "ggFHH_kl1_mbb, ggFHH_kl1_myy, ggFHH_kl1_weights = read_data_sens('ggFHH_kl1',3)"
   ]
  },
  {
   "cell_type": "markdown",
   "id": "5fd64a07-20c7-4025-a917-6a18c81bea9e",
   "metadata": {},
   "source": [
    "### ggFHH_kl1 - m$_{b\\bar{b}}$"
   ]
  },
  {
   "cell_type": "code",
   "execution_count": null,
   "id": "f92c6a69-d009-4229-b55a-6ab2a4e87ed8",
   "metadata": {},
   "outputs": [],
   "source": [
    "#ggFHH_kl1_mbb_err = get_errors(ggFHH_kl1_mbb, ggFHH_kl1_weights, mbb_bins, mbb_bin_num)"
   ]
  },
  {
   "cell_type": "code",
   "execution_count": null,
   "id": "8671b407-8a2a-413e-9d64-1e85ed1e4e74",
   "metadata": {},
   "outputs": [],
   "source": [
    "ggFHH_kl1_mbb_counts, ggFHH_kl1_mbb_bins, _ = plt.hist(ggFHH_kl1_mbb, bins=mbb_bins, range=mbb_range, color='blue',\\\n",
    "                                    edgecolor='black', weights=ggFHH_kl1_weights)\n",
    "\n",
    "ggFHH_kl1_mbb_err = get_poisson_errors(ggFHH_kl1_mbb_counts, ggFHH_kl1_weights)\n",
    "\n",
    "plt.errorbar(mbb_bin_centers, ggFHH_kl1_mbb_counts, yerr=ggFHH_kl1_mbb_err, marker='x', color='orange', ls='')"
   ]
  },
  {
   "cell_type": "code",
   "execution_count": null,
   "id": "e86d3d63-921b-492a-823e-fe89f8ee482e",
   "metadata": {},
   "outputs": [],
   "source": [
    "ggFHH_kl1_mbb_popt, ggFHH_kl1_mbb_pcov = \\\n",
    "curve_fit(dscb_func, mbb_bin_centers, ggFHH_kl1_mbb_counts, p0=[120e3,10e3,1.5,1.5,3,3,0.2], \\\n",
    "          sigma=np.mean(ggFHH_kl1_mbb_err, axis=0), absolute_sigma=True)\n",
    "\n",
    "ggFHH_kl1_mbb_ratio, ggFHH_kl1_mbb_residuals, ggFHH_kl1_mbb_chi_red, ggFHH_kl1_mbb_chi \\\n",
    "= fit_evaluation(dscb_func, mbb_bin_centers, ggFHH_kl1_mbb_counts, np.mean(ggFHH_kl1_mbb_err, axis=0), ggFHH_kl1_mbb_popt)\n",
    "\n",
    "ggFHH_kl1_mbb_legend = get_legend(ggFHH_kl1_mbb_popt, ggFHH_kl1_mbb_pcov, ggFHH_kl1_mbb_chi_red, dscb_labels, dscb_units)"
   ]
  },
  {
   "cell_type": "code",
   "execution_count": null,
   "id": "1da8b01c-47e5-40a6-b0c8-aae97a4046b5",
   "metadata": {},
   "outputs": [],
   "source": [
    "plt.title(r'ggFHH_kl1 (m$_{b\\bar{b}}$) - Y=3')\n",
    "plt.xlabel(r'm$_{b\\bar{b}}$ [GeV]')\n",
    "\n",
    "plt.xticks(np.linspace(mbb_min,mbb_max,6),(np.linspace(mbb_min,mbb_max,6)/1e3).astype(int))\n",
    "\n",
    "\n",
    "plt.plot(mbb_plot, dscb_func(mbb_plot,*ggFHH_kl1_mbb_popt), color='orange', linewidth=1.5, zorder=5, \\\n",
    "        label=ggFHH_kl1_mbb_legend)\n",
    "\n",
    "plt.errorbar(mbb_bin_centers, ggFHH_kl1_mbb_counts, yerr=ggFHH_kl1_mbb_err, marker='x', color='blue', ls='')\n",
    "\n",
    "_, _, _ =plt.hist(ggFHH_kl1_mbb, bins=mbb_bins, range=mbb_range, color='white',\\\n",
    "                                    edgecolor='white', weights=ggFHH_kl1_weights)\n",
    "\n",
    "_=plt.legend(handlelength=0)\n",
    "\n",
    "#plt.savefig('./Plots/Y0-mbb/ggFHH_kl1_mbb_Y0.pdf', format='pdf')"
   ]
  },
  {
   "cell_type": "code",
   "execution_count": null,
   "id": "d8a868a3-48ea-4b6b-8043-8bb3531b1a51",
   "metadata": {},
   "outputs": [],
   "source": [
    "plot_ratio_red(mbb_bin_centers, ggFHH_kl1_mbb_ratio, ggFHH_kl1_mbb_residuals, r'ggFHH_kl1 - Y=3', 'mbb')"
   ]
  },
  {
   "cell_type": "markdown",
   "id": "559d5c31-59d3-4822-b53a-29fd52a96f6d",
   "metadata": {},
   "source": [
    "---"
   ]
  },
  {
   "cell_type": "markdown",
   "id": "d623f076-7221-4c7e-a6a7-285e3e1ed08b",
   "metadata": {},
   "source": [
    "### ggFHH_kl1 - m$_{\\gamma\\bar{\\gamma}}$"
   ]
  },
  {
   "cell_type": "code",
   "execution_count": null,
   "id": "09050b91-020b-4591-982f-10d31a608850",
   "metadata": {},
   "outputs": [],
   "source": [
    "ggFHH_kl1_myy *= 1e3"
   ]
  },
  {
   "cell_type": "code",
   "execution_count": null,
   "id": "5e0cfc41-a106-4e00-94e9-280d28cfef09",
   "metadata": {},
   "outputs": [],
   "source": [
    "ggFHH_kl1_myy_counts, ggFHH_kl1_myy_bins, _ = plt.hist(ggFHH_kl1_myy, bins=myy_bins, range=myy_range, color='blue',\\\n",
    "                                    edgecolor='black', weights=ggFHH_kl1_weights)\n",
    "\n",
    "ggFHH_kl1_myy_err = get_poisson_errors(ggFHH_kl1_myy_counts, ggFHH_kl1_weights)\n",
    "\n",
    "plt.errorbar(myy_bin_centers, ggFHH_kl1_myy_counts, yerr=ggFHH_kl1_myy_err, marker='x', color='orange', ls='')"
   ]
  },
  {
   "cell_type": "code",
   "execution_count": null,
   "id": "ab15c122-45dc-4629-941b-5ab60f74ba68",
   "metadata": {},
   "outputs": [],
   "source": [
    "ggFHH_kl1_myy_popt, ggFHH_kl1_myy_pcov = curve_fit(dscb_func, myy_bin_centers, ggFHH_kl1_myy_counts, p0=[125e3, 3.5e3, 1.64, 1.64612321e+00, \\\n",
    "       1.3, 13, 0.5], sigma=np.mean(ggFHH_kl1_myy_err, axis=0), absolute_sigma=True)\n",
    "\n",
    "ggFHH_kl1_myy_ratio, ggFHH_kl1_myy_residuals, ggFHH_kl1_myy_chi_red, ggFHH_kl1_myy_chi \\\n",
    "= fit_evaluation(dscb_func, myy_bin_centers, ggFHH_kl1_myy_counts, np.mean(ggFHH_kl1_myy_err, axis=0), ggFHH_kl1_myy_popt)\n",
    "\n",
    "ggFHH_kl1_myy_legend = get_legend(ggFHH_kl1_myy_popt, ggFHH_kl1_myy_pcov, ggFHH_kl1_myy_chi_red, dscb_labels, dscb_units)"
   ]
  },
  {
   "cell_type": "code",
   "execution_count": null,
   "id": "049cc30a-5b23-4016-8e31-397cd0a4715b",
   "metadata": {},
   "outputs": [],
   "source": [
    "plt.title(r'ggFHH_kl1 (m$_{\\gamma\\gamma}$) - Y=3')\n",
    "plt.xlabel(r'm$_{\\gamma\\gamma}$ [GeV]')\n",
    "\n",
    "plt.xticks(np.linspace(myy_min,myy_max,7),(np.linspace(myy_min,myy_max,7)/1e3).astype(int))\n",
    "\n",
    "plt.plot(myy_plot, dscb_func(myy_plot,*ggFHH_kl1_myy_popt), color='orange', linewidth=1.5, zorder=5, \\\n",
    "        label=ggFHH_kl1_myy_legend)\n",
    "\n",
    "plt.errorbar(myy_bin_centers, ggFHH_kl1_myy_counts, yerr=ggFHH_kl1_myy_err, marker='x', color='blue', ls='')\n",
    "\n",
    "_, _, _ =plt.hist(ggFHH_kl1_myy, bins=myy_bins, range=myy_range, color='white',\\\n",
    "                                    edgecolor='white', weights=ggFHH_kl1_weights)\n",
    "\n",
    "_=plt.legend(handlelength=0)\n",
    "\n",
    "#plt.savefig('./Plots/Y0-myy/ggFHH_kl1_myy_Y0.pdf', format='pdf')"
   ]
  },
  {
   "cell_type": "code",
   "execution_count": null,
   "id": "68701269-fc9d-4706-ba96-c7902becef94",
   "metadata": {},
   "outputs": [],
   "source": [
    "plt.ylim(0,2)\n",
    "\n",
    "plot_ratio_red(myy_bin_centers, ggFHH_kl1_myy_ratio, ggFHH_kl1_myy_residuals, r'ggFHH_kl1 - Y=3', 'myy')"
   ]
  },
  {
   "cell_type": "markdown",
   "id": "e6ab5292-4d31-4cd0-ac38-22b68ac7f388",
   "metadata": {},
   "source": [
    "---\n",
    "---"
   ]
  },
  {
   "cell_type": "markdown",
   "id": "7a8d2acb-8410-479c-909f-fb38431d4183",
   "metadata": {},
   "source": [
    "## ggFHH_kl10"
   ]
  },
  {
   "cell_type": "code",
   "execution_count": null,
   "id": "56cf0d6e-0121-4240-81a3-b42bbff91fac",
   "metadata": {},
   "outputs": [],
   "source": [
    "ggFHH_kl10_mbb, ggFHH_kl10_myy, ggFHH_kl10_weights = read_data_sens('ggFHH_kl10',3)"
   ]
  },
  {
   "cell_type": "markdown",
   "id": "88572f9a-53c7-45d7-bfa9-b82f76074948",
   "metadata": {},
   "source": [
    "### ggFHH_kl10 - m$_{b\\bar{b}}$"
   ]
  },
  {
   "cell_type": "code",
   "execution_count": null,
   "id": "6e9fe8ee-80f4-4732-b9d5-545dfb13e9a7",
   "metadata": {},
   "outputs": [],
   "source": [
    "#ggFHH_kl10_mbb_err = get_errors(ggFHH_kl10_mbb, ggFHH_kl10_weights, mbb_bins, mbb_bin_num)"
   ]
  },
  {
   "cell_type": "code",
   "execution_count": null,
   "id": "a2d5c83d-39da-4e18-b690-94e7e8afae15",
   "metadata": {},
   "outputs": [],
   "source": [
    "ggFHH_kl10_mbb_counts, ggFHH_kl10_mbb_bins, _ = plt.hist(ggFHH_kl10_mbb, bins=mbb_bins, range=mbb_range, color='blue',\\\n",
    "                                    edgecolor='black', weights=ggFHH_kl10_weights)\n",
    "\n",
    "ggFHH_kl10_mbb_err = get_poisson_errors(ggFHH_kl10_mbb_counts, ggFHH_kl10_weights)\n",
    "\n",
    "plt.errorbar(mbb_bin_centers, ggFHH_kl10_mbb_counts, yerr=ggFHH_kl10_mbb_err, marker='x', color='orange', ls='')"
   ]
  },
  {
   "cell_type": "code",
   "execution_count": null,
   "id": "aba27e05-6f00-41cb-baad-1482586436ae",
   "metadata": {},
   "outputs": [],
   "source": [
    "ggFHH_kl10_mbb_popt, ggFHH_kl10_mbb_pcov = \\\n",
    "curve_fit(dscb_func, mbb_bin_centers, ggFHH_kl10_mbb_counts, p0=[120e3,10e3,1.5,1.5,23,23,1.3], \\\n",
    "          sigma=np.mean(ggFHH_kl10_mbb_err, axis=0), absolute_sigma=True)\n",
    "\n",
    "ggFHH_kl10_mbb_ratio, ggFHH_kl10_mbb_residuals, ggFHH_kl10_mbb_chi_red, ggFHH_kl10_mbb_chi \\\n",
    "= fit_evaluation(dscb_func, mbb_bin_centers, ggFHH_kl10_mbb_counts, np.mean(ggFHH_kl10_mbb_err, axis=0), ggFHH_kl10_mbb_popt)\n",
    "\n",
    "ggFHH_kl10_mbb_legend = get_legend(ggFHH_kl10_mbb_popt, ggFHH_kl10_mbb_pcov, ggFHH_kl10_mbb_chi_red, dscb_labels, dscb_units)"
   ]
  },
  {
   "cell_type": "code",
   "execution_count": null,
   "id": "c3af4490-8dfc-4b19-a940-c8266bebc526",
   "metadata": {},
   "outputs": [],
   "source": [
    "plt.title(r'ggFHH_kl10 (m$_{b\\bar{b}}$) - Y=3')\n",
    "plt.xlabel(r'm$_{b\\bar{b}}$ [GeV]')\n",
    "\n",
    "plt.xticks(np.linspace(mbb_min,mbb_max,6),(np.linspace(mbb_min,mbb_max,6)/1e3).astype(int))\n",
    "\n",
    "\n",
    "plt.plot(mbb_plot, dscb_func(mbb_plot,*ggFHH_kl10_mbb_popt), color='orange', linewidth=1.5, zorder=5, \\\n",
    "        label=ggFHH_kl10_mbb_legend)\n",
    "\n",
    "plt.errorbar(mbb_bin_centers, ggFHH_kl10_mbb_counts, yerr=ggFHH_kl10_mbb_err, marker='x', color='blue', ls='')\n",
    "\n",
    "_, _, _ =plt.hist(ggFHH_kl10_mbb, bins=mbb_bins, range=mbb_range, color='white',\\\n",
    "                                    edgecolor='white', weights=ggFHH_kl10_weights)\n",
    "\n",
    "_=plt.legend(handlelength=0)\n",
    "\n",
    "#plt.savefig('./Plots/Y0-mbb/ggFHH_kl10_mbb_Y0.pdf', format='pdf')"
   ]
  },
  {
   "cell_type": "code",
   "execution_count": null,
   "id": "0f6e187b-045f-4165-8f7e-9ad8cdcb4046",
   "metadata": {},
   "outputs": [],
   "source": [
    "plot_ratio_red(mbb_bin_centers, ggFHH_kl10_mbb_ratio, ggFHH_kl10_mbb_residuals, r'ggFHH_kl10 - Y=3', 'mbb')"
   ]
  },
  {
   "cell_type": "markdown",
   "id": "a4881522-9833-485b-96d3-9937adf8b61b",
   "metadata": {},
   "source": [
    "---\n",
    "---"
   ]
  },
  {
   "cell_type": "markdown",
   "id": "0b01179d-49f5-45d3-8777-2947038a6167",
   "metadata": {},
   "source": [
    "### ggFHH_kl10 - m$_{\\gamma\\gamma}$"
   ]
  },
  {
   "cell_type": "code",
   "execution_count": null,
   "id": "4d011bc7-0dad-4de0-a233-f35cf17ecba9",
   "metadata": {},
   "outputs": [],
   "source": [
    "ggFHH_kl10_myy *= 1e3"
   ]
  },
  {
   "cell_type": "code",
   "execution_count": null,
   "id": "9b829bc8-478c-4f79-bdca-09d2226c12f9",
   "metadata": {},
   "outputs": [],
   "source": [
    "ggFHH_kl10_myy_counts, ggFHH_kl10_myy_bins, _ = plt.hist(ggFHH_kl10_myy, bins=myy_bins, range=myy_range, color='blue',\\\n",
    "                                    edgecolor='black', weights=ggFHH_kl10_weights)\n",
    "\n",
    "ggFHH_kl10_myy_err = get_poisson_errors(ggFHH_kl10_myy_counts, ggFHH_kl10_weights)\n",
    "\n",
    "plt.errorbar(myy_bin_centers, ggFHH_kl10_myy_counts, yerr=ggFHH_kl10_myy_err, marker='x', color='orange', ls='')"
   ]
  },
  {
   "cell_type": "code",
   "execution_count": null,
   "id": "4235458e-dd9d-496d-afaf-7a2741322127",
   "metadata": {},
   "outputs": [],
   "source": [
    "ggFHH_kl10_myy_popt, ggFHH_kl10_myy_pcov = curve_fit(dscb_func, myy_bin_centers, ggFHH_kl10_myy_counts, p0=[125e3, 2.5e3, 1.64, 1.64612321e+00, \\\n",
    "       1.3, 13, 2.5], sigma=np.mean(ggFHH_kl10_myy_err, axis=0), absolute_sigma=True)\n",
    "\n",
    "ggFHH_kl10_myy_ratio, ggFHH_kl10_myy_residuals, ggFHH_kl10_myy_chi_red, ggFHH_kl10_myy_chi \\\n",
    "= fit_evaluation(dscb_func, myy_bin_centers, ggFHH_kl10_myy_counts, np.mean(ggFHH_kl10_myy_err, axis=0), ggFHH_kl10_myy_popt)\n",
    "\n",
    "ggFHH_kl10_myy_legend = get_legend(ggFHH_kl10_myy_popt, ggFHH_kl10_myy_pcov, ggFHH_kl10_myy_chi_red, dscb_labels, dscb_units)"
   ]
  },
  {
   "cell_type": "code",
   "execution_count": null,
   "id": "004f9371-c978-461f-9f4c-6d891d9c1886",
   "metadata": {},
   "outputs": [],
   "source": [
    "plt.title(r'ggFHH_kl10 (m$_{\\gamma\\gamma}$) - Y=3')\n",
    "plt.xlabel(r'm$_{\\gamma\\gamma}$ [GeV]')\n",
    "\n",
    "plt.xticks(np.linspace(myy_min,myy_max,7),(np.linspace(myy_min,myy_max,7)/1e3).astype(int))\n",
    "\n",
    "plt.plot(myy_plot, dscb_func(myy_plot,*ggFHH_kl10_myy_popt), color='orange', linewidth=1.5, zorder=5, \\\n",
    "        label=ggFHH_kl10_myy_legend)\n",
    "\n",
    "plt.errorbar(myy_bin_centers, ggFHH_kl10_myy_counts, yerr=ggFHH_kl10_myy_err, marker='x', color='blue', ls='')\n",
    "\n",
    "_, _, _ =plt.hist(ggFHH_kl10_myy, bins=myy_bins, range=myy_range, color='white',\\\n",
    "                                    edgecolor='white', weights=ggFHH_kl10_weights)\n",
    "\n",
    "_=plt.legend(handlelength=0)\n",
    "\n",
    "#plt.savefig('./Plots/Y0-myy/ggFHH_kl10_myy_Y0.pdf', format='pdf')"
   ]
  },
  {
   "cell_type": "code",
   "execution_count": null,
   "id": "f114cfaf-ab29-453a-ac13-1ed2ae4a41eb",
   "metadata": {},
   "outputs": [],
   "source": [
    "plt.ylim(0,2)\n",
    "\n",
    "plot_ratio_red(myy_bin_centers, ggFHH_kl10_myy_ratio, ggFHH_kl10_myy_residuals, r'ggFHH_kl10 - Y=3', 'myy')"
   ]
  },
  {
   "cell_type": "markdown",
   "id": "daaf0e8e-b92e-4377-be45-f8a64a4645e5",
   "metadata": {},
   "source": [
    "---\n",
    "---"
   ]
  },
  {
   "cell_type": "markdown",
   "id": "00fffe49-293f-4361-90f6-9775dc042354",
   "metadata": {},
   "source": [
    "## All Signals Combined"
   ]
  },
  {
   "cell_type": "code",
   "execution_count": null,
   "id": "043e9b92-8348-4c82-8b49-9ede17a2e6f9",
   "metadata": {},
   "outputs": [],
   "source": [
    "#scale up factors\n",
    "n_mbb = 50\n",
    "\n",
    "n_myy = 50\n",
    "\n",
    "#signal\n",
    "signal_mbb = np.concatenate([ggFH_mbb, ttH_mbb, qqZH_mbb, yybb_mbb, VBFHH_mbb, ggFHH_kl1_mbb])\n",
    "\n",
    "signal_myy = np.concatenate([ggFH_myy, ttH_myy, qqZH_myy, yybb_myy, VBFHH_mbb, ggFHH_kl1_myy])\n",
    "\n",
    "signal_weights = np.concatenate([ggFH_weights, ttH_weights, qqZH_weights, yybb_weights, VBFHH_weights, ggFHH_kl1_weights])\n",
    "\n",
    "#scale up the HH samples\n",
    "signal_mbb_mod = np.concatenate([ggFH_mbb, ttH_mbb, qqZH_mbb, yybb_mbb, np.tile(VBFHH_mbb, n_mbb), np.tile(ggFHH_kl1_mbb, n_mbb)])\n",
    "\n",
    "signal_myy_mod = np.concatenate([ggFH_myy, ttH_myy, qqZH_myy, yybb_myy, np.tile(VBFHH_myy, n_myy), np.tile(ggFHH_kl1_myy, n_myy)])\n",
    "\n",
    "signal_mod_weights = np.concatenate([ggFH_weights, ttH_weights, qqZH_weights, yybb_weights, np.tile(VBFHH_weights, n_mbb), np.tile(ggFHH_kl1_weights, n_mbb)])\n",
    "\n",
    "#background\n",
    "bkg_mbb = np.concatenate([ggFH_mbb, ttH_mbb, qqZH_mbb, yybb_mbb])\n",
    "\n",
    "bkg_myy = np.concatenate([ggFH_myy, ttH_myy, qqZH_myy, yybb_myy])\n",
    "\n",
    "bkg_weights = np.concatenate([ggFH_weights, ttH_weights, qqZH_weights, yybb_weights])"
   ]
  },
  {
   "cell_type": "code",
   "execution_count": null,
   "id": "af9d5a5d-1c6e-42ca-834f-590f67b19845",
   "metadata": {},
   "outputs": [],
   "source": [
    "signal_mbb.size, signal_myy.size, yybb_mbb.size, ggFHH_kl10_mbb.size"
   ]
  },
  {
   "cell_type": "code",
   "execution_count": null,
   "id": "ce81c29f-fe44-4484-95a7-3ec1c0a7494c",
   "metadata": {},
   "outputs": [],
   "source": []
  },
  {
   "cell_type": "markdown",
   "id": "0eea7460-1dd8-4633-9f77-e807c02a5d73",
   "metadata": {},
   "source": [
    "### Functions"
   ]
  },
  {
   "cell_type": "code",
   "execution_count": null,
   "id": "0e0551fc-ef64-4c48-a4a3-c789cb7905a0",
   "metadata": {},
   "outputs": [],
   "source": [
    "aaa = [0,1,2,3,4,5,6,7,8,9]\n",
    "\n",
    "aaa[2:3]"
   ]
  },
  {
   "cell_type": "code",
   "execution_count": null,
   "id": "55eeae7a-5841-44aa-aadc-43c555342a12",
   "metadata": {},
   "outputs": [],
   "source": [
    "def signal_func_mbb(x, N1, N2):\n",
    "    return N1 * dscb_func(x, *VBFHH_mbb_popt) + gauss_func(x, *ggFH_mbb_popt) + dscb_func(x, *ttH_mbb_popt) +\\\n",
    "            cb_func(x, *qqZH_mbb_popt) + N2 * cb_func(x, *yybb_mbb_popt) + N1 * dscb_func(x, *ggFHH_kl1_mbb_popt)\n",
    "\n",
    "signal_labels = [r'$\\mu$', r'$\\mu_b$']\n",
    "signal_units = ['', '']"
   ]
  },
  {
   "cell_type": "code",
   "execution_count": null,
   "id": "368ce6dc-524b-49f4-b54c-b10c2e0146ea",
   "metadata": {},
   "outputs": [],
   "source": [
    "def bkg_func_mbb(x, N):\n",
    "    return gauss_func(x, *ggFH_mbb_popt) + dscb_func(x, *ttH_mbb_popt) +\\\n",
    "            cb_func(x, *qqZH_mbb_popt) + N * cb_func(x, *yybb_mbb_popt)\n",
    "\n",
    "bkg_labels = [r'$\\mu_b$']\n",
    "bkg_units = ['']"
   ]
  },
  {
   "cell_type": "code",
   "execution_count": null,
   "id": "3950dc72-8aef-41ee-b4e4-e3dd1e115fbd",
   "metadata": {},
   "outputs": [],
   "source": [
    "def signal_func_myy(x, N1, N2, l):\n",
    "    return N1 * dscb_func(x, *VBFHH_myy_popt) + dscb_func(x, *ggFH_myy_popt) + dscb_func(x, *ttH_myy_popt) +\\\n",
    "            dscb_func(x, *qqZH_myy_popt) + N2 * exp_fit(x, yybb_myy_popt[0], l) + N1 * dscb_func(x, *ggFHH_kl1_myy_popt)\n",
    "\n",
    "signal_myy_labels = [r'$\\mu$', r'$\\mu_b$', r'$\\lambda$']\n",
    "signal_myy_units = ['', '', r'GeV$^{-1}$']"
   ]
  },
  {
   "cell_type": "code",
   "execution_count": null,
   "id": "dc8ef702-37d2-454b-b9ba-352c745d1256",
   "metadata": {},
   "outputs": [],
   "source": []
  },
  {
   "cell_type": "code",
   "execution_count": null,
   "id": "ac9889f6-4dc7-41ff-9147-79bef6684539",
   "metadata": {},
   "outputs": [],
   "source": []
  },
  {
   "cell_type": "code",
   "execution_count": null,
   "id": "a013f896-c314-4d39-aedc-5565c78b753a",
   "metadata": {},
   "outputs": [],
   "source": [
    "def signal_func_myy2(x, N1, N2):\n",
    "    return N1 * dscb_func(x, *VBFHH_myy_popt) + dscb_func(x, *ggFH_myy_popt) + dscb_func(x, *ttH_myy_popt) +\\\n",
    "            dscb_func(x, *qqZH_myy_popt) + N2 * exp_fit(x, *yybb_myy_popt) + N1 * dscb_func(x, *ggFHH_kl1_myy_popt)\n",
    "\n",
    "signal_myy_labels2 = [r'$\\mu$', r'$\\mu_b$']\n",
    "signal_myy_units2 = ['', '']"
   ]
  },
  {
   "cell_type": "code",
   "execution_count": null,
   "id": "97de538f-6ccc-44a2-b821-bd7494ded094",
   "metadata": {},
   "outputs": [],
   "source": [
    "def bkg_func_myy(x, N, l):\n",
    "    return dscb_func(x, *ggFH_myy_popt) + dscb_func(x, *ttH_myy_popt) +\\\n",
    "            dscb_func(x, *qqZH_myy_popt) + N * exp_fit(x, yybb_myy_popt[0], l)\n",
    "\n",
    "bkg_myy_labels = [r'$\\mu_b$', r'$\\lambda$']\n",
    "bkg_myy_units = ['', r'GeV$^{-1}$']"
   ]
  },
  {
   "cell_type": "code",
   "execution_count": null,
   "id": "fa234b84-bc1a-48a1-968d-1e471c5ac84e",
   "metadata": {},
   "outputs": [],
   "source": []
  },
  {
   "cell_type": "code",
   "execution_count": null,
   "id": "f02ce283-6ac7-4b61-8e5e-5d3cf09ac2d7",
   "metadata": {},
   "outputs": [],
   "source": [
    "def bkg_func_myy2(x, N):\n",
    "    return dscb_func(x, *ggFH_myy_popt) + dscb_func(x, *ttH_myy_popt) +\\\n",
    "            dscb_func(x, *qqZH_myy_popt) + N * exp_fit(x, *yybb_myy_popt)\n",
    "\n",
    "bkg_myy_labels2 = [r'$\\mu_b$']\n",
    "bkg_myy_units2 = ['']"
   ]
  },
  {
   "cell_type": "code",
   "execution_count": null,
   "id": "7eb70990-9cf2-4ae9-bebc-9f8a75523490",
   "metadata": {},
   "outputs": [],
   "source": [
    "import scipy.stats as st\n",
    "\n",
    "def poisson_error(x):\n",
    "    high_err = st.chi2.ppf(1. - (1. - 0.68)/2. , 2.* (x + 1.)) / 2. - x - 1\n",
    "    \n",
    "    low_err = np.where(\n",
    "                        x <= 0,\n",
    "                        0,\n",
    "                        x - st.chi2.ppf((1. - 0.68)/2., 2.*x) / 2\n",
    "                        )\n",
    "    \n",
    "    return [low_err, high_err]"
   ]
  },
  {
   "cell_type": "code",
   "execution_count": null,
   "id": "ec06f7a5-b46e-4a78-abf4-1d0341b57116",
   "metadata": {},
   "outputs": [],
   "source": [
    "poisson_error(0)"
   ]
  },
  {
   "cell_type": "markdown",
   "id": "8c624d05-5834-4f36-b5cf-f9b329ce4079",
   "metadata": {},
   "source": [
    "### m$_{b\\bar{b}}$"
   ]
  },
  {
   "cell_type": "code",
   "execution_count": null,
   "id": "f424c595-e0f5-416f-8a9b-a677b4e80b36",
   "metadata": {},
   "outputs": [],
   "source": [
    "signal_mod_mbb_counts, signal_mod_mbb_bins, _ = plt.hist(signal_mbb_mod, bins=mbb_bins, range=mbb_range, color='red',\\\n",
    "                                    edgecolor='black', weights=signal_mod_weights)\n",
    "\n",
    "signal_mbb_counts, signal_mbb_bins, _ = plt.hist(signal_mbb, bins=mbb_bins, range=mbb_range, color='blue',\\\n",
    "                                    edgecolor='black', weights=signal_weights)\n",
    "\n",
    "bkg_mbb_counts, bkg_mbb_bins, _ = plt.hist(bkg_mbb, bins=mbb_bins, range=mbb_range, color='lightblue',\\\n",
    "                                    edgecolor='black', weights=bkg_weights)"
   ]
  },
  {
   "cell_type": "code",
   "execution_count": null,
   "id": "19c66a2a-637b-40d9-9fe9-8b23079a8afa",
   "metadata": {},
   "outputs": [],
   "source": [
    "signal_mbb_err = poisson_error(signal_mbb_counts)\n",
    "\n",
    "signal_mod_mbb_err = poisson_error(signal_mod_mbb_counts)\n",
    "\n",
    "bkg_mbb_err = poisson_error(bkg_mbb_counts)"
   ]
  },
  {
   "cell_type": "code",
   "execution_count": null,
   "id": "5e2fb084-add8-4f84-8160-ca9c24bb44c2",
   "metadata": {},
   "outputs": [],
   "source": [
    "plt.errorbar(mbb_bin_centers, signal_mbb_counts, yerr=signal_mbb_err, marker='x', color='blue', ls='', label='signal', capsize=2)\n",
    "\n",
    "plt.errorbar(mbb_bin_centers, signal_mod_mbb_counts, yerr=signal_mod_mbb_err, marker='x', color='red', ls='', label='signal mod (n = {})'.format(n_mbb), capsize=2)\n",
    "\n",
    "plt.errorbar(mbb_bin_centers, bkg_mbb_counts, yerr=bkg_mbb_err, marker='x', color='lightblue', ls='', label='bkg', capsize=2)\n",
    "\n",
    "_=plt.legend()"
   ]
  },
  {
   "cell_type": "code",
   "execution_count": null,
   "id": "5e7dcc53-ce85-48c2-ac3d-83fc4078352a",
   "metadata": {},
   "outputs": [],
   "source": [
    "### signal\n",
    "signal_bounds = [[0,0], [np.inf,np.inf]]\n",
    "\n",
    "signal_mbb_popt, signal_mbb_pcov = curve_fit(signal_func_mbb, mbb_bin_centers, signal_mbb_counts, \\\n",
    "                                             p0=[1,1], \\\n",
    "                                             sigma=np.mean(signal_mbb_err,axis=0), absolute_sigma=True, \\\n",
    "                                            bounds = signal_bounds)\n",
    "\n",
    "signal_mbb_ratio, signal_mbb_residuals, signal_mbb_chi_red, signal_mbb_chi \\\n",
    "= fit_evaluation(signal_func_mbb, mbb_bin_centers, signal_mbb_counts, np.mean(signal_mbb_err), signal_mbb_popt)\n",
    "\n",
    "signal_mbb_legend = get_legend(signal_mbb_popt, signal_mbb_pcov, signal_mbb_chi_red, signal_labels, signal_units)\n",
    "\n",
    "#modified signal\n",
    "#signal_mod_mbb_popt, signal_mod_mbb_pcov = curve_fit(signal_func_mbb, mbb_bin_centers, signal_mod_mbb_counts, \\\n",
    "#                                                     p0=[n_mbb,1,yybb_mbb_popt[0],yybb_mbb_popt[1]], \\\n",
    "#                                                     sigma=np.mean(signal_mod_mbb_err,axis=0), absolute_sigma=True)\n",
    "\n",
    "#signal_mod_mbb_ratio, signal_mod_mbb_residuals, signal_mod_mbb_chi_red, signal_mod_mbb_chi \\\n",
    "#= fit_evaluation(signal_func_mbb, mbb_bin_centers, signal_mod_mbb_counts, np.mean(signal_mod_mbb_err), signal_mod_mbb_popt)\n",
    "\n",
    "#signal_mod_mbb_legend = get_legend(signal_mod_mbb_popt, signal_mod_mbb_pcov, signal_mod_mbb_chi_red, signal_labels, signal_units)\n",
    "\n",
    "#background\n",
    "bkg_mbb_popt, bkg_mbb_pcov = curve_fit(bkg_func_mbb, mbb_bin_centers, bkg_mbb_counts, \\\n",
    "                                       p0=[1], \\\n",
    "                                       sigma=np.mean(bkg_mbb_err,axis=0), absolute_sigma=True)\n",
    "\n",
    "bkg_mbb_ratio, bkg_mbb_residuals, bkg_mbb_chi_red, bkg_mbb_chi \\\n",
    "= fit_evaluation(bkg_func_mbb, mbb_bin_centers, bkg_mbb_counts, np.mean(bkg_mbb_err), bkg_mbb_popt)\n",
    "\n",
    "bkg_mbb_legend = get_legend(bkg_mbb_popt, bkg_mbb_pcov, bkg_mbb_chi_red, bkg_labels, bkg_units)\n",
    "\n",
    "#plot the results\n",
    "plt.figure(figsize=(12,8))\n",
    "\n",
    "plt.title(r'Combined Signal (m$_{b\\bar{b}}$)')\n",
    "plt.xlabel(r'm$_{b\\bar{b}}$ [GeV]')\n",
    "\n",
    "plt.xticks(np.linspace(mbb_min,mbb_max,6),(np.linspace(mbb_min,mbb_max,6)/1e3).astype(int))\n",
    "\n",
    "plt.plot(mbb_plot, signal_func_mbb(mbb_plot, *signal_mbb_popt), color='blue')\n",
    "\n",
    "#plt.plot(mbb_plot, signal_func_mbb(mbb_plot, *signal_mod_mbb_popt), color='red')\n",
    "\n",
    "plt.plot(mbb_plot, bkg_func_mbb(mbb_plot, *bkg_mbb_popt), color='lightblue')\n",
    "\n",
    "plt.errorbar(mbb_bin_centers, signal_mbb_counts, yerr=signal_mbb_err, marker='x', color='blue', ls='', label='signal:\\n'+signal_mbb_legend)\n",
    "\n",
    "#plt.errorbar(mbb_bin_centers, signal_mod_mbb_counts, yerr=signal_mbb_err, marker='x', color='red', ls='', label='signal mod (n = {}):\\n'.format(n_mbb)+signal_mod_mbb_legend)\n",
    "\n",
    "plt.errorbar(mbb_bin_centers, bkg_mbb_counts, yerr=signal_mbb_err, marker='x', color='lightblue', ls='', label='bkg:\\n'+bkg_mbb_legend)\n",
    "\n",
    "_=plt.legend(fontsize=8)"
   ]
  },
  {
   "cell_type": "code",
   "execution_count": null,
   "id": "6f866485-74d4-4f99-a53e-bcb91e30a79b",
   "metadata": {},
   "outputs": [],
   "source": [
    "plt.title(r'Combined Signal (m$_{b\\bar{b}}$)')\n",
    "plt.xlabel(r'm$_{b\\bar{b}}$ [GeV]')\n",
    "\n",
    "plt.xticks(np.linspace(mbb_min,mbb_max,6),(np.linspace(mbb_min,mbb_max,6)/1e3).astype(int))\n",
    "\n",
    "plt.plot(mbb_plot, signal_func_mbb(mbb_plot, *signal_mbb_popt), color='blue')\n",
    "\n",
    "plt.plot(mbb_plot, bkg_func_mbb(mbb_plot, *bkg_mbb_popt), color='lightblue')\n",
    "\n",
    "plt.errorbar(mbb_bin_centers, signal_mbb_counts, yerr=signal_mbb_err, marker='x', color='blue', ls='',\\\n",
    "             label='signal:\\n'+signal_mbb_legend, capsize=2)\n",
    "\n",
    "plt.errorbar(mbb_bin_centers, bkg_mbb_counts, marker='x', color='lightblue', ls='', label='bkg:\\n'+bkg_mbb_legend)\n",
    "\n",
    "plt.legend(fontsize=9)\n",
    "\n",
    "#plt.savefig('./Plots/combined_signals/Y0_mbb.pdf', format='pdf')"
   ]
  },
  {
   "cell_type": "markdown",
   "id": "6c505566-7d77-40d1-9d75-78a91a5526c3",
   "metadata": {},
   "source": [
    "---"
   ]
  },
  {
   "cell_type": "markdown",
   "id": "cda6ef09-8f3b-44f7-976a-f4f08949eca7",
   "metadata": {},
   "source": [
    "### m$_{\\gamma\\gamma}$"
   ]
  },
  {
   "cell_type": "code",
   "execution_count": null,
   "id": "b71aaf52-df4c-407e-b83e-e0ef01154d7e",
   "metadata": {},
   "outputs": [],
   "source": [
    "signal_mod_myy_counts, signal_mod_myy_bins, _ = plt.hist(signal_myy_mod, bins=myy_bins, range=myy_range, color='red',\\\n",
    "                                    edgecolor='black', weights=signal_mod_weights)\n",
    "\n",
    "signal_myy_counts, signal_myy_bins, _ = plt.hist(signal_myy, bins=myy_bins, range=myy_range, color='blue',\\\n",
    "                                    edgecolor='black', weights=signal_weights)\n",
    "\n",
    "bkg_myy_counts, bkg_myy_bins, _ = plt.hist(bkg_myy, bins=myy_bins, range=myy_range, color='lightblue',\\\n",
    "                                    edgecolor='black', weights=bkg_weights)"
   ]
  },
  {
   "cell_type": "code",
   "execution_count": null,
   "id": "81ab2fe6-7751-423b-ad8e-a33bd79ee7ff",
   "metadata": {},
   "outputs": [],
   "source": [
    "signal_myy_err = poisson_error(signal_myy_counts)\n",
    "\n",
    "signal_mod_myy_err = poisson_error(signal_mod_myy_counts)\n",
    "\n",
    "bkg_myy_err = poisson_error(bkg_myy_counts)"
   ]
  },
  {
   "cell_type": "code",
   "execution_count": null,
   "id": "9cb9ccae-54f3-4dac-ab4a-b96833cd7531",
   "metadata": {},
   "outputs": [],
   "source": [
    "plt.errorbar(myy_bin_centers, signal_myy_counts, yerr=signal_myy_err, marker='x', color='blue', ls='', label='signal')\n",
    "\n",
    "plt.errorbar(myy_bin_centers, signal_mod_myy_counts, yerr=signal_myy_err, marker='x', color='red', ls='', label='signal mod (n = {})'.format(n_mbb))\n",
    "\n",
    "plt.errorbar(myy_bin_centers, bkg_myy_counts, yerr=signal_myy_err, marker='x', color='lightblue', ls='', label='bkg')\n",
    "\n",
    "_=plt.legend()"
   ]
  },
  {
   "cell_type": "code",
   "execution_count": null,
   "id": "b260afff-cc16-4be8-a051-230c17f4abec",
   "metadata": {},
   "outputs": [],
   "source": [
    "#signal\n",
    "signal_myy_popt, signal_myy_pcov = curve_fit(signal_func_myy2, myy_bin_centers, signal_myy_counts,\\\n",
    "                                             sigma = np.mean(signal_myy_err, axis=0), p0=[1,1], absolute_sigma=True)\n",
    "\n",
    "signal_myy_ratio, signal_myy_residuals, signal_myy_chi_red, signal_myy_chi \\\n",
    "= fit_evaluation(signal_func_myy2, myy_bin_centers, signal_myy_counts, np.mean(signal_myy_err, axis=0), signal_myy_popt)\n",
    "\n",
    "signal_myy_legend = get_legend(signal_myy_popt, signal_myy_pcov, signal_myy_chi_red, signal_myy_labels2, signal_myy_units2)\n",
    "\n",
    "#modified signal\n",
    "signal_mod_myy_popt, signal_mod_myy_pcov = curve_fit(signal_func_myy2, myy_bin_centers, signal_mod_myy_counts,\\\n",
    "                                                     sigma = np.mean(signal_mod_myy_err, axis=0), p0=[n_mbb,1], absolute_sigma=True)\n",
    "\n",
    "signal_mod_myy_ratio, signal_mod_myy_residuals, signal_mod_myy_chi_red, signal_mod_myy_chi \\\n",
    "= fit_evaluation(signal_func_myy2, myy_bin_centers, signal_mod_myy_counts, np.mean(signal_mod_myy_err, axis=0), signal_mod_myy_popt)\n",
    "\n",
    "signal_mod_myy_legend = get_legend(signal_mod_myy_popt, signal_mod_myy_pcov, signal_mod_myy_chi_red, signal_myy_labels2, signal_myy_units2)\n",
    "\n",
    "#background\n",
    "bkg_myy_popt, bkg_myy_pcov = curve_fit(bkg_func_myy2, myy_bin_centers, bkg_myy_counts, sigma = np.mean(bkg_myy_err, axis=0), p0=[1], absolute_sigma=True)\n",
    "\n",
    "bkg_myy_ratio, bkg_myy_residuals, bkg_myy_chi_red, bkg_myy_chi \\\n",
    "= fit_evaluation(bkg_func_myy2, myy_bin_centers, bkg_myy_counts, np.mean(bkg_myy_err, axis=0), bkg_myy_popt)\n",
    "\n",
    "bkg_myy_legend = get_legend(bkg_myy_popt, bkg_myy_pcov, bkg_myy_chi_red, bkg_myy_labels2, bkg_myy_units2)\n",
    "\n",
    "#plot the results\n",
    "#plt.figure(figsize=(10,4))\n",
    "#from scipy.interpolate import interp1d\n",
    "#f = interp1d(mbb_bin_centers, , kind='cubic')\n",
    "#x_smooth = np.linspace(x.min(), x.max(), 300)\n",
    "#y_smooth = f(myy_bin_centers)\n",
    "\n",
    "plt.title(r'Combined Signal (m$_{\\gamma\\gamma}$)')\n",
    "plt.xlabel(r'm$_{\\gamma\\gamma}$ [GeV]')\n",
    "\n",
    "plt.xticks(np.linspace(myy_min,myy_max,6),(np.linspace(myy_min,myy_max,6)/1e3).astype(int))\n",
    "\n",
    "plt.plot(myy_plot, signal_func_myy2(myy_plot, *signal_myy_popt), color='blue')\n",
    "\n",
    "plt.plot(myy_plot, signal_func_myy2(myy_plot, *signal_mod_myy_popt), color='red')\n",
    "\n",
    "plt.plot(myy_plot, bkg_func_myy2(myy_plot, *bkg_myy_popt), color='lightblue')\n",
    "\n",
    "plt.errorbar(myy_bin_centers, signal_myy_counts, yerr=signal_myy_err, marker='x', color='blue', ls='', label='signal:\\n'+signal_myy_legend)\n",
    "\n",
    "#plt.fill_between(myy_bin_centers, signal_myy_counts-signal_myy_err[0], signal_myy_counts+signal_myy_err[1], color='pink')\n",
    "\n",
    "plt.errorbar(myy_bin_centers, signal_mod_myy_counts, yerr=signal_myy_err, marker='x', color='red', ls='', label='signal mod (n = {}):\\n'.format(n_mbb)+signal_mod_myy_legend)\n",
    "\n",
    "plt.errorbar(myy_bin_centers, bkg_myy_counts, yerr=signal_myy_err, marker='x', color='lightblue', ls='', label='bkg:\\n'+bkg_myy_legend)\n",
    "\n",
    "_=plt.legend(fontsize=9)"
   ]
  },
  {
   "cell_type": "code",
   "execution_count": null,
   "id": "f1fcd805-7f62-4856-a730-887592ba2697",
   "metadata": {},
   "outputs": [],
   "source": [
    "plt.title(r'Combined Signal (m$_{\\gamma\\gamma}$)')\n",
    "plt.xlabel(r'm$_{\\gamma\\gamma}$ [GeV]')\n",
    "\n",
    "plt.xticks(np.linspace(myy_min,myy_max,6),(np.linspace(myy_min,myy_max,6)/1e3).astype(int))\n",
    "\n",
    "plt.plot(myy_plot, signal_func_myy2(myy_plot, *signal_myy_popt), color='blue')\n",
    "\n",
    "plt.plot(myy_plot, bkg_func_myy2(myy_plot, *bkg_myy_popt), color='lightblue')\n",
    "\n",
    "plt.errorbar(myy_bin_centers, signal_myy_counts, yerr=signal_myy_err, marker='x', color='blue', ls='',\\\n",
    "             label='signal:\\n'+signal_myy_legend, capsize=2)\n",
    "\n",
    "plt.errorbar(myy_bin_centers, bkg_myy_counts, marker='x', color='lightblue', ls='', label='bkg:\\n'+bkg_myy_legend)\n",
    "\n",
    "_=plt.legend(fontsize=8)\n",
    "\n",
    "#plt.savefig('./Plots/combined_signals/Y0_myy.pdf', format='pdf')"
   ]
  },
  {
   "cell_type": "code",
   "execution_count": null,
   "id": "b3ce29ec-c67d-40d3-9f3d-cffc1d3a5bac",
   "metadata": {},
   "outputs": [],
   "source": [
    "plt.title(r'Combined Signal (m$_{\\gamma\\gamma}$)')\n",
    "plt.xlabel(r'm$_{\\gamma\\gamma}$ [GeV]')\n",
    "\n",
    "plt.xlim(122e3,128e3)\n",
    "\n",
    "plt.xticks(np.linspace(122e3,128e3,6),(np.linspace(122e3,128e3,6)/1e3).astype(int))\n",
    "\n",
    "plt.plot(myy_plot, signal_func_myy2(myy_plot, 1,1), color='blue')\n",
    "\n",
    "plt.plot(myy_plot, bkg_func_myy2(myy_plot, *bkg_myy_popt), color='lightblue')\n",
    "\n",
    "plt.errorbar(myy_bin_centers, signal_myy_counts, yerr=signal_myy_err, marker='x', color='blue', ls='',\\\n",
    "             label='signal:\\n'+signal_myy_legend, capsize=2)\n",
    "\n",
    "plt.errorbar(myy_bin_centers, bkg_myy_counts, marker='x', color='lightblue', ls='', label='bkg:\\n'+bkg_myy_legend)\n",
    "\n",
    "_=plt.legend(fontsize=7)\n",
    "\n",
    "#plt.savefig('./Plots/combined_signals/Y0_myy_zoom.pdf', format='pdf')"
   ]
  },
  {
   "cell_type": "code",
   "execution_count": null,
   "id": "9db62599-371d-441f-a153-c63f6d38bd63",
   "metadata": {},
   "outputs": [],
   "source": []
  },
  {
   "cell_type": "code",
   "execution_count": null,
   "id": "5814b644-3489-4444-ba1c-8682188815b2",
   "metadata": {},
   "outputs": [],
   "source": []
  },
  {
   "cell_type": "code",
   "execution_count": null,
   "id": "85eeb903-2ad5-4d98-a23a-63d3b0dafa5e",
   "metadata": {},
   "outputs": [],
   "source": []
  },
  {
   "cell_type": "code",
   "execution_count": null,
   "id": "6ad461a7-0dfb-4e70-bb78-81b879f39f72",
   "metadata": {},
   "outputs": [],
   "source": [
    "VBFHH_mbb.size, ggFH_mbb.size, ttH_mbb.size, qqZH_mbb.size, yybb_mbb.size, ggFHH_kl1_mbb.size"
   ]
  },
  {
   "cell_type": "markdown",
   "id": "d91c6b05-72e9-4d31-b96d-141501ef95d4",
   "metadata": {},
   "source": [
    "## Save Results"
   ]
  },
  {
   "cell_type": "code",
   "execution_count": null,
   "id": "0921b08f-72b8-4a43-9ef6-037d2f31e8fa",
   "metadata": {},
   "outputs": [],
   "source": [
    "popt_mbb_arrays = np.array([VBFHH_mbb_popt, ggFH_mbb_popt, ttH_mbb_popt, qqZH_mbb_popt, yybb_mbb_popt, ggFHH_kl1_mbb_popt, ggFHH_kl10_mbb_popt], dtype=object)\n",
    "\n",
    "pcov_mbb_arrays = np.array([VBFHH_mbb_pcov, ggFH_mbb_pcov, ttH_mbb_pcov, qqZH_mbb_pcov, yybb_mbb_pcov, ggFHH_kl1_mbb_pcov, ggFHH_kl10_mbb_pcov], dtype=object)\n",
    "\n",
    "popt_myy_arrays = np.array([VBFHH_myy_popt, ggFH_myy_popt, ttH_myy_popt, qqZH_myy_popt, yybb_myy_popt, ggFHH_kl1_myy_popt, ggFHH_kl10_myy_popt], dtype=object)\n",
    "\n",
    "pcov_myy_arrays = np.array([VBFHH_myy_pcov, ggFH_myy_pcov, ttH_myy_pcov, qqZH_myy_pcov, yybb_myy_pcov, ggFHH_kl1_myy_pcov, ggFHH_kl10_myy_pcov], dtype=object)"
   ]
  },
  {
   "cell_type": "code",
   "execution_count": null,
   "id": "16f24b0e-8f57-47af-a1c0-f680dffdc66f",
   "metadata": {},
   "outputs": [],
   "source": [
    "np.savez('HM-SampleArrays/HM-Y=3/Y=3-no_mbb-20-19-Templates.npz', popt_mbb=popt_mbb_arrays, pcov_mbb=pcov_mbb_arrays, popt_myy=popt_myy_arrays, pcov_myy=pcov_myy_arrays)"
   ]
  },
  {
   "cell_type": "code",
   "execution_count": null,
   "id": "ea0a04ac-c52a-463f-beef-25e12089a49c",
   "metadata": {},
   "outputs": [],
   "source": []
  },
  {
   "cell_type": "code",
   "execution_count": null,
   "id": "2d0fc131-b4d8-4564-86dc-1d712012abef",
   "metadata": {},
   "outputs": [],
   "source": [
    "popt_mbb_signals = np.array([signal_mbb_popt, bkg_mbb_popt], dtype=object)\n",
    "\n",
    "pcov_mbb_signals = np.array([signal_mbb_pcov, bkg_mbb_pcov], dtype=object)\n",
    "\n",
    "popt_myy_signals = np.array([signal_myy_popt, signal_mod_myy_popt, bkg_myy_popt], dtype=object)\n",
    "\n",
    "pcov_myy_signals = np.array([signal_myy_pcov, signal_mod_myy_pcov, bkg_myy_pcov], dtype=object)"
   ]
  },
  {
   "cell_type": "code",
   "execution_count": null,
   "id": "3947bc69-8360-4e95-9887-b51846bf0b41",
   "metadata": {},
   "outputs": [],
   "source": [
    "np.savez('HM-SampleArrays/HM-Y=3/Y=3-no_mbb-20-19-Signal.npz', popt_mbb=popt_mbb_signals, pcov_mbb=pcov_mbb_signals, popt_myy=popt_myy_signals, pcov_myy=pcov_myy_signals)"
   ]
  },
  {
   "cell_type": "code",
   "execution_count": null,
   "id": "acbef8c6-9d97-426c-aed8-81aec416e6f6",
   "metadata": {},
   "outputs": [],
   "source": []
  },
  {
   "cell_type": "markdown",
   "id": "6c86ba2c-e8e8-46c0-85ec-6ce5af85f5b9",
   "metadata": {},
   "source": [
    "## 2D Fit"
   ]
  },
  {
   "cell_type": "markdown",
   "id": "4d0f7f88-adce-45db-bf6f-ff433f21736c",
   "metadata": {},
   "source": [
    "### VBFHH"
   ]
  },
  {
   "cell_type": "code",
   "execution_count": null,
   "id": "b8fd31c5-bc63-4613-8e60-c55cad2adb89",
   "metadata": {},
   "outputs": [],
   "source": [
    "def VBFHH_2d(myy, mbb):\n",
    "    return dscb_func(myy, *VBFHH_myy_popt) * dscb_func(mbb, *VBFHH_mbb_popt)"
   ]
  },
  {
   "cell_type": "code",
   "execution_count": null,
   "id": "3fb20eae-8275-4128-90e1-a6414fe4ef12",
   "metadata": {},
   "outputs": [],
   "source": [
    "VBFHH_hist2d, VBFHH_hist2d_xedges, VBFHH_hist2d_yedges = \\\n",
    "np.histogram2d(VBFHH_myy, VBFHH_mbb, bins=[myy_bins, mbb_bins], range=[myy_range, mbb_range], weights=VBFHH_weights)"
   ]
  },
  {
   "cell_type": "code",
   "execution_count": null,
   "id": "5787935a-c75c-4aae-8b98-0bb8b1564883",
   "metadata": {},
   "outputs": [],
   "source": [
    "VBFHH_2d_int_hist = np.sum(VBFHH_hist2d) * 30000/19 * 5000\n",
    "\n",
    "VBFHH_2d_int_hist"
   ]
  },
  {
   "cell_type": "code",
   "execution_count": null,
   "id": "1f5cf36e-cca5-4381-9af5-c803f1ff9ed7",
   "metadata": {},
   "outputs": [],
   "source": [
    "from scipy import integrate\n",
    "\n",
    "# Calculate the double integral\n",
    "VBFHH_2d_int, VBFHH_abserr = integrate.dblquad(VBFHH_2d, mbb_min, mbb_max, myy_min, myy_max)\n",
    "\n",
    "VBFHH_2d_int"
   ]
  },
  {
   "cell_type": "code",
   "execution_count": null,
   "id": "4c494491-39c3-4066-96e2-624c212e8f9f",
   "metadata": {},
   "outputs": [],
   "source": [
    "VBFHH_2d_N = VBFHH_2d_int_hist/VBFHH_2d_int\n",
    "\n",
    "VBFHH_2d_N"
   ]
  },
  {
   "cell_type": "code",
   "execution_count": null,
   "id": "e5b668cb-7809-4884-9482-cbe7a260184c",
   "metadata": {},
   "outputs": [],
   "source": [
    "xedges = VBFHH_hist2d_xedges\n",
    "yedges = VBFHH_hist2d_yedges\n",
    "\n",
    "xpos, ypos = np.meshgrid(xedges[:-1], yedges[:-1], indexing=\"ij\")\n",
    "xpos = xpos.ravel()\n",
    "ypos = ypos.ravel()\n",
    "zpos = np.zeros_like(xpos)\n",
    "\n",
    "# Size of bars\n",
    "dx = dy = (xedges[1] - xedges[0]) * np.ones_like(zpos)"
   ]
  },
  {
   "cell_type": "code",
   "execution_count": null,
   "id": "22dbe5e4-eacf-42ec-ace8-c1262890fa7e",
   "metadata": {},
   "outputs": [],
   "source": [
    "dz = VBFHH_hist2d.ravel()\n",
    "\n",
    "# Create a 3D plot\n",
    "fig = plt.figure(figsize=(10, 7))\n",
    "ax = fig.add_subplot(111, projection='3d')\n",
    "\n",
    "ax.bar3d(xpos, ypos, zpos, dx, dy, dz, zsort='average',alpha=0.2)\n",
    "\n",
    "MYY, MBB = np.meshgrid(np.linspace(myy_min,myy_max,1000),np.linspace(mbb_min,mbb_max,1000), indexing='ij')\n",
    "\n",
    "ax.plot_surface(MYY, MBB, VBFHH_2d(MYY,MBB) * VBFHH_2d_N, alpha=0.8, color='orange')\n",
    "\n",
    "ax.set_xlabel('myy')\n",
    "ax.set_ylabel('mbb')\n",
    "plt.title('VBFHH')\n",
    "\n",
    "plt.show()"
   ]
  },
  {
   "cell_type": "markdown",
   "id": "ba880d79-dda0-492a-8bed-e366a0ded744",
   "metadata": {},
   "source": [
    "### ggFH"
   ]
  },
  {
   "cell_type": "code",
   "execution_count": null,
   "id": "66a2c0a1-1594-444c-8b12-68f9647a610f",
   "metadata": {},
   "outputs": [],
   "source": [
    "def ggFH_2d(myy, mbb):\n",
    "    return dscb_func(myy, *ggFH_myy_popt) * gauss_func(mbb, *ggFH_mbb_popt)"
   ]
  },
  {
   "cell_type": "code",
   "execution_count": null,
   "id": "3a20553a-f228-40c8-a6ad-b207b835b011",
   "metadata": {},
   "outputs": [],
   "source": [
    "ggFH_hist2d, ggFH_hist2d_xedges, ggFH_hist2d_yedges = \\\n",
    "np.histogram2d(ggFH_myy, ggFH_mbb, bins=[myy_bins, mbb_bins], range=[myy_range, mbb_range], weights=ggFH_weights)"
   ]
  },
  {
   "cell_type": "code",
   "execution_count": null,
   "id": "9c53c5c3-7524-4bee-878d-4fe5042a40aa",
   "metadata": {},
   "outputs": [],
   "source": [
    "ggFH_2d_int_hist = np.sum(ggFH_hist2d) * 30000/19 * 5000\n",
    "\n",
    "ggFH_2d_int_hist"
   ]
  },
  {
   "cell_type": "code",
   "execution_count": null,
   "id": "06493902-a019-4320-be1f-3e6250e41b52",
   "metadata": {},
   "outputs": [],
   "source": [
    "from scipy import integrate\n",
    "\n",
    "# Calculate the double integral\n",
    "ggFH_2d_int, ggFH_abserr = integrate.dblquad(ggFH_2d, mbb_min, mbb_max, myy_min, myy_max)\n",
    "\n",
    "ggFH_2d_int"
   ]
  },
  {
   "cell_type": "code",
   "execution_count": null,
   "id": "78239774-9a68-47cf-b206-64c92a4ef169",
   "metadata": {},
   "outputs": [],
   "source": [
    "ggFH_2d_N = ggFH_2d_int_hist/ggFH_2d_int\n",
    "\n",
    "ggFH_2d_N"
   ]
  },
  {
   "cell_type": "code",
   "execution_count": null,
   "id": "3a5b1544-7a54-4a1e-9559-e8637eae5e19",
   "metadata": {},
   "outputs": [],
   "source": [
    "ggFH_dz = ggFH_hist2d.ravel()\n",
    "\n",
    "# Create a 3D plot\n",
    "fig = plt.figure(figsize=(10, 7))\n",
    "ax = fig.add_subplot(111, projection='3d')\n",
    "\n",
    "ax.bar3d(xpos, ypos, zpos, dx, dy, ggFH_dz, zsort='average',alpha=0.1)\n",
    "\n",
    "#MYY, MBB = np.meshgrid(np.linspace(myy_min,myy_max,1000),np.linspace(mbb_min,mbb_max,1000))\n",
    "\n",
    "ax.plot_surface(MYY, MBB, ggFH_2d(MYY,MBB) * ggFH_2d_N, alpha=0.8, color='orange')\n",
    "\n",
    "ax.set_xlabel('myy')\n",
    "ax.set_ylabel('mbb')\n",
    "plt.title('ggFH')\n",
    "\n",
    "plt.show()"
   ]
  },
  {
   "cell_type": "markdown",
   "id": "557346f3-d6c6-48a5-a824-ef7f9a51b8a5",
   "metadata": {},
   "source": [
    "### ttH"
   ]
  },
  {
   "cell_type": "code",
   "execution_count": null,
   "id": "844de776-04a8-4b77-bc20-65cd07e9ba23",
   "metadata": {},
   "outputs": [],
   "source": [
    "def ttH_2d(myy, mbb):\n",
    "    return dscb_func(myy, *ttH_myy_popt) * dscb_func(mbb, *ttH_mbb_popt)"
   ]
  },
  {
   "cell_type": "code",
   "execution_count": null,
   "id": "68e03959-59ff-49b6-b284-949a54762334",
   "metadata": {},
   "outputs": [],
   "source": [
    "ttH_hist2d, ttH_hist2d_xedges, ttH_hist2d_yedges = \\\n",
    "np.histogram2d(ttH_myy, ttH_mbb, bins=[myy_bins, mbb_bins], range=[myy_range, mbb_range], weights=ttH_weights)"
   ]
  },
  {
   "cell_type": "code",
   "execution_count": null,
   "id": "5d7fdfbb-94aa-4d54-8001-3a9e2aa0b936",
   "metadata": {},
   "outputs": [],
   "source": [
    "ttH_2d_int_hist = np.sum(ttH_hist2d) * 30000/19 * 5000\n",
    "\n",
    "ttH_2d_int_hist"
   ]
  },
  {
   "cell_type": "code",
   "execution_count": null,
   "id": "9fa96659-374c-4ee1-9c80-a2194d289a1c",
   "metadata": {},
   "outputs": [],
   "source": [
    "from scipy import integrate\n",
    "\n",
    "# Calculate the double integral\n",
    "ttH_2d_int, ttH_abserr = integrate.dblquad(ttH_2d, mbb_min, mbb_max, myy_min, myy_max)\n",
    "\n",
    "ttH_2d_int"
   ]
  },
  {
   "cell_type": "code",
   "execution_count": null,
   "id": "205f8742-b41a-4df4-9c86-c1e0577902bd",
   "metadata": {},
   "outputs": [],
   "source": [
    "ttH_2d_N = ttH_2d_int_hist/ttH_2d_int\n",
    "\n",
    "ttH_2d_N"
   ]
  },
  {
   "cell_type": "code",
   "execution_count": null,
   "id": "5356fe95-6e0a-4290-b30f-26549d2921ee",
   "metadata": {},
   "outputs": [],
   "source": [
    "ttH_dz = ttH_hist2d.ravel()\n",
    "\n",
    "# Create a 3D plot\n",
    "fig = plt.figure(figsize=(10, 7))\n",
    "ax = fig.add_subplot(111, projection='3d')\n",
    "\n",
    "ax.bar3d(xpos, ypos, zpos, dx, dy, ttH_dz, zsort='average',alpha=0.1)\n",
    "\n",
    "#MYY, MBB = np.meshgrid(np.linspace(myy_min,myy_max,1000),np.linspace(mbb_min,mbb_max,1000))\n",
    "\n",
    "ax.plot_surface(MYY, MBB, ttH_2d(MYY,MBB) * ttH_2d_N, alpha=0.8, color='orange')\n",
    "\n",
    "ax.set_xlabel('myy')\n",
    "ax.set_ylabel('mbb')\n",
    "plt.title('ttH')\n",
    "\n",
    "plt.show()"
   ]
  },
  {
   "cell_type": "markdown",
   "id": "3e6eff01-9fa2-4b94-8811-3e3042e565e7",
   "metadata": {},
   "source": [
    "### qqZH"
   ]
  },
  {
   "cell_type": "code",
   "execution_count": null,
   "id": "f226ffd0-6942-4347-a675-923784625a5d",
   "metadata": {},
   "outputs": [],
   "source": [
    "def qqZH_2d(myy, mbb):\n",
    "    return dscb_func(myy, *qqZH_myy_popt) * cb_func(mbb, *qqZH_mbb_popt)"
   ]
  },
  {
   "cell_type": "code",
   "execution_count": null,
   "id": "199f5c18-fc5b-4eba-a347-b5530875429e",
   "metadata": {},
   "outputs": [],
   "source": [
    "qqZH_hist2d, qqZH_hist2d_xedges, qqZH_hist2d_yedges = \\\n",
    "np.histogram2d(qqZH_myy, qqZH_mbb, bins=[myy_bins, mbb_bins], range=[myy_range, mbb_range], weights=qqZH_weights)"
   ]
  },
  {
   "cell_type": "code",
   "execution_count": null,
   "id": "62620728-1469-4ec1-9c52-32ad9a4b4f52",
   "metadata": {},
   "outputs": [],
   "source": [
    "qqZH_2d_int_hist = np.sum(qqZH_hist2d) * 30000/19 * 5000\n",
    "\n",
    "qqZH_2d_int_hist"
   ]
  },
  {
   "cell_type": "code",
   "execution_count": null,
   "id": "027f3bca-1f15-42c0-845a-6cbb8961b88d",
   "metadata": {},
   "outputs": [],
   "source": [
    "from scipy import integrate\n",
    "\n",
    "# Calculate the double integral\n",
    "qqZH_2d_int, qqZH_abserr = integrate.dblquad(qqZH_2d, mbb_min, mbb_max, myy_min, myy_max)\n",
    "\n",
    "qqZH_2d_int"
   ]
  },
  {
   "cell_type": "code",
   "execution_count": null,
   "id": "6c8a28b6-63db-4068-a7de-176a2c5b3654",
   "metadata": {},
   "outputs": [],
   "source": [
    "qqZH_2d_N = qqZH_2d_int_hist/qqZH_2d_int\n",
    "\n",
    "qqZH_2d_N"
   ]
  },
  {
   "cell_type": "code",
   "execution_count": null,
   "id": "506c0757-453a-4159-8c24-68efe8d1c642",
   "metadata": {},
   "outputs": [],
   "source": [
    "qqZH_dz = qqZH_hist2d.ravel()\n",
    "\n",
    "# Create a 3D plot\n",
    "fig = plt.figure(figsize=(10, 7))\n",
    "ax = fig.add_subplot(111, projection='3d')\n",
    "\n",
    "ax.bar3d(xpos, ypos, zpos, dx, dy, qqZH_dz, zsort='average',alpha=0.1)\n",
    "\n",
    "#MYY, MBB = np.meshgrid(np.linspace(myy_min,myy_max,1000),np.linspace(mbb_min,mbb_max,1000))\n",
    "\n",
    "ax.plot_surface(MYY, MBB, qqZH_2d(MYY,MBB) * qqZH_2d_N, alpha=0.8, color='orange')\n",
    "\n",
    "ax.set_xlabel('myy')\n",
    "ax.set_ylabel('mbb')\n",
    "plt.title('qqZH')\n",
    "\n",
    "plt.show()"
   ]
  },
  {
   "cell_type": "markdown",
   "id": "be1df8f3-2839-43a4-99cd-48080ca87f54",
   "metadata": {},
   "source": [
    "### yybb"
   ]
  },
  {
   "cell_type": "code",
   "execution_count": null,
   "id": "7cfa487f-ae8c-4928-88aa-1bd515ac5bf6",
   "metadata": {},
   "outputs": [],
   "source": [
    "def yybb_2d(myy, mbb):\n",
    "    return exp_fit(myy, *yybb_myy_popt) * cb_func(mbb, *yybb_mbb_popt)"
   ]
  },
  {
   "cell_type": "code",
   "execution_count": null,
   "id": "4366c0e9-b3e5-41d0-a08e-179344bf0bed",
   "metadata": {},
   "outputs": [],
   "source": [
    "yybb_hist2d, yybb_hist2d_xedges, yybb_hist2d_yedges = \\\n",
    "np.histogram2d(yybb_myy, yybb_mbb, bins=[myy_bins, mbb_bins], range=[myy_range, mbb_range], weights=yybb_weights)"
   ]
  },
  {
   "cell_type": "code",
   "execution_count": null,
   "id": "eda2e240-4065-46de-b57f-e763eb40db53",
   "metadata": {},
   "outputs": [],
   "source": [
    "yybb_2d_int_hist = np.sum(yybb_hist2d) * 30000/19 * 5000\n",
    "\n",
    "yybb_2d_int_hist"
   ]
  },
  {
   "cell_type": "code",
   "execution_count": null,
   "id": "1aeed867-46ee-481b-b136-4d19f61187d6",
   "metadata": {},
   "outputs": [],
   "source": [
    "from scipy import integrate\n",
    "\n",
    "# Calculate the double integral\n",
    "yybb_2d_int, yybb_abserr = integrate.dblquad(yybb_2d, mbb_min, mbb_max, myy_min, myy_max)\n",
    "\n",
    "yybb_2d_int"
   ]
  },
  {
   "cell_type": "code",
   "execution_count": null,
   "id": "e0bb8076-cefc-4f7b-abe8-c135e4556b67",
   "metadata": {},
   "outputs": [],
   "source": [
    "yybb_2d_N = yybb_2d_int_hist/yybb_2d_int\n",
    "\n",
    "yybb_2d_N"
   ]
  },
  {
   "cell_type": "code",
   "execution_count": null,
   "id": "53b528c2-8fa8-472e-a0d1-17a8b20680e5",
   "metadata": {},
   "outputs": [],
   "source": [
    "yybb_dz = yybb_hist2d.ravel()\n",
    "\n",
    "# Create a 3D plot\n",
    "fig = plt.figure(figsize=(10, 7))\n",
    "ax = fig.add_subplot(111, projection='3d')\n",
    "\n",
    "ax.bar3d(xpos, ypos, zpos, dx, dy, yybb_dz, zsort='average',alpha=0.1)\n",
    "\n",
    "#MYY, MBB = np.meshgrid(np.linspace(myy_min,myy_max,1000),np.linspace(mbb_min,mbb_max,1000))\n",
    "\n",
    "ax.plot_surface(MYY, MBB, yybb_2d(MYY,MBB) * yybb_2d_N, alpha=0.8, color='orange')\n",
    "\n",
    "ax.set_xlabel('myy')\n",
    "ax.set_ylabel('mbb')\n",
    "plt.title('yybb')\n",
    "\n",
    "plt.show()"
   ]
  },
  {
   "cell_type": "markdown",
   "id": "c048a788-4a15-4580-abda-4a1a42a3e409",
   "metadata": {},
   "source": [
    "### ggFHH_kl1"
   ]
  },
  {
   "cell_type": "code",
   "execution_count": null,
   "id": "988f546d-f16a-4b11-a95f-a472c13d8cd5",
   "metadata": {},
   "outputs": [],
   "source": [
    "def ggFHH_kl1_2d(myy, mbb):\n",
    "    return dscb_func(myy, *ggFHH_kl1_myy_popt) * dscb_func(mbb, *ggFHH_kl1_mbb_popt)"
   ]
  },
  {
   "cell_type": "code",
   "execution_count": null,
   "id": "6d0b642e-376e-46fd-8c9b-fb0a9950e5a2",
   "metadata": {},
   "outputs": [],
   "source": [
    "ggFHH_kl1_hist2d, ggFHH_kl1_hist2d_xedges, ggFHH_kl1_hist2d_yedges = \\\n",
    "np.histogram2d(ggFHH_kl1_myy, ggFHH_kl1_mbb, bins=[myy_bins, mbb_bins], range=[myy_range, mbb_range], weights=ggFHH_kl1_weights)"
   ]
  },
  {
   "cell_type": "code",
   "execution_count": null,
   "id": "9c6f67e6-a5d0-4526-9ef2-0960caa2d5c5",
   "metadata": {},
   "outputs": [],
   "source": [
    "ggFHH_kl1_2d_int_hist = np.sum(ggFHH_kl1_hist2d) * 30000/19 * 5000\n",
    "\n",
    "ggFHH_kl1_2d_int_hist"
   ]
  },
  {
   "cell_type": "code",
   "execution_count": null,
   "id": "5853187d-c9a4-47c7-bcc2-327dfda228a1",
   "metadata": {},
   "outputs": [],
   "source": [
    "from scipy import integrate\n",
    "\n",
    "# Calculate the double integral\n",
    "ggFHH_kl1_2d_int, ggFHH_kl1_abserr = integrate.dblquad(ggFHH_kl1_2d, mbb_min, mbb_max, myy_min, myy_max)\n",
    "\n",
    "ggFHH_kl1_2d_int"
   ]
  },
  {
   "cell_type": "code",
   "execution_count": null,
   "id": "1c9bff87-36b3-47b5-bb94-c9b8f7a05e88",
   "metadata": {},
   "outputs": [],
   "source": [
    "ggFHH_kl1_2d_N = ggFHH_kl1_2d_int_hist/ggFHH_kl1_2d_int\n",
    "\n",
    "ggFHH_kl1_2d_N"
   ]
  },
  {
   "cell_type": "code",
   "execution_count": null,
   "id": "8f27b8b4-3bc1-4ed4-8b72-3e469dcb0e13",
   "metadata": {},
   "outputs": [],
   "source": [
    "ggFHH_kl1_dz = ggFHH_kl1_hist2d.ravel()\n",
    "\n",
    "# Create a 3D plot\n",
    "fig = plt.figure(figsize=(10, 7))\n",
    "ax = fig.add_subplot(111, projection='3d')\n",
    "\n",
    "ax.bar3d(xpos, ypos, zpos, dx, dy, ggFHH_kl1_dz, zsort='average',alpha=0.1)\n",
    "\n",
    "#MYY, MBB = np.meshgrid(np.linspace(myy_min,myy_max,1000),np.linspace(mbb_min,mbb_max,1000))\n",
    "\n",
    "ax.plot_surface(MYY, MBB, ggFHH_kl1_2d(MYY,MBB) * ggFHH_kl1_2d_N, alpha=0.8, color='orange')\n",
    "\n",
    "ax.set_xlabel('myy')\n",
    "ax.set_ylabel('mbb')\n",
    "plt.title('ggFHH_kl1')\n",
    "\n",
    "plt.show()"
   ]
  },
  {
   "cell_type": "markdown",
   "id": "d29d6e0c-5f7d-4447-9bd8-7f2a25d2090a",
   "metadata": {},
   "source": [
    "### All Signals Combined"
   ]
  },
  {
   "cell_type": "code",
   "execution_count": null,
   "id": "07f89633-2a66-4e72-a753-2ec79f123b8f",
   "metadata": {},
   "outputs": [],
   "source": [
    "def signal_2d(myymbb, N1, N2):\n",
    "    myy, mbb = myymbb\n",
    "    return N1 * VBFHH_2d_N * dscb_func(mbb, *VBFHH_mbb_popt) * dscb_func(myy, *VBFHH_myy_popt) \\\n",
    "            + ggFH_2d_N * gauss_func(mbb, *ggFH_mbb_popt) * dscb_func(myy, *ggFH_myy_popt) \\\n",
    "                + ttH_2d_N * dscb_func(mbb, *ttH_mbb_popt) * dscb_func(myy, *ttH_myy_popt) \\\n",
    "                    + qqZH_2d_N * cb_func(mbb, *qqZH_mbb_popt) * dscb_func(myy, *qqZH_myy_popt) \\\n",
    "                        + N2 * yybb_2d_N * cb_func(mbb, *yybb_mbb_popt) * exp_fit(myy, *yybb_myy_popt) \\\n",
    "                            + N1 * ggFHH_kl1_2d_N * dscb_func(mbb, *ggFHH_kl1_mbb_popt) * dscb_func(myy, *ggFHH_kl1_myy_popt)\n",
    "\n",
    "signal_2d_labels = [r'$\\mu$', r'$\\mu_b$'] #, r'$\\lambda_{\\gamma\\gamma}$'] #r'$\\mu_{gauss}$', r'$\\sigma_{gauss}$'\n",
    "signal_2d_units = ['', '', r'GeV$^{-1}$'] #'GeV', 'GeV']"
   ]
  },
  {
   "cell_type": "code",
   "execution_count": null,
   "id": "de3a3b1a-8bf6-4a76-8155-7488a8b020ae",
   "metadata": {},
   "outputs": [],
   "source": []
  },
  {
   "cell_type": "code",
   "execution_count": null,
   "id": "7e7727c5-fd5e-456c-bc08-3002e9446715",
   "metadata": {},
   "outputs": [],
   "source": [
    "def signal_2d_2(myymbb, N1, N2, l):\n",
    "    myy, mbb = myymbb\n",
    "    return N1 * VBFHH_2d_N * dscb_func(mbb, *VBFHH_mbb_popt) * dscb_func(myy, *VBFHH_myy_popt) \\\n",
    "            + ggFH_2d_N * gauss_func(mbb, *ggFH_mbb_popt) * dscb_func(myy, *ggFH_myy_popt) \\\n",
    "                + ttH_2d_N * dscb_func(mbb, *ttH_mbb_popt) * dscb_func(myy, *ttH_myy_popt) \\\n",
    "                    + qqZH_2d_N * cb_func(mbb, *qqZH_mbb_popt) * dscb_func(myy, *qqZH_myy_popt) \\\n",
    "                        + N2 * yybb_2d_N * cb_func(mbb, *yybb_mbb_popt) * exp_fit(myy, yybb_myy_popt[0], l) \\\n",
    "                            + N1 * ggFHH_kl1_2d_N * dscb_func(mbb, *ggFHH_kl1_mbb_popt) * dscb_func(myy, *ggFHH_kl1_myy_popt)\n",
    "\n",
    "signal_2d_labels2 = [r'$\\mu$', r'$\\mu_b$', r'$\\lambda_{\\gamma\\gamma}$'] #r'$\\mu_{gauss}$', r'$\\sigma_{gauss}$'\n",
    "signal_2d_units2 = ['', '', r'GeV$^{-1}$'] #'GeV', 'GeV']"
   ]
  },
  {
   "cell_type": "code",
   "execution_count": null,
   "id": "76e84e67-2173-4b36-ad9e-4227ddc1d2ce",
   "metadata": {},
   "outputs": [],
   "source": [
    "signal_hist2d, signal_hist2d_xedges, signal_hist2d_yedges = \\\n",
    "np.histogram2d(signal_myy, signal_mbb, bins=[myy_bins, mbb_bins], range=[myy_range, mbb_range], weights=signal_weights)\n",
    "\n",
    "signal_2d_err = poisson_error(signal_hist2d)"
   ]
  },
  {
   "cell_type": "code",
   "execution_count": null,
   "id": "17c014b5-e251-4cd6-baed-5bde25c98f7e",
   "metadata": {},
   "outputs": [],
   "source": []
  },
  {
   "cell_type": "code",
   "execution_count": null,
   "id": "89b919a3-5163-4f35-84fb-ca784bf60244",
   "metadata": {},
   "outputs": [],
   "source": [
    "signal_dz = signal_hist2d.ravel()\n",
    "\n",
    "# Create a 3D plot\n",
    "fig = plt.figure(figsize=(10, 7))\n",
    "ax = fig.add_subplot(111, projection='3d')\n",
    "\n",
    "ax.bar3d(xpos, ypos, zpos, dx, dy, signal_dz, zsort='average',alpha=0.1)\n",
    "\n",
    "#MYY, MBB = np.meshgrid(np.linspace(myy_min,myy_max,1000),np.linspace(mbb_min,mbb_max,1000))\n",
    "\n",
    "ax.plot_surface(MYY, MBB, signal_2d((MYY,MBB), 1, 1), alpha=0.8, color='orange')\n",
    "\n",
    "ax.set_xlabel('myy')\n",
    "ax.set_ylabel('mbb')\n",
    "plt.title('Combined Signal')\n",
    "\n",
    "plt.show()"
   ]
  },
  {
   "cell_type": "code",
   "execution_count": null,
   "id": "337fc7f0-4e83-4d69-9d90-dbf6cf1fb1cd",
   "metadata": {},
   "outputs": [],
   "source": [
    "def signal_2d_fit(myymbb, N1, N2):\n",
    "    myy, mbb = myymbb\n",
    "    value = N1 * VBFHH_2d_N * dscb_func(mbb, *VBFHH_mbb_popt) * dscb_func(myy, *VBFHH_myy_popt) \\\n",
    "            + ggFH_2d_N * double_gauss(mbb, *ggFH_mbb_popt) * dscb_func(myy, *ggFH_myy_popt) \\\n",
    "                + ttH_2d_N * dscb_func(mbb, *ttH_mbb_popt) * dscb_func(myy, *ttH_myy_popt) \\\n",
    "                    + qqZH_2d_N * cb_func(mbb, *qqZH_mbb_popt) * dscb_func(myy, *qqZH_myy_popt) \\\n",
    "                        + N2 * yybb_2d_N * cb_func(mbb, *yybb_mbb_popt) * exp_fit(myy, *yybb_myy_popt) \\\n",
    "                            + N1 * ggFHH_kl1_2d_N * dscb_func(mbb, *ggFHH_kl1_mbb_popt) * dscb_func(myy, *ggFHH_kl1_myy_popt)\n",
    "\n",
    "    return value.ravel()"
   ]
  },
  {
   "cell_type": "code",
   "execution_count": null,
   "id": "e5b45271-397d-4031-9ade-6552e1d8fa74",
   "metadata": {},
   "outputs": [],
   "source": []
  },
  {
   "cell_type": "code",
   "execution_count": null,
   "id": "7ff19faf-a507-47e3-9732-02474588c0a7",
   "metadata": {},
   "outputs": [],
   "source": [
    "def signal_2d_fit(myymbb, N1, N2):\n",
    "    myy, mbb = myymbb\n",
    "    value = N1 * VBFHH_2d_N * dscb_func(mbb, *VBFHH_mbb_popt) * dscb_func(myy, *VBFHH_myy_popt) \\\n",
    "            + ggFH_2d_N * gauss_func(mbb, *ggFH_mbb_popt) * dscb_func(myy, *ggFH_myy_popt) \\\n",
    "                + ttH_2d_N * dscb_func(mbb, *ttH_mbb_popt) * dscb_func(myy, *ttH_myy_popt) \\\n",
    "                    + qqZH_2d_N * cb_func(mbb, *qqZH_mbb_popt) * dscb_func(myy, *qqZH_myy_popt) \\\n",
    "                        + N2 * yybb_2d_N * cb_func(mbb, *yybb_mbb_popt) * exp_fit(myy, *yybb_myy_popt) \\\n",
    "                            + N1 * ggFHH_kl1_2d_N * dscb_func(mbb, *ggFHH_kl1_mbb_popt) * dscb_func(myy, *ggFHH_kl1_myy_popt)\n",
    "\n",
    "    return value.ravel()"
   ]
  },
  {
   "cell_type": "code",
   "execution_count": null,
   "id": "e61f37c6-5cce-4a52-a512-a16a88f5ec1b",
   "metadata": {},
   "outputs": [],
   "source": [
    "def signal_2d_fit2(myymbb, N1, N2, l):\n",
    "    myy, mbb = myymbb\n",
    "    value = N1 * VBFHH_2d_N * dscb_func(mbb, *VBFHH_mbb_popt) * dscb_func(myy, *VBFHH_myy_popt) \\\n",
    "            + ggFH_2d_N * gauss_func(mbb, *ggFH_mbb_popt) * dscb_func(myy, *ggFH_myy_popt) \\\n",
    "                + ttH_2d_N * dscb_func(mbb, *ttH_mbb_popt) * dscb_func(myy, *ttH_myy_popt) \\\n",
    "                    + qqZH_2d_N * cb_func(mbb, *qqZH_mbb_popt) * dscb_func(myy, *qqZH_myy_popt) \\\n",
    "                        + N2 * yybb_2d_N * cb_func(mbb, *yybb_mbb_popt) * exp_fit(myy, yybb_myy_popt[0], l) \\\n",
    "                            + N1 * ggFHH_kl1_2d_N * dscb_func(mbb, *ggFHH_kl1_mbb_popt) * dscb_func(myy, *ggFHH_kl1_myy_popt)\n",
    "\n",
    "    return value.ravel()"
   ]
  },
  {
   "cell_type": "code",
   "execution_count": null,
   "id": "3507b242-809d-41e4-a626-3c85f84016ed",
   "metadata": {},
   "outputs": [],
   "source": [
    "MYY_bin_centers, MBB_bin_centers = np.meshgrid(myy_bin_centers, mbb_bin_centers, indexing='ij')\n",
    "\n",
    "signal_2d_popt, signal_2d_pcov = curve_fit(signal_2d_fit, (MYY_bin_centers,MBB_bin_centers), signal_hist2d.ravel(), \\\n",
    "                                           sigma=np.mean(signal_2d_err, axis=0).ravel(), p0=[1, 1], \\\n",
    "                                          absolute_sigma=True)\n",
    "\n",
    "signal_2d_chi_red = np.sum( (signal_2d_fit((MYY_bin_centers,MBB_bin_centers),*signal_2d_popt)-signal_hist2d.ravel())**2 / np.mean(signal_2d_err, axis=0).ravel()**2 )\n",
    "\n",
    "signal_2d_legend = get_legend(signal_2d_popt, signal_2d_pcov, signal_2d_chi_red, signal_2d_labels, signal_2d_units)"
   ]
  },
  {
   "cell_type": "code",
   "execution_count": null,
   "id": "a79fb396-301f-4cd9-910e-c16650396b2d",
   "metadata": {},
   "outputs": [],
   "source": [
    "signal_2d_popt2, signal_2d_pcov2 = curve_fit(signal_2d_fit2, (MYY_bin_centers,MBB_bin_centers), signal_hist2d.ravel(), \\\n",
    "                                           sigma=np.mean(signal_2d_err, axis=0).ravel(), p0=[1, 1, yybb_myy_popt[1]], \\\n",
    "                                          absolute_sigma=True)\n",
    "\n",
    "signal_2d_chi_red2 = np.sum( (signal_2d_fit2((MYY_bin_centers,MBB_bin_centers),*signal_2d_popt2)-signal_hist2d.ravel())**2 / np.mean(signal_2d_err, axis=0).ravel()**2 )\n",
    "\n",
    "signal_2d_legend2 = get_legend(signal_2d_popt2, signal_2d_pcov2, signal_2d_chi_red, signal_2d_labels2, signal_2d_units2)"
   ]
  },
  {
   "cell_type": "code",
   "execution_count": null,
   "id": "1dfd6c95-86d2-4107-a697-d035f88f61ec",
   "metadata": {},
   "outputs": [],
   "source": [
    "import matplotlib.lines as mlines\n",
    "\n",
    "# Create a 3D plot\n",
    "fig = plt.figure(figsize=(10, 7))\n",
    "ax = fig.add_subplot(111, projection='3d')\n",
    "\n",
    "ax.set_xticks(np.linspace(myy_min,myy_max,7),(np.linspace(myy_min,myy_max,7)/1e3).astype(int))\n",
    "ax.set_yticks(np.linspace(mbb_min,mbb_max,6),(np.linspace(mbb_min,mbb_max,6)/1e3).astype(int))\n",
    "\n",
    "ax.bar3d(xpos, ypos, zpos, dx, dy, signal_dz, zsort='average',alpha=0.1)\n",
    "\n",
    "#MYY, MBB = np.meshgrid(np.linspace(myy_min,myy_max,1000),np.linspace(mbb_min,mbb_max,1000))\n",
    "\n",
    "surf = ax.plot_surface(MYY, MBB, signal_2d((MYY,MBB), *signal_2d_popt), alpha=0.9, color='orange')\n",
    "\n",
    "ax.set_xlabel('myy [GeV]')\n",
    "ax.set_ylabel('mbb [GeV]')\n",
    "plt.title('Combined Signal')\n",
    "\n",
    "proxy = mlines.Line2D([0],[0], color='orange', marker='.', linestyle='None', markersize=1, label=signal_2d_legend)\n",
    "ax.legend(handles=[proxy])\n",
    "\n",
    "plt.show()\n",
    "\n",
    "#plt.savefig('./Plots/2D-plots/Y0_2d.pdf', format='pdf')"
   ]
  },
  {
   "cell_type": "code",
   "execution_count": null,
   "id": "0d0743d1-b58b-498b-8c52-141299c8c343",
   "metadata": {},
   "outputs": [],
   "source": [
    "hist2d_diff = signal_2d((MYY_bin_centers,MBB_bin_centers), *signal_2d_popt) - signal_hist2d\n",
    "\n",
    "#plt.figure(figsize=(10,2))\n",
    "\n",
    "plt.title('Residuals')\n",
    "plt.xlabel('mbb [GeV]')\n",
    "plt.ylabel('myy [GeV]')\n",
    "\n",
    "plt.imshow(hist2d_diff, cmap='Reds', extent=[80,180,110,140])\n",
    "\n",
    "plt.gca().set_aspect('auto')\n",
    "\n",
    "plt.colorbar()"
   ]
  },
  {
   "cell_type": "code",
   "execution_count": null,
   "id": "f57882cd-1421-4d79-a7dd-a6a6f7910241",
   "metadata": {},
   "outputs": [],
   "source": [
    "np.savez('HM-SampleArrays/HM-Y=3/Y=3-2D-no_mbb-20-19-Signal.npz', popt=signal_2d_popt, pcov=signal_2d_pcov)"
   ]
  },
  {
   "cell_type": "code",
   "execution_count": null,
   "id": "bf8209b3-d50e-4046-bc60-ac2de92237d2",
   "metadata": {},
   "outputs": [],
   "source": []
  },
  {
   "cell_type": "code",
   "execution_count": null,
   "id": "d80a2414-52dc-47c3-bda4-12bd16b24244",
   "metadata": {},
   "outputs": [],
   "source": []
  },
  {
   "cell_type": "markdown",
   "id": "46a242d4-a19a-4e23-a4eb-8e197a73e358",
   "metadata": {},
   "source": [
    "### Test with $\\lambda_{\\gamma\\gamma}$ floating"
   ]
  },
  {
   "cell_type": "code",
   "execution_count": null,
   "id": "cf294883-882b-4ca0-a883-e7285082ff30",
   "metadata": {},
   "outputs": [],
   "source": []
  },
  {
   "cell_type": "code",
   "execution_count": null,
   "id": "54063c82-87f8-4131-b0ce-ce43cfe7fbba",
   "metadata": {},
   "outputs": [],
   "source": [
    "import matplotlib.lines as mlines\n",
    "\n",
    "# Create a 3D plot\n",
    "fig = plt.figure(figsize=(10, 7))\n",
    "ax = fig.add_subplot(111, projection='3d')\n",
    "\n",
    "ax.set_xticks(np.linspace(myy_min,myy_max,7),(np.linspace(myy_min,myy_max,7)/1e3).astype(int))\n",
    "ax.set_yticks(np.linspace(mbb_min,mbb_max,6),(np.linspace(mbb_min,mbb_max,6)/1e3).astype(int))\n",
    "\n",
    "ax.bar3d(xpos, ypos, zpos, dx, dy, signal_dz, zsort='average',alpha=0.1)\n",
    "\n",
    "#MYY, MBB = np.meshgrid(np.linspace(myy_min,myy_max,1000),np.linspace(mbb_min,mbb_max,1000))\n",
    "\n",
    "surf = ax.plot_surface(MYY, MBB, signal_2d_2((MYY,MBB), *signal_2d_popt2), alpha=0.9, color='orange')\n",
    "\n",
    "ax.set_xlabel('myy [GeV]')\n",
    "ax.set_ylabel('mbb [GeV]')\n",
    "plt.title('Combined Signal')\n",
    "\n",
    "proxy = mlines.Line2D([0],[0], color='orange', marker='.', linestyle='None', markersize=1, label=signal_2d_legend2)\n",
    "ax.legend(handles=[proxy])\n",
    "\n",
    "plt.show()\n",
    "\n",
    "#plt.savefig('./Plots/2D-plots/Y0_2d.pdf', format='pdf')"
   ]
  },
  {
   "cell_type": "markdown",
   "id": "47060892-1da7-4732-b600-f6553e3c1120",
   "metadata": {},
   "source": [
    "## 2D Templates"
   ]
  },
  {
   "cell_type": "markdown",
   "id": "10a03b89-70cf-4992-bf69-d06ba6be0410",
   "metadata": {},
   "source": [
    "### VBFHH"
   ]
  },
  {
   "cell_type": "code",
   "execution_count": null,
   "id": "fe38560e-9ee2-4f68-9663-4de373a764fb",
   "metadata": {},
   "outputs": [],
   "source": [
    "def dscb_2d(myymbb, mu1, sigma1, alpha_L1, alpha_R1, n_L1, n_R1, N1, mu2, sigma2, alpha_L2, alpha_R2, n_L2, n_R2, N2):\n",
    "    myy, mbb = myymbb\n",
    "    return dscb_func(myy, mu1, sigma1, alpha_L1, alpha_R1, n_L1, n_R1, N1) * dscb_func(mbb, mu2, sigma2, alpha_L2, alpha_R2, n_L2, n_R2, N2)\n",
    "\n",
    "dscb_2d_labels = dscb_labels[:-1] + dscb_labels[:-1]\n",
    "dscb_2d_units = 2 * dscb_units"
   ]
  },
  {
   "cell_type": "code",
   "execution_count": null,
   "id": "1f753fc3-3842-40f3-9be7-7baec58bd906",
   "metadata": {},
   "outputs": [],
   "source": [
    "def dscb_fit_2d(myymbb, mu1, sigma1, alpha_L1, alpha_R1, n_L1, n_R1, N1, mu2, sigma2, alpha_L2, alpha_R2, n_L2, n_R2, N2):\n",
    "    myy, mbb = myymbb\n",
    "    \n",
    "    value = dscb_func(myy, mu1, sigma1, alpha_L1, alpha_R1, n_L1, n_R1, N1) * dscb_func(mbb, mu2, sigma2, alpha_L2, alpha_R2, n_L2, n_R2, N2)\n",
    "\n",
    "    return value.ravel()"
   ]
  },
  {
   "cell_type": "code",
   "execution_count": null,
   "id": "c94f9f81-ae2f-4f3c-9dd4-60adf0da7c13",
   "metadata": {},
   "outputs": [],
   "source": [
    "def VBFHH_2dfit(myymbb, mu1, sigma1, alpha_L1, alpha_R1, n_L1, n_R1, N1, mu2, sigma2, alpha_L2, alpha_R2, n_L2, n_R2, N2):\n",
    "    myy, mbb = myymbb\n",
    "\n",
    "    return VBFHH_2d_N * dscb_func(myy, mu1, sigma1, alpha_L1, alpha_R1, n_L1, n_R1, N1) * dscb_func(mbb, mu2, sigma2, alpha_L2, alpha_R2, n_L2, n_R2, N2)\n",
    "\n",
    "VBFHH_2dfit_labels = [r'$\\mu_{myy}$', r'$\\sigma_{myy}$', r'$\\alpha_{L,myy}$', r'$\\alpha_{R,myy}$', r'n$_{L,myy}$', r'n$_{R,myy}$', 'N$_{myy}$', \\\n",
    "                     r'$\\mu_{mbb}$', r'$\\sigma_{mbb}$', r'$\\alpha_{L,mbb}$', r'$\\alpha_{R,mbb}$', r'n$_{L,mbb}$', r'n$_{R,mbb}$', 'N$_{mbb}$']\n",
    "VBFHH_2dfit_units = ['GeV', 'GeV', ' ', ' ', ' ', ' ', ' ', 'GeV', 'GeV', ' ', ' ', ' ', ' ', ' ']"
   ]
  },
  {
   "cell_type": "code",
   "execution_count": null,
   "id": "32280896-3397-464e-9e0f-dc65a0798eba",
   "metadata": {},
   "outputs": [],
   "source": [
    "def VBFHH_fit_2dfit(myymbb, mu1, sigma1, alpha_L1, alpha_R1, n_L1, n_R1, N1, mu2, sigma2, alpha_L2, alpha_R2, n_L2, n_R2, N2):\n",
    "    myy, mbb = myymbb\n",
    "\n",
    "    value = VBFHH_2d_N * dscb_func(myy, mu1, sigma1, alpha_L1, alpha_R1, n_L1, n_R1, N1) * dscb_func(mbb, mu2, sigma2, alpha_L2, alpha_R2, n_L2, n_R2, N2)\n",
    "\n",
    "    return value.ravel()"
   ]
  },
  {
   "cell_type": "code",
   "execution_count": null,
   "id": "1bab5ab7-984b-4a57-93b1-30b02ab5a2d9",
   "metadata": {},
   "outputs": [],
   "source": [
    "VBFHH_2d_err = poisson_error(VBFHH_hist2d)\n",
    "\n",
    "VBFHH_2d_bounds = [[1.249e5, 1.4e3, 1,   1,   7.5, 1.4e2, 5e-3,   1.17e5, 1.13e4, 1,   2.5, 1.4e2, 5.5,  7e-3], \\\n",
    "                   [1.255e5, 1.5e3, 1.5, 1.5, 8.2, 1.6e2, 5.5e-3, 1.19e5, 1.15e4, 1.2, 3.2, 1.5e2, 6.25, 8e-3]]\n",
    "\n",
    "VBFHH_2d_popt, VBFHH_2d_pcov = curve_fit(VBFHH_fit_2dfit, (MYY_bin_centers,MBB_bin_centers), VBFHH_hist2d.ravel(), p0=[125e3, 2.5e3, 1.64, 1.64612321e+00, \\\n",
    "       1.3, 13, 0.005, 120000,12000,1.5,1.5,3,3,0.007], \\\n",
    "                                         sigma=np.mean(VBFHH_2d_err, axis=0).ravel(), absolute_sigma=True)\n",
    "\n",
    "VBFHH_2d_chi_red = np.sum( (VBFHH_fit_2dfit((MYY_bin_centers,MBB_bin_centers),*VBFHH_2d_popt)-VBFHH_hist2d.ravel())**2 / np.mean(VBFHH_2d_err, axis=0).ravel()**2 )\n",
    "\n",
    "VBFHH_2d_legend = get_legend(VBFHH_2d_popt, VBFHH_2d_pcov, VBFHH_2d_chi_red, VBFHH_2dfit_labels, VBFHH_2dfit_units)"
   ]
  },
  {
   "cell_type": "code",
   "execution_count": null,
   "id": "a6c8400e-7409-4c3f-bc7a-eff23cbb4d15",
   "metadata": {},
   "outputs": [],
   "source": [
    "import matplotlib.lines as mlines\n",
    "\n",
    "dz = VBFHH_hist2d.ravel()\n",
    "\n",
    "# Create a 3D plot\n",
    "fig = plt.figure(figsize=(10, 7))\n",
    "ax = fig.add_subplot(111, projection='3d')\n",
    "\n",
    "ax.set_xticks(np.linspace(myy_min,myy_max,7),(np.linspace(myy_min,myy_max,7)/1e3).astype(int))\n",
    "ax.set_yticks(np.linspace(mbb_min,mbb_max,6),(np.linspace(mbb_min,mbb_max,6)/1e3).astype(int))\n",
    "\n",
    "ax.bar3d(xpos, ypos, zpos, dx, dy, dz, zsort='average',alpha=0.1)\n",
    "\n",
    "#MYY, MBB = np.meshgrid(np.linspace(myy_min,myy_max,1000),np.linspace(mbb_min,mbb_max,1000))\n",
    "\n",
    "surf = ax.plot_surface(MYY, MBB, VBFHH_2dfit((MYY,MBB), *VBFHH_2d_popt), alpha=0.9, color='orange')\n",
    "\n",
    "ax.set_xlabel('myy [GeV]')\n",
    "ax.set_ylabel('mbb [GeV]')\n",
    "plt.title('VBFHH')\n",
    "\n",
    "proxy = mlines.Line2D([0],[0], color='orange', marker='.', linestyle='None', markersize=1, label=VBFHH_2d_legend)\n",
    "ax.legend(handles=[proxy])\n",
    "\n",
    "plt.show()\n",
    "\n",
    "#plt.savefig('./Plots/2D-plots/Y0_2d.pdf', format='pdf')"
   ]
  },
  {
   "cell_type": "code",
   "execution_count": null,
   "id": "335fbfcb-4ce9-4d1d-b653-d6e6ea3774b4",
   "metadata": {
    "scrolled": true
   },
   "outputs": [],
   "source": [
    "from tabulate import tabulate\n",
    "\n",
    "tab_text = np.array(['mu_myy', 'sigma_myy', 'alpha_L_myy', 'alpha_R_myy', 'n_L_myy', 'n_R_myy', 'N_myy', \\\n",
    "                     'mu_mbb', 'sigma_mbb', 'alpha_L_mbb', 'alpha_R_mbb', 'n_L_mbb', 'n_R_mbb', 'N_mbb'])\n",
    "\n",
    "VBFHH_2d_tab = np.array([tab_text, VBFHH_2d_popt, np.concatenate([VBFHH_myy_popt, VBFHH_mbb_popt]), \\\n",
    "                         np.sqrt(np.diag(VBFHH_2d_pcov)), np.concatenate([np.sqrt(np.diag(VBFHH_myy_pcov)), np.sqrt(np.diag(VBFHH_mbb_pcov))]) ])\n",
    "\n",
    "print(tabulate(VBFHH_2d_tab.T, stralign='left', headers=['', '2d_values', '1d_values', '2d_uncertainties', '1d_uncertainties']))"
   ]
  },
  {
   "cell_type": "code",
   "execution_count": null,
   "id": "6b1b24fc-3894-44a6-b20a-e662656170eb",
   "metadata": {},
   "outputs": [],
   "source": [
    "import matplotlib.colors as mcolors\n",
    "\n",
    "VBFHH_2d_diff = VBFHH_2d(MYY_bin_centers,MBB_bin_centers) * VBFHH_2d_N - VBFHH_hist2d\n",
    "VBFHH_2d_ratio = VBFHH_2d(MYY_bin_centers,MBB_bin_centers) * VBFHH_2d_N / VBFHH_hist2d\n",
    "\n",
    "VBFHH_2dfit_diff = VBFHH_2dfit((MYY_bin_centers,MBB_bin_centers), *VBFHH_2d_popt) - VBFHH_hist2d\n",
    "VBFHH_2dfit_ratio = VBFHH_2dfit((MYY_bin_centers,MBB_bin_centers), *VBFHH_2d_popt) / VBFHH_hist2d\n",
    "\n",
    "fig, axes = plt.subplots(2, 2, figsize=(10, 8))\n",
    "\n",
    "\n",
    "norm_residuals = mcolors.TwoSlopeNorm(vmin=np.min(VBFHH_2d_diff), vcenter=0, vmax=np.max(VBFHH_2d_diff))\n",
    "\n",
    "norm_ratio = mcolors.TwoSlopeNorm(vmin=0, vcenter=1, vmax=4)\n",
    "\n",
    "im1 = axes[0, 0].imshow(VBFHH_2d_diff, cmap='viridis', extent=[80,180,110,140], norm=norm_residuals)\n",
    "axes[0, 0].set_title('VBFHH - Residuals (2 x 1D-Fit)')\n",
    "axes[0, 0].set_aspect('auto')\n",
    "fig.colorbar(im1, ax=axes[0,0])\n",
    "\n",
    "im2 = axes[0, 1].imshow(VBFHH_2d_ratio, cmap='viridis', extent=[80,180,110,140], norm=norm_ratio)\n",
    "axes[0, 1].set_title('VBFHH - Ratio (2 x 1D-Fit)')\n",
    "axes[0, 1].set_aspect('auto')\n",
    "fig.colorbar(im2, ax=axes[0,1], ticks=[0,1,2,3,4])\n",
    "\n",
    "im3 = axes[1, 0].imshow(VBFHH_2dfit_diff, cmap='viridis', extent=[80,180,110,140], norm=norm_residuals)\n",
    "axes[1, 0].set_title('VBFHH - Residuals (1 x 2D-Fit)')\n",
    "axes[1, 0].set_aspect('auto')\n",
    "fig.colorbar(im3, ax=axes[1,0])\n",
    "\n",
    "im4 = axes[1, 1].imshow(VBFHH_2dfit_ratio, cmap='viridis', extent=[80,180,110,140], norm=norm_ratio)\n",
    "axes[1, 1].set_title('VBFHH - Ratio (1 x 2D-Fit)')\n",
    "axes[1, 1].set_aspect('auto')\n",
    "fig.colorbar(im4, ax=axes[1,1], ticks=[0,1,2,3,4])"
   ]
  },
  {
   "cell_type": "markdown",
   "id": "063f3b65-b7b1-4e1a-be86-0b553bdb2146",
   "metadata": {},
   "source": [
    "### ggFH"
   ]
  },
  {
   "cell_type": "code",
   "execution_count": null,
   "id": "fae5f475-66a7-4946-8814-417d1c26bd4a",
   "metadata": {},
   "outputs": [],
   "source": [
    "def ggFH_2dfit(myymbb, mu2, sigma2, alpha_L2, alpha_R2, n_L2, n_R2, N2,  mu, sigma, N):\n",
    "    myy, mbb = myymbb\n",
    "\n",
    "    return ggFH_2d_N * gauss_func(mbb, mu, sigma, N) * dscb_func(myy, mu2, sigma2, alpha_L2, alpha_R2, n_L2, n_R2, N2)"
   ]
  },
  {
   "cell_type": "code",
   "execution_count": null,
   "id": "c0db16d5-608b-4f51-867f-b307ec5af731",
   "metadata": {},
   "outputs": [],
   "source": [
    "def ggFH_fit_2dfit(myymbb, mu2, sigma2, alpha_L2, alpha_R2, n_L2, n_R2, N2, mu, sigma, N):\n",
    "    myy, mbb = myymbb\n",
    "\n",
    "    value = ggFH_2d_N * gauss_func(mbb, mu, sigma, N) * dscb_func(myy, mu2, sigma2, alpha_L2, alpha_R2, n_L2, n_R2, N2)\n",
    "\n",
    "    return value.ravel()\n",
    "\n",
    "ggFH_2d_labels = [r'$\\mu_{myy}$', r'$\\sigma_{myy}$', r'$\\alpha_{L,myy}$', r'$\\alpha_{R,myy}$', r'n$_{L,myy}$', r'n$_{R,myy}$', 'N$_{myy}$', \\\n",
    "                  r'$\\mu_{L,mbb}$', r'$\\sigma_{L,mbb}$', r'N$_{mbb}$',]\n",
    "ggFH_2d_units = ['GeV', 'GeV', ' ',  ' ', ' ' , ' ', ' ', 'GeV', 'GeV', ' ']"
   ]
  },
  {
   "cell_type": "code",
   "execution_count": null,
   "id": "6f38bdcd-b42c-49d5-90f1-02cf0bfda9b8",
   "metadata": {},
   "outputs": [],
   "source": [
    "ggFH_mbb_popt, ggFH_myy_popt"
   ]
  },
  {
   "cell_type": "code",
   "execution_count": null,
   "id": "dbf05858-995c-474f-a788-55920d6104d7",
   "metadata": {},
   "outputs": [],
   "source": [
    "ggFH_2d_err = poisson_error(ggFH_hist2d)\n",
    "\n",
    "VBFHH_2d_bounds = [[1.249e5, 1.4e3, 1,   1,   7.5, 1.4e2, 5e-3,   1.17e5, 1.13e4, 1,   2.5, 1.4e2, 5.5,  7e-3], \\\n",
    "                   [1.255e5, 1.5e3, 1.5, 1.5, 8.2, 1.6e2, 5.5e-3, 1.19e5, 1.15e4, 1.2, 3.2, 1.5e2, 6.25, 8e-3]]\n",
    "\n",
    "ggFH_2d_popt, ggFH_2d_pcov = curve_fit(ggFH_fit_2dfit, (MYY_bin_centers,MBB_bin_centers), ggFH_hist2d.ravel(), p0=[*ggFH_myy_popt, *ggFH_mbb_popt], \\\n",
    "                                         sigma=np.mean(ggFH_2d_err, axis=0).ravel(), absolute_sigma=True)\n",
    "\n",
    "ggFH_2d_chi_red = np.sum( (ggFH_fit_2dfit((MYY_bin_centers,MBB_bin_centers),*ggFH_2d_popt)-VBFHH_hist2d.ravel())**2 / np.mean(ggFH_2d_err, axis=0).ravel()**2 )\n",
    "\n",
    "ggFH_2d_legend = get_legend(ggFH_2d_popt, ggFH_2d_pcov, ggFH_2d_chi_red, ggFH_2d_labels, ggFH_2d_units)"
   ]
  },
  {
   "cell_type": "code",
   "execution_count": null,
   "id": "80ce3337-6db3-40bd-9a84-8b0065c363c3",
   "metadata": {},
   "outputs": [],
   "source": [
    "import matplotlib.lines as mlines\n",
    "\n",
    "dz = ggFH_hist2d.ravel()\n",
    "\n",
    "# Create a 3D plot\n",
    "fig = plt.figure(figsize=(10, 7))\n",
    "ax = fig.add_subplot(111, projection='3d')\n",
    "\n",
    "ax.set_xticks(np.linspace(myy_min,myy_max,7),(np.linspace(myy_min,myy_max,7)/1e3).astype(int))\n",
    "ax.set_yticks(np.linspace(mbb_min,mbb_max,6),(np.linspace(mbb_min,mbb_max,6)/1e3).astype(int))\n",
    "\n",
    "ax.bar3d(xpos, ypos, zpos, dx, dy, dz, zsort='average',alpha=0.1)\n",
    "\n",
    "#MYY, MBB = np.meshgrid(np.linspace(myy_min,myy_max,1000),np.linspace(mbb_min,mbb_max,1000))\n",
    "\n",
    "surf = ax.plot_surface(MYY, MBB, ggFH_2dfit((MYY,MBB), *ggFH_2d_popt), alpha=0.9, color='orange')\n",
    "\n",
    "ax.set_xlabel('myy [GeV]')\n",
    "ax.set_ylabel('mbb [GeV]')\n",
    "plt.title('ggFH')\n",
    "\n",
    "proxy = mlines.Line2D([0],[0], color='orange', marker='.', linestyle='None', markersize=1, label=ggFH_2d_legend)\n",
    "ax.legend(handles=[proxy])\n",
    "\n",
    "plt.show()\n",
    "\n",
    "#plt.savefig('./Plots/2D-plots/Y0_2d.pdf', format='pdf')"
   ]
  },
  {
   "cell_type": "code",
   "execution_count": null,
   "id": "07f92dda-2eca-485e-b0ff-ec2a41d255f0",
   "metadata": {},
   "outputs": [],
   "source": [
    "from tabulate import tabulate\n",
    "\n",
    "ggFH_text = np.array(['mu_myy', 'sigma_myy', 'alpha_L_myy', 'alpha_R_myy', 'n_L_myy', 'n_R_myy', 'N_myy', \\\n",
    "                     'mu_mbb', 'sigma_mbb', 'N_mbb'])\n",
    "\n",
    "ggFH_2d_tab = np.array([ggFH_text, ggFH_2d_popt, np.concatenate([ggFH_myy_popt, ggFH_mbb_popt]), \\\n",
    "                         np.sqrt(np.diag(ggFH_2d_pcov)), np.concatenate([np.sqrt(np.diag(ggFH_myy_pcov)), np.sqrt(np.diag(ggFH_mbb_pcov))]) ])\n",
    "\n",
    "print(tabulate(ggFH_2d_tab.T, stralign='left', headers=['', '2d_values', '1d_values', '2d_uncertainties', '1d_uncertainties']))"
   ]
  },
  {
   "cell_type": "code",
   "execution_count": null,
   "id": "f4deb644-b457-4dd1-8e6f-5429ae4e2546",
   "metadata": {},
   "outputs": [],
   "source": [
    "import matplotlib.colors as mcolors\n",
    "\n",
    "ggFH_2d_diff = ggFH_2d(MYY_bin_centers,MBB_bin_centers) * ggFH_2d_N - ggFH_hist2d\n",
    "ggFH_2d_ratio = ggFH_2d(MYY_bin_centers,MBB_bin_centers) * ggFH_2d_N / ggFH_hist2d\n",
    "\n",
    "ggFH_2dfit_diff = ggFH_2dfit((MYY_bin_centers,MBB_bin_centers), *ggFH_2d_popt) - ggFH_hist2d\n",
    "ggFH_2dfit_ratio = ggFH_2dfit((MYY_bin_centers,MBB_bin_centers), *ggFH_2d_popt) / ggFH_hist2d\n",
    "\n",
    "fig, axes = plt.subplots(2, 2, figsize=(10, 8))\n",
    "\n",
    "\n",
    "norm_residuals = mcolors.TwoSlopeNorm(vmin=np.min(ggFH_2d_diff), vcenter=0, vmax=np.max(ggFH_2d_diff))\n",
    "\n",
    "norm_ratio = mcolors.TwoSlopeNorm(vmin=0, vcenter=1, vmax=4)\n",
    "\n",
    "im1 = axes[0, 0].imshow(ggFH_2d_diff, cmap='viridis', extent=[80,180,110,140], norm=norm_residuals)\n",
    "axes[0, 0].set_title('ggFH - Residuals (2 x 1D-Fit)')\n",
    "axes[0, 0].set_aspect('auto')\n",
    "fig.colorbar(im1, ax=axes[0,0])\n",
    "\n",
    "im2 = axes[0, 1].imshow(ggFH_2d_ratio, cmap='viridis', extent=[80,180,110,140], norm=norm_ratio)\n",
    "axes[0, 1].set_title('ggFH - Ratio (2 x 1D-Fit)')\n",
    "axes[0, 1].set_aspect('auto')\n",
    "fig.colorbar(im2, ax=axes[0,1], ticks=[0,1,2,3,4])\n",
    "\n",
    "im3 = axes[1, 0].imshow(ggFH_2dfit_diff, cmap='viridis', extent=[80,180,110,140], norm=norm_residuals)\n",
    "axes[1, 0].set_title('ggFH - Residuals (1 x 2D-Fit)')\n",
    "axes[1, 0].set_aspect('auto')\n",
    "fig.colorbar(im3, ax=axes[1,0])\n",
    "\n",
    "im4 = axes[1, 1].imshow(ggFH_2dfit_ratio, cmap='viridis', extent=[80,180,110,140], norm=norm_ratio)\n",
    "axes[1, 1].set_title('ggFH - Ratio (1 x 2D-Fit)')\n",
    "axes[1, 1].set_aspect('auto')\n",
    "fig.colorbar(im4, ax=axes[1,1], ticks=[0,1,2,3,4])"
   ]
  },
  {
   "cell_type": "markdown",
   "id": "a30df954-dc54-4782-8737-ec6d3b174af1",
   "metadata": {},
   "source": [
    "### ttH"
   ]
  },
  {
   "cell_type": "code",
   "execution_count": null,
   "id": "e6151334-38a3-4562-bcb6-8080d73e7b3e",
   "metadata": {},
   "outputs": [],
   "source": [
    "def ttH_2dfit(myymbb, mu1, sigma1, alpha_L1, alpha_R1, n_L1, n_R1, N1, mu2, sigma2, alpha_L2, alpha_R2, n_L2, n_R2, N2):\n",
    "    myy, mbb = myymbb\n",
    "\n",
    "    return ttH_2d_N * dscb_func(myy, mu1, sigma1, alpha_L1, alpha_R1, n_L1, n_R1, N1) * dscb_func(mbb, mu2, sigma2, alpha_L2, alpha_R2, n_L2, n_R2, N2)"
   ]
  },
  {
   "cell_type": "code",
   "execution_count": null,
   "id": "b84dcefd-76f0-4ce0-afe0-f053fca43588",
   "metadata": {},
   "outputs": [],
   "source": [
    "def ttH_fit_2dfit(myymbb, mu1, sigma1, alpha_L1, alpha_R1, n_L1, n_R1, N1, mu2, sigma2, alpha_L2, alpha_R2, n_L2, n_R2, N2):\n",
    "    myy, mbb = myymbb\n",
    "\n",
    "    value = ttH_2d_N * dscb_func(myy, mu1, sigma1, alpha_L1, alpha_R1, n_L1, n_R1, N1) * dscb_func(mbb, mu2, sigma2, alpha_L2, alpha_R2, n_L2, n_R2, N2)\n",
    "\n",
    "    return value.ravel()\n",
    "\n",
    "ttH_2dfit_labels = [r'$\\mu_{myy}$', r'$\\sigma_{myy}$', r'$\\alpha_{L,myy}$', r'$\\alpha_{R,myy}$', r'n$_{L,myy}$', r'n$_{R,myy}$', 'N$_{myy}$', \\\n",
    "                     r'$\\mu_{mbb}$', r'$\\sigma_{mbb}$', r'$\\alpha_{L,mbb}$', r'$\\alpha_{R,mbb}$', r'n$_{L,mbb}$', r'n$_{R,mbb}$', 'N$_{mbb}$']\n",
    "ttH_2dfit_units = ['GeV', 'GeV', ' ', ' ', ' ', ' ', ' ', 'GeV', 'GeV', ' ', ' ', ' ', ' ', ' ']"
   ]
  },
  {
   "cell_type": "code",
   "execution_count": null,
   "id": "36c2d72b-6d15-4ac8-b549-15f1f4a9bc1e",
   "metadata": {},
   "outputs": [],
   "source": [
    "ttH_2d_err = poisson_error(ttH_hist2d)\n",
    "\n",
    "ttH_2d_popt, ttH_2d_pcov = curve_fit(ttH_fit_2dfit, (MYY_bin_centers,MBB_bin_centers), ttH_hist2d.ravel(), p0=[125e3, 2.5e3, 1.64, 1.64612321e+00,1.3, 13, 0.1,120000,13000,1.5,1.5,3,3,0.015], \\\n",
    "                                         sigma=np.mean(ttH_2d_err, axis=0).ravel(), absolute_sigma=True)\n",
    "\n",
    "ttH_2d_chi_red = np.sum( (ttH_fit_2dfit((MYY_bin_centers,MBB_bin_centers),*ttH_2d_popt)-ttH_hist2d.ravel())**2 / np.mean(ttH_2d_err, axis=0).ravel()**2 )\n",
    "\n",
    "ttH_2d_legend = get_legend(ttH_2d_popt, ttH_2d_pcov, ttH_2d_chi_red, ttH_2dfit_labels, ttH_2dfit_units)"
   ]
  },
  {
   "cell_type": "code",
   "execution_count": null,
   "id": "9ec55c00-ab68-4045-97b0-818248be0b45",
   "metadata": {},
   "outputs": [],
   "source": [
    "import matplotlib.lines as mlines\n",
    "\n",
    "dz = ttH_hist2d.ravel()\n",
    "\n",
    "# Create a 3D plot\n",
    "fig = plt.figure(figsize=(10, 7))\n",
    "ax = fig.add_subplot(111, projection='3d')\n",
    "\n",
    "ax.set_xticks(np.linspace(myy_min,myy_max,7),(np.linspace(myy_min,myy_max,7)/1e3).astype(int))\n",
    "ax.set_yticks(np.linspace(mbb_min,mbb_max,6),(np.linspace(mbb_min,mbb_max,6)/1e3).astype(int))\n",
    "\n",
    "ax.bar3d(xpos, ypos, zpos, dx, dy, dz, zsort='average',alpha=0.1)\n",
    "\n",
    "#MYY, MBB = np.meshgrid(np.linspace(myy_min,myy_max,1000),np.linspace(mbb_min,mbb_max,1000))\n",
    "\n",
    "surf = ax.plot_surface(MYY, MBB, ttH_2dfit((MYY,MBB), *ttH_2d_popt), alpha=0.9, color='orange')\n",
    "\n",
    "ax.set_xlabel('myy [GeV]')\n",
    "ax.set_ylabel('mbb [GeV]')\n",
    "plt.title('ttH')\n",
    "\n",
    "proxy = mlines.Line2D([0],[0], color='orange', marker='.', linestyle='None', markersize=1, label=ttH_2d_legend)\n",
    "ax.legend(handles=[proxy])\n",
    "\n",
    "plt.show()\n",
    "\n",
    "#plt.savefig('./Plots/2D-plots/Y0_2d.pdf', format='pdf')"
   ]
  },
  {
   "cell_type": "code",
   "execution_count": null,
   "id": "c6530f97-cd60-4b70-90c7-889c3db23ac0",
   "metadata": {},
   "outputs": [],
   "source": [
    "from tabulate import tabulate\n",
    "\n",
    "tab_text = np.array(['mu_myy', 'sigma_myy', 'alpha_L_myy', 'alpha_R_myy', 'n_L_myy', 'n_R_myy', 'N_myy', \\\n",
    "                     'mu_mbb', 'sigma_mbb', 'alpha_L_mbb', 'alpha_R_mbb', 'n_L_mbb', 'n_R_mbb', 'N_mbb'])\n",
    "\n",
    "ttH_2d_tab = np.array([tab_text, ttH_2d_popt, np.concatenate([ttH_myy_popt, ttH_mbb_popt]), \\\n",
    "                         np.sqrt(np.diag(ttH_2d_pcov)), np.concatenate([np.sqrt(np.diag(ttH_myy_pcov)), np.sqrt(np.diag(ttH_mbb_pcov))]) ])\n",
    "\n",
    "print(tabulate(ttH_2d_tab.T, stralign='left', headers=['', '2d_values', '1d_values', '2d_uncertainties', '1d_uncertainties']))"
   ]
  },
  {
   "cell_type": "code",
   "execution_count": null,
   "id": "2b42a497-7c82-4de8-8a6e-1840d1b89ef8",
   "metadata": {},
   "outputs": [],
   "source": [
    "import matplotlib.colors as mcolors\n",
    "\n",
    "ttH_2d_diff = ttH_2d(MYY_bin_centers,MBB_bin_centers) * ttH_2d_N - ttH_hist2d\n",
    "ttH_2d_ratio = ttH_2d(MYY_bin_centers,MBB_bin_centers) * ttH_2d_N / ttH_hist2d\n",
    "\n",
    "ttH_2dfit_diff = ttH_2dfit((MYY_bin_centers,MBB_bin_centers), *ttH_2d_popt) - ttH_hist2d\n",
    "ttH_2dfit_ratio = ttH_2dfit((MYY_bin_centers,MBB_bin_centers), *ttH_2d_popt) / ttH_hist2d\n",
    "\n",
    "fig, axes = plt.subplots(2, 2, figsize=(10, 8))\n",
    "\n",
    "\n",
    "norm_residuals = mcolors.TwoSlopeNorm(vmin=np.min(ttH_2d_diff), vcenter=0, vmax=np.max(ttH_2d_diff))\n",
    "\n",
    "norm_ratio = mcolors.TwoSlopeNorm(vmin=0, vcenter=1, vmax=4)\n",
    "\n",
    "im1 = axes[0, 0].imshow(ttH_2d_diff, cmap='viridis', extent=[80,180,110,140], norm=norm_residuals)\n",
    "axes[0, 0].set_title('ttH - Residuals (2 x 1D-Fit)')\n",
    "axes[0, 0].set_aspect('auto')\n",
    "fig.colorbar(im1, ax=axes[0,0])\n",
    "\n",
    "im2 = axes[0, 1].imshow(ttH_2d_ratio, cmap='viridis', extent=[80,180,110,140], norm=norm_ratio)\n",
    "axes[0, 1].set_title('ttH - Ratio (2 x 1D-Fit)')\n",
    "axes[0, 1].set_aspect('auto')\n",
    "fig.colorbar(im2, ax=axes[0,1], ticks=[0,1,2,3,4])\n",
    "\n",
    "im3 = axes[1, 0].imshow(ttH_2dfit_diff, cmap='viridis', extent=[80,180,110,140], norm=norm_residuals)\n",
    "axes[1, 0].set_title('ttH - Residuals (1 x 2D-Fit)')\n",
    "axes[1, 0].set_aspect('auto')\n",
    "fig.colorbar(im3, ax=axes[1,0])\n",
    "\n",
    "im4 = axes[1, 1].imshow(ttH_2dfit_ratio, cmap='viridis', extent=[80,180,110,140], norm=norm_ratio)\n",
    "axes[1, 1].set_title('ttH - Ratio (1 x 2D-Fit)')\n",
    "axes[1, 1].set_aspect('auto')\n",
    "fig.colorbar(im4, ax=axes[1,1], ticks=[0,1,2,3,4])"
   ]
  },
  {
   "cell_type": "markdown",
   "id": "206e8706-fc7d-4f14-b3d5-023797e08a93",
   "metadata": {},
   "source": [
    "### qqZH"
   ]
  },
  {
   "cell_type": "code",
   "execution_count": null,
   "id": "ea93fda9-49a2-4e14-bf7f-3548927bf49d",
   "metadata": {},
   "outputs": [],
   "source": [
    "def qqZH_2dfit(myymbb, mu1, sigma1, alpha_L1, alpha_R1, n_L1, n_R1, N1, mu2, sigma2,  alpha_R2,  n_R2, N2):\n",
    "    myy, mbb = myymbb\n",
    "\n",
    "    return qqZH_2d_N * dscb_func(myy, mu1, sigma1, alpha_L1, alpha_R1, n_L1, n_R1, N1) * cb_func(mbb, mu2, sigma2,  alpha_R2,  n_R2, N2)"
   ]
  },
  {
   "cell_type": "code",
   "execution_count": null,
   "id": "dbd493ff-c891-4bbc-9a48-97b88197aac3",
   "metadata": {},
   "outputs": [],
   "source": [
    "def qqZH_fit_2dfit(myymbb, mu1, sigma1, alpha_L1, alpha_R1, n_L1, n_R1, N1, mu2, sigma2, alpha_R2,  n_R2, N2):\n",
    "    myy, mbb = myymbb\n",
    "\n",
    "    value = qqZH_2d_N * dscb_func(myy, mu1, sigma1, alpha_L1, alpha_R1, n_L1, n_R1, N1) * cb_func(mbb, mu2, sigma2, alpha_R2, n_R2, N2)\n",
    "\n",
    "    return value.ravel()\n",
    "\n",
    "qqZH_2dfit_labels = [r'$\\mu_{myy}$', r'$\\sigma_{myy}$', r'$\\alpha_{L,myy}$', r'$\\alpha_{R,myy}$', r'n$_{L,myy}$', r'n$_{R,myy}$', 'N$_{myy}$', \\\n",
    "                     r'$\\mu_{mbb}$', r'$\\sigma_{mbb}$', r'$\\alpha_{mbb}$', r'n$_{mbb}$', 'N$_{mbb}$']\n",
    "qqZH_2dfit_units = ['GeV', 'GeV', ' ', ' ', ' ', ' ', ' ', 'GeV', 'GeV', ' ', ' ', ' ']"
   ]
  },
  {
   "cell_type": "code",
   "execution_count": null,
   "id": "106970b7-f4e7-4037-aa6f-f1abe2e0b991",
   "metadata": {},
   "outputs": [],
   "source": [
    "qqZH_2d_err = poisson_error(qqZH_hist2d)\n",
    "\n",
    "qqZH_2d_popt, qqZH_2d_pcov = curve_fit(qqZH_fit_2dfit, (MYY_bin_centers,MBB_bin_centers), qqZH_hist2d.ravel(), p0=[125e3, 4.096e3, 1.64, 1.64612321e+00, \\\n",
    "       40, 12, 0.03, 100e3, 4e3, 0.5, 25, 0.04], \\\n",
    "                                         sigma=np.mean(qqZH_2d_err, axis=0).ravel(), absolute_sigma=True)\n",
    "\n",
    "qqZH_2d_chi_red = np.sum( (qqZH_fit_2dfit((MYY_bin_centers,MBB_bin_centers),*qqZH_2d_popt)-qqZH_hist2d.ravel())**2 / np.mean(qqZH_2d_err, axis=0).ravel()**2 )\n",
    "\n",
    "qqZH_2d_legend = get_legend(qqZH_2d_popt, qqZH_2d_pcov, qqZH_2d_chi_red, qqZH_2dfit_labels, qqZH_2dfit_units)"
   ]
  },
  {
   "cell_type": "code",
   "execution_count": null,
   "id": "e2e72f38-d505-4374-8efb-028755eb3886",
   "metadata": {},
   "outputs": [],
   "source": [
    "import matplotlib.lines as mlines\n",
    "\n",
    "dz = qqZH_hist2d.ravel()\n",
    "\n",
    "# Create a 3D plot\n",
    "fig = plt.figure(figsize=(10, 7))\n",
    "ax = fig.add_subplot(111, projection='3d')\n",
    "\n",
    "ax.set_xticks(np.linspace(myy_min,myy_max,7),(np.linspace(myy_min,myy_max,7)/1e3).astype(int))\n",
    "ax.set_yticks(np.linspace(mbb_min,mbb_max,6),(np.linspace(mbb_min,mbb_max,6)/1e3).astype(int))\n",
    "\n",
    "ax.bar3d(xpos, ypos, zpos, dx, dy, dz, zsort='average',alpha=0.1)\n",
    "\n",
    "#MYY, MBB = np.meshgrid(np.linspace(myy_min,myy_max,1000),np.linspace(mbb_min,mbb_max,1000))\n",
    "\n",
    "surf = ax.plot_surface(MYY, MBB, qqZH_2dfit((MYY,MBB), *qqZH_2d_popt), alpha=0.9, color='orange')\n",
    "\n",
    "ax.set_xlabel('myy [GeV]')\n",
    "ax.set_ylabel('mbb [GeV]')\n",
    "plt.title('qqZH')\n",
    "\n",
    "proxy = mlines.Line2D([0],[0], color='orange', marker='.', linestyle='None', markersize=1, label=qqZH_2d_legend)\n",
    "ax.legend(handles=[proxy])\n",
    "\n",
    "plt.show()\n",
    "\n",
    "#plt.savefig('./Plots/2D-plots/Y0_2d.pdf', format='pdf')"
   ]
  },
  {
   "cell_type": "code",
   "execution_count": null,
   "id": "6efba92e-b760-43d7-9a14-1d73550e527d",
   "metadata": {},
   "outputs": [],
   "source": [
    "from tabulate import tabulate\n",
    "\n",
    "tab_text = np.array(['mu_myy', 'sigma_myy', 'alpha_L_myy', 'alpha_R_myy', 'n_L_myy', 'n_R_myy', 'N_myy', \\\n",
    "                     'mu_mbb', 'sigma_mbb', 'alpha_mbb', 'n_mbb', 'N_mbb'])\n",
    "\n",
    "qqZH_2d_tab = np.array([tab_text, qqZH_2d_popt, np.concatenate([qqZH_myy_popt, qqZH_mbb_popt]), \\\n",
    "                         np.sqrt(np.diag(qqZH_2d_pcov)), np.concatenate([np.sqrt(np.diag(qqZH_myy_pcov)), np.sqrt(np.diag(qqZH_mbb_pcov))]) ])\n",
    "\n",
    "print(tabulate(qqZH_2d_tab.T, stralign='left', headers=['', '2d_values', '1d_values', '2d_uncertainties', '1d_uncertainties']))"
   ]
  },
  {
   "cell_type": "code",
   "execution_count": null,
   "id": "cc9999f3-39a9-4f3e-9988-d4092a042afc",
   "metadata": {},
   "outputs": [],
   "source": [
    "import matplotlib.colors as mcolors\n",
    "\n",
    "qqZH_2d_diff = qqZH_2d(MYY_bin_centers,MBB_bin_centers) * qqZH_2d_N - qqZH_hist2d\n",
    "qqZH_2d_ratio = qqZH_2d(MYY_bin_centers,MBB_bin_centers) * qqZH_2d_N / qqZH_hist2d\n",
    "\n",
    "qqZH_2dfit_diff = qqZH_2dfit((MYY_bin_centers,MBB_bin_centers), *qqZH_2d_popt) - qqZH_hist2d\n",
    "qqZH_2dfit_ratio = qqZH_2dfit((MYY_bin_centers,MBB_bin_centers), *qqZH_2d_popt) / qqZH_hist2d\n",
    "\n",
    "fig, axes = plt.subplots(2, 2, figsize=(10, 8))\n",
    "\n",
    "\n",
    "norm_residuals = mcolors.TwoSlopeNorm(vmin=np.min(qqZH_2d_diff), vcenter=0, vmax=np.max(qqZH_2d_diff))\n",
    "\n",
    "norm_ratio = mcolors.TwoSlopeNorm(vmin=0, vcenter=1, vmax=4)\n",
    "\n",
    "im1 = axes[0, 0].imshow(qqZH_2d_diff, cmap='viridis', extent=[80,180,110,140], norm=norm_residuals)\n",
    "axes[0, 0].set_title('qqZH - Residuals (2 x 1D-Fit)')\n",
    "axes[0, 0].set_aspect('auto')\n",
    "fig.colorbar(im1, ax=axes[0,0])\n",
    "\n",
    "im2 = axes[0, 1].imshow(qqZH_2d_ratio, cmap='viridis', extent=[80,180,110,140], norm=norm_ratio)\n",
    "axes[0, 1].set_title('qqZH - Ratio (2 x 1D-Fit)')\n",
    "axes[0, 1].set_aspect('auto')\n",
    "fig.colorbar(im2, ax=axes[0,1], ticks=[0,1,2,3,4])\n",
    "\n",
    "im3 = axes[1, 0].imshow(qqZH_2dfit_diff, cmap='viridis', extent=[80,180,110,140], norm=norm_residuals)\n",
    "axes[1, 0].set_title('qqZH - Residuals (1 x 2D-Fit)')\n",
    "axes[1, 0].set_aspect('auto')\n",
    "fig.colorbar(im3, ax=axes[1,0])\n",
    "\n",
    "im4 = axes[1, 1].imshow(qqZH_2dfit_ratio, cmap='viridis', extent=[80,180,110,140], norm=norm_ratio)\n",
    "axes[1, 1].set_title('qqZH - Ratio (1 x 2D-Fit)')\n",
    "axes[1, 1].set_aspect('auto')\n",
    "fig.colorbar(im4, ax=axes[1,1], ticks=[0,1,2,3,4])"
   ]
  },
  {
   "cell_type": "markdown",
   "id": "cedf55d4-c345-405a-84ee-a99a0aaf4d84",
   "metadata": {},
   "source": [
    "### yybb"
   ]
  },
  {
   "cell_type": "code",
   "execution_count": null,
   "id": "0c228777-0190-4ead-8519-5164c9d17629",
   "metadata": {},
   "outputs": [],
   "source": [
    "def yybb_2dfit(myymbb, a, l, mu2, sigma2, alpha_R2, n_R2, N2):\n",
    "    myy, mbb = myymbb\n",
    "\n",
    "    return yybb_2d_N * exp_fit(myy, a, l) * cb_func(mbb, mu2, sigma2, alpha_R2, n_R2, N2)\n",
    "\n",
    "yybb_2d_labels = ['a$_{myy}$', r'$\\lambda_{myy}$', r'$\\mu_{mbb}$', r'$\\sigma_{mbb}$', r'$\\alpha_{mbb}$', r'n$_{mbb}$', 'N$_{mbb}$']\n",
    "yybb_2d_units = [' ', r'GeV$^{-1}$', 'GeV', 'GeV', ' ', ' ', ' ', ' ', ' ']"
   ]
  },
  {
   "cell_type": "code",
   "execution_count": null,
   "id": "f47ebc1e-c600-4273-9563-d0d7ccba522a",
   "metadata": {},
   "outputs": [],
   "source": [
    "def yybb_fit_2dfit(myymbb, a, l, mu2, sigma2, alpha_R2, n_R2, N2):\n",
    "    myy, mbb = myymbb\n",
    "\n",
    "    value = yybb_2d_N * exp_fit(myy, a, l) * cb_func(mbb, mu2, sigma2, alpha_R2, n_R2, N2)\n",
    "\n",
    "    return value.ravel()"
   ]
  },
  {
   "cell_type": "code",
   "execution_count": null,
   "id": "c64ba46b-5aed-4eac-87aa-d5b8aaa772f3",
   "metadata": {},
   "outputs": [],
   "source": [
    "yybb_2d_err = poisson_error(yybb_hist2d)\n",
    "\n",
    "yybb_2d_popt, yybb_2d_pcov = curve_fit(yybb_fit_2dfit, (MYY_bin_centers,MBB_bin_centers), yybb_hist2d.ravel(), p0=[*yybb_myy_popt*1.001, *yybb_mbb_popt*1.0000001], \\\n",
    "                                         sigma=np.mean(yybb_2d_err, axis=0).ravel(), absolute_sigma=True)\n",
    "\n",
    "yybb_2d_chi_red = np.sum( (yybb_fit_2dfit((MYY_bin_centers,MBB_bin_centers),*yybb_2d_popt)-yybb_hist2d.ravel())**2 / np.mean(yybb_2d_err, axis=0).ravel()**2 )\n",
    "\n",
    "yybb_2d_legend = get_legend(yybb_2d_popt, yybb_2d_pcov, yybb_2d_chi_red, yybb_2d_labels, yybb_2d_units)"
   ]
  },
  {
   "cell_type": "code",
   "execution_count": null,
   "id": "a1c43368-be47-4e4e-889b-68e6b07bef87",
   "metadata": {},
   "outputs": [],
   "source": [
    "import matplotlib.lines as mlines\n",
    "\n",
    "dz = yybb_hist2d.ravel()\n",
    "\n",
    "# Create a 3D plot\n",
    "fig = plt.figure(figsize=(10, 7))\n",
    "ax = fig.add_subplot(111, projection='3d')\n",
    "\n",
    "ax.set_xticks(np.linspace(myy_min,myy_max,7),(np.linspace(myy_min,myy_max,7)/1e3).astype(int))\n",
    "ax.set_yticks(np.linspace(mbb_min,mbb_max,6),(np.linspace(mbb_min,mbb_max,6)/1e3).astype(int))\n",
    "\n",
    "ax.bar3d(xpos, ypos, zpos, dx, dy, dz, zsort='average',alpha=0.1)\n",
    "\n",
    "#MYY, MBB = np.meshgrid(np.linspace(myy_min,myy_max,1000),np.linspace(mbb_min,mbb_max,1000))\n",
    "\n",
    "surf = ax.plot_surface(MYY, MBB, yybb_2dfit((MYY,MBB), *yybb_2d_popt), alpha=0.9, color='orange')\n",
    "\n",
    "ax.set_xlabel('myy [GeV]')\n",
    "ax.set_ylabel('mbb [GeV]')\n",
    "plt.title('yybb')\n",
    "\n",
    "proxy = mlines.Line2D([0],[0], color='orange', marker='.', linestyle='None', markersize=1, label=yybb_2d_legend)\n",
    "ax.legend(handles=[proxy])\n",
    "\n",
    "plt.show()\n",
    "\n",
    "#plt.savefig('./Plots/2D-plots/Y0_2d.pdf', format='pdf')"
   ]
  },
  {
   "cell_type": "code",
   "execution_count": null,
   "id": "29bb0d60-4714-4a74-953c-a94bdd5eca9b",
   "metadata": {},
   "outputs": [],
   "source": [
    "from tabulate import tabulate\n",
    "\n",
    "yybb_text = np.array(['a_myy', 'lambda_myy', \\\n",
    "                     'mu_mbb', 'sigma_mbb', 'alpha_mbb', 'n_mbb', 'N_mbb'])\n",
    "\n",
    "yybb_2d_tab = np.array([yybb_text, yybb_2d_popt, np.concatenate([yybb_myy_popt, yybb_mbb_popt]), \\\n",
    "                         np.sqrt(np.diag(yybb_2d_pcov)), np.concatenate([np.sqrt(np.diag(yybb_myy_pcov)), np.sqrt(np.diag(yybb_mbb_pcov))]) ])\n",
    "\n",
    "print(tabulate(yybb_2d_tab.T, stralign='left', headers=['', '2d_values', '1d_values', '2d_uncertainties', '1d_uncertainties']))"
   ]
  },
  {
   "cell_type": "code",
   "execution_count": null,
   "id": "8cb921b7-0565-4ec6-b1c7-34c97d87cf2f",
   "metadata": {},
   "outputs": [],
   "source": [
    "import matplotlib.colors as mcolors\n",
    "\n",
    "yybb_2d_diff = yybb_2d(MYY_bin_centers,MBB_bin_centers) * yybb_2d_N - yybb_hist2d\n",
    "yybb_2d_ratio = yybb_2d(MYY_bin_centers,MBB_bin_centers) * yybb_2d_N / yybb_hist2d\n",
    "\n",
    "yybb_2dfit_diff = yybb_2dfit((MYY_bin_centers,MBB_bin_centers), *yybb_2d_popt) - yybb_hist2d\n",
    "yybb_2dfit_ratio = yybb_2dfit((MYY_bin_centers,MBB_bin_centers), *yybb_2d_popt) / yybb_hist2d\n",
    "\n",
    "fig, axes = plt.subplots(2, 2, figsize=(10, 8))\n",
    "\n",
    "\n",
    "norm_residuals = mcolors.TwoSlopeNorm(vmin=np.min(yybb_2d_diff), vcenter=0, vmax=np.max(yybb_2d_diff))\n",
    "\n",
    "norm_ratio = mcolors.TwoSlopeNorm(vmin=0, vcenter=1, vmax=4)\n",
    "\n",
    "im1 = axes[0, 0].imshow(yybb_2d_diff, cmap='viridis', extent=[80,180,110,140], norm=norm_residuals)\n",
    "axes[0, 0].set_title('yybb - Residuals (2 x 1D-Fit)')\n",
    "axes[0, 0].set_aspect('auto')\n",
    "fig.colorbar(im1, ax=axes[0,0])\n",
    "\n",
    "im2 = axes[0, 1].imshow(yybb_2d_ratio, cmap='viridis', extent=[80,180,110,140], norm=norm_ratio)\n",
    "axes[0, 1].set_title('yybb - Ratio (2 x 1D-Fit)')\n",
    "axes[0, 1].set_aspect('auto')\n",
    "fig.colorbar(im2, ax=axes[0,1], ticks=[0,1,2,3,4])\n",
    "\n",
    "im3 = axes[1, 0].imshow(yybb_2dfit_diff, cmap='viridis', extent=[80,180,110,140], norm=norm_residuals)\n",
    "axes[1, 0].set_title('yybb - Residuals (1 x 2D-Fit)')\n",
    "axes[1, 0].set_aspect('auto')\n",
    "fig.colorbar(im3, ax=axes[1,0])\n",
    "\n",
    "im4 = axes[1, 1].imshow(yybb_2dfit_ratio, cmap='viridis', extent=[80,180,110,140], norm=norm_ratio)\n",
    "axes[1, 1].set_title('yybb - Ratio (1 x 2D-Fit)')\n",
    "axes[1, 1].set_aspect('auto')\n",
    "fig.colorbar(im4, ax=axes[1,1], ticks=[0,1,2,3,4])"
   ]
  },
  {
   "cell_type": "markdown",
   "id": "bccda92f-7490-4b69-bae2-a6c946510ef1",
   "metadata": {},
   "source": [
    "### ggFHH_kl1"
   ]
  },
  {
   "cell_type": "code",
   "execution_count": null,
   "id": "4fbd686e-ddb3-4939-80c6-05cccb08c1b5",
   "metadata": {},
   "outputs": [],
   "source": [
    "def ggFHH_kl1_2dfit(myymbb, mu1, sigma1, alpha_L1, alpha_R1, n_L1, n_R1, N1, mu2, sigma2, alpha_L2, alpha_R2, n_L2, n_R2, N2):\n",
    "    myy, mbb = myymbb\n",
    "\n",
    "    return ggFHH_kl1_2d_N * dscb_func(myy, mu1, sigma1, alpha_L1, alpha_R1, n_L1, n_R1, N1) * dscb_func(mbb, mu2, sigma2, alpha_L2, alpha_R2, n_L2, n_R2, N2)"
   ]
  },
  {
   "cell_type": "code",
   "execution_count": null,
   "id": "d91e62df-f9f6-4950-bc85-7d518aab9960",
   "metadata": {},
   "outputs": [],
   "source": [
    "def ggFHH_kl1_fit_2dfit(myymbb, mu1, sigma1, alpha_L1, alpha_R1, n_L1, n_R1, N1, mu2, sigma2, alpha_L2, alpha_R2, n_L2, n_R2, N2):\n",
    "    myy, mbb = myymbb\n",
    "\n",
    "    value = ggFHH_kl1_2d_N * dscb_func(myy, mu1, sigma1, alpha_L1, alpha_R1, n_L1, n_R1, N1) * dscb_func(mbb, mu2, sigma2, alpha_L2, alpha_R2, n_L2, n_R2, N2)\n",
    "\n",
    "    return value.ravel()\n",
    "\n",
    "ggFHH_kl1_2dfit_labels = [r'$\\mu_{myy}$', r'$\\sigma_{myy}$', r'$\\alpha_{L,myy}$', r'$\\alpha_{R,myy}$', r'n$_{L,myy}$', r'n$_{R,myy}$', 'N$_{myy}$', \\\n",
    "                     r'$\\mu_{mbb}$', r'$\\sigma_{mbb}$', r'$\\alpha_{L,mbb}$', r'$\\alpha_{R,mbb}$', r'n$_{L,mbb}$', r'n$_{R,mbb}$', 'N$_{mbb}$']\n",
    "ggFHH_kl1_2dfit_units = ['GeV', 'GeV', ' ', ' ', ' ', ' ', ' ', 'GeV', 'GeV', ' ', ' ', ' ', ' ', ' ']"
   ]
  },
  {
   "cell_type": "code",
   "execution_count": null,
   "id": "5d1ca0d2-78aa-4e50-afb7-351a8f6cfb8d",
   "metadata": {},
   "outputs": [],
   "source": [
    "ggFHH_kl1_2d_err = poisson_error(ggFHH_kl1_hist2d)\n",
    "\n",
    "ggFHH_kl1_2d_bounds = [[1.249e5, 1.4e3, 1,   1,   7.5, 1.4e2, 5e-3,   1.17e5, 1.13e4, 1,   2.5, 1.4e2, 5.5,  7e-3], \\\n",
    "                   [1.255e5, 1.5e3, 1.5, 1.5, 8.2, 1.6e2, 5.5e-3, 1.19e5, 1.15e4, 1.2, 3.2, 1.5e2, 6.25, 8e-3]]\n",
    "\n",
    "ggFHH_kl1_2d_popt, ggFHH_kl1_2d_pcov = curve_fit(ggFHH_kl1_fit_2dfit, (MYY_bin_centers,MBB_bin_centers), ggFHH_kl1_hist2d.ravel(), \\\n",
    "                                                 p0=[125e3, 2.5e3, 1.64, 1.64612321e+00, 1.3, 13, 0.18, 120e3,10e3,1.5,1.5,3,3,0.257], \\\n",
    "                                                 sigma=np.mean(ggFHH_kl1_2d_err, axis=0).ravel(), absolute_sigma=True)\n",
    "\n",
    "ggFHH_kl1_2d_chi_red = np.sum( (ggFHH_kl1_fit_2dfit((MYY_bin_centers,MBB_bin_centers),*ggFHH_kl1_2d_popt)-ggFHH_kl1_hist2d.ravel())**2 / np.mean(ggFHH_kl1_2d_err, axis=0).ravel()**2 )\n",
    "\n",
    "ggFHH_kl1_2d_legend = get_legend(ggFHH_kl1_2d_popt, ggFHH_kl1_2d_pcov, ggFHH_kl1_2d_chi_red, ggFHH_kl1_2dfit_labels, ggFHH_kl1_2dfit_units)"
   ]
  },
  {
   "cell_type": "code",
   "execution_count": null,
   "id": "2c01c427-5296-4f80-aa92-692d5b482b0a",
   "metadata": {},
   "outputs": [],
   "source": [
    "import matplotlib.lines as mlines\n",
    "\n",
    "dz = ggFHH_kl1_hist2d.ravel()\n",
    "\n",
    "# Create a 3D plot\n",
    "fig = plt.figure(figsize=(10, 7))\n",
    "ax = fig.add_subplot(111, projection='3d')\n",
    "\n",
    "ax.set_xticks(np.linspace(myy_min,myy_max,7),(np.linspace(myy_min,myy_max,7)/1e3).astype(int))\n",
    "ax.set_yticks(np.linspace(mbb_min,mbb_max,6),(np.linspace(mbb_min,mbb_max,6)/1e3).astype(int))\n",
    "\n",
    "ax.bar3d(xpos, ypos, zpos, dx, dy, dz, zsort='average',alpha=0.1)\n",
    "\n",
    "#MYY, MBB = np.meshgrid(np.linspace(myy_min,myy_max,1000),np.linspace(mbb_min,mbb_max,1000))\n",
    "\n",
    "surf = ax.plot_surface(MYY, MBB, ggFHH_kl1_2dfit((MYY,MBB), *ggFHH_kl1_2d_popt), alpha=0.9, color='orange')\n",
    "\n",
    "ax.set_xlabel('myy [GeV]')\n",
    "ax.set_ylabel('mbb [GeV]')\n",
    "plt.title('ggFHH_kl1')\n",
    "\n",
    "proxy = mlines.Line2D([0],[0], color='orange', marker='.', linestyle='None', markersize=1, label=ggFHH_kl1_2d_legend)\n",
    "ax.legend(handles=[proxy])\n",
    "\n",
    "plt.show()\n",
    "\n",
    "#plt.savefig('./Plots/2D-plots/Y0_2d.pdf', format='pdf')"
   ]
  },
  {
   "cell_type": "code",
   "execution_count": null,
   "id": "fa992ab9-751b-447d-88c1-f0e63049263d",
   "metadata": {},
   "outputs": [],
   "source": [
    "from tabulate import tabulate\n",
    "\n",
    "tab_text = np.array(['mu_myy', 'sigma_myy', 'alpha_L_myy', 'alpha_R_myy', 'n_L_myy', 'n_R_myy', 'N_myy', \\\n",
    "                     'mu_mbb', 'sigma_mbb', 'alpha_L_mbb', 'alpha_R_mbb', 'n_L_mbb', 'n_R_mbb', 'N_mbb'])\n",
    "\n",
    "ggFHH_kl1_2d_tab = np.array([tab_text, ggFHH_kl1_2d_popt, np.concatenate([ggFHH_kl1_myy_popt, ggFHH_kl1_mbb_popt]), \\\n",
    "                         np.sqrt(np.diag(ggFHH_kl1_2d_pcov)), np.concatenate([np.sqrt(np.diag(ggFHH_kl1_myy_pcov)), np.sqrt(np.diag(ggFHH_kl1_mbb_pcov))]) ])\n",
    "\n",
    "print(tabulate(ggFHH_kl1_2d_tab.T, stralign='left', headers=['', '2d_values', '1d_values', '2d_uncertainties', '1d_uncertainties']))"
   ]
  },
  {
   "cell_type": "code",
   "execution_count": null,
   "id": "2883d19b-e95d-41f6-9b95-e33df0e43071",
   "metadata": {},
   "outputs": [],
   "source": [
    "import matplotlib.colors as mcolors\n",
    "\n",
    "ggFHH_kl1_2d_diff = ggFHH_kl1_2d(MYY_bin_centers,MBB_bin_centers) * ggFHH_kl1_2d_N - ggFHH_kl1_hist2d\n",
    "ggFHH_kl1_2d_ratio = ggFHH_kl1_2d(MYY_bin_centers,MBB_bin_centers) * ggFHH_kl1_2d_N / ggFHH_kl1_hist2d\n",
    "\n",
    "ggFHH_kl1_2dfit_diff = ggFHH_kl1_2dfit((MYY_bin_centers,MBB_bin_centers), *ggFHH_kl1_2d_popt) - ggFHH_kl1_hist2d\n",
    "ggFHH_kl1_2dfit_ratio = ggFHH_kl1_2dfit((MYY_bin_centers,MBB_bin_centers), *ggFHH_kl1_2d_popt) / ggFHH_kl1_hist2d\n",
    "\n",
    "fig, axes = plt.subplots(2, 2, figsize=(10, 8))\n",
    "\n",
    "\n",
    "norm_residuals = mcolors.TwoSlopeNorm(vmin=np.min(ggFHH_kl1_2d_diff), vcenter=0, vmax=np.max(ggFHH_kl1_2d_diff))\n",
    "\n",
    "norm_ratio = mcolors.TwoSlopeNorm(vmin=0, vcenter=1, vmax=4)\n",
    "\n",
    "im1 = axes[0, 0].imshow(ggFHH_kl1_2d_diff, cmap='viridis', extent=[80,180,110,140], norm=norm_residuals)\n",
    "axes[0, 0].set_title('ggFHH_kl1 - Residuals (2 x 1D-Fit)')\n",
    "axes[0, 0].set_aspect('auto')\n",
    "fig.colorbar(im1, ax=axes[0,0])\n",
    "\n",
    "im2 = axes[0, 1].imshow(ggFHH_kl1_2d_ratio, cmap='viridis', extent=[80,180,110,140], norm=norm_ratio)\n",
    "axes[0, 1].set_title('ggFHH_kl1 - Ratio (2 x 1D-Fit)')\n",
    "axes[0, 1].set_aspect('auto')\n",
    "fig.colorbar(im2, ax=axes[0,1], ticks=[0,1,2,3,4])\n",
    "\n",
    "im3 = axes[1, 0].imshow(ggFHH_kl1_2dfit_diff, cmap='viridis', extent=[80,180,110,140], norm=norm_residuals)\n",
    "axes[1, 0].set_title('ggFHH_kl1 - Residuals (1 x 2D-Fit)')\n",
    "axes[1, 0].set_aspect('auto')\n",
    "fig.colorbar(im3, ax=axes[1,0])\n",
    "\n",
    "im4 = axes[1, 1].imshow(ggFHH_kl1_2dfit_ratio, cmap='viridis', extent=[80,180,110,140], norm=norm_ratio)\n",
    "axes[1, 1].set_title('ggFHH_kl1 - Ratio (1 x 2D-Fit)')\n",
    "axes[1, 1].set_aspect('auto')\n",
    "fig.colorbar(im4, ax=axes[1,1], ticks=[0,1,2,3,4])"
   ]
  },
  {
   "cell_type": "code",
   "execution_count": null,
   "id": "5d00c382-101c-4953-b8ae-881a67960a69",
   "metadata": {},
   "outputs": [],
   "source": []
  },
  {
   "cell_type": "code",
   "execution_count": null,
   "id": "def80c99-553c-49ef-810b-00540e370bb7",
   "metadata": {},
   "outputs": [],
   "source": []
  },
  {
   "cell_type": "code",
   "execution_count": null,
   "id": "9ab3698a-46fe-40c5-853e-f3748a12597a",
   "metadata": {},
   "outputs": [],
   "source": []
  },
  {
   "cell_type": "code",
   "execution_count": null,
   "id": "a76694a8-d20b-4708-8121-6eb552677d15",
   "metadata": {},
   "outputs": [],
   "source": []
  },
  {
   "cell_type": "code",
   "execution_count": null,
   "id": "daed0e24-4f6b-4c4c-a6c9-ad3a9b490311",
   "metadata": {},
   "outputs": [],
   "source": []
  },
  {
   "cell_type": "code",
   "execution_count": null,
   "id": "d26b95ac-9bef-412f-9916-23c02999d80c",
   "metadata": {},
   "outputs": [],
   "source": []
  },
  {
   "cell_type": "code",
   "execution_count": null,
   "id": "77f4e20f-f45e-4b2d-a571-0735f430a820",
   "metadata": {},
   "outputs": [],
   "source": []
  },
  {
   "cell_type": "code",
   "execution_count": null,
   "id": "59119382-7207-40d4-85f0-a75463e6d112",
   "metadata": {},
   "outputs": [],
   "source": []
  },
  {
   "cell_type": "code",
   "execution_count": null,
   "id": "eb4491c1-89e6-4e12-a992-e07de1611218",
   "metadata": {},
   "outputs": [],
   "source": []
  },
  {
   "cell_type": "code",
   "execution_count": null,
   "id": "99496685-0dd8-4b47-8334-fa5f200b3805",
   "metadata": {},
   "outputs": [],
   "source": []
  },
  {
   "cell_type": "code",
   "execution_count": null,
   "id": "ccfbb9e2-e904-44b2-9420-f164e89e665e",
   "metadata": {},
   "outputs": [],
   "source": []
  },
  {
   "cell_type": "code",
   "execution_count": null,
   "id": "ca996306-8634-4adc-82db-b2f4cbd84a30",
   "metadata": {},
   "outputs": [],
   "source": []
  },
  {
   "cell_type": "code",
   "execution_count": null,
   "id": "e5aaa86a-ba97-44d4-84ef-6b257cc7f9eb",
   "metadata": {},
   "outputs": [],
   "source": []
  },
  {
   "cell_type": "code",
   "execution_count": null,
   "id": "29974fe7-3d98-49ef-9d52-75288a869229",
   "metadata": {},
   "outputs": [],
   "source": []
  },
  {
   "cell_type": "code",
   "execution_count": null,
   "id": "7fec3972-4d9f-4fc0-a609-6a986db0c859",
   "metadata": {},
   "outputs": [],
   "source": []
  }
 ],
 "metadata": {
  "kernelspec": {
   "display_name": "Python 3 (ipykernel)",
   "language": "python",
   "name": "python3"
  },
  "language_info": {
   "codemirror_mode": {
    "name": "ipython",
    "version": 3
   },
   "file_extension": ".py",
   "mimetype": "text/x-python",
   "name": "python",
   "nbconvert_exporter": "python",
   "pygments_lexer": "ipython3",
   "version": "3.8.10"
  }
 },
 "nbformat": 4,
 "nbformat_minor": 5
}
