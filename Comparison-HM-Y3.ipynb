{
 "cells": [
  {
   "cell_type": "code",
   "execution_count": 15,
   "id": "3486b5bc-e6d9-4e7a-9b87-79cf34aee00a",
   "metadata": {},
   "outputs": [],
   "source": [
    "import matplotlib.pyplot as plt\n",
    "import numpy as np\n",
    "import matplotlib as mpl\n",
    "import math\n",
    "import pandas as pd\n",
    "from scipy.optimize import curve_fit\n",
    "import uncertainties\n",
    "from uncertainties import ufloat\n",
    "from uncertainties import unumpy\n",
    "\n",
    "from tabulate import tabulate"
   ]
  },
  {
   "cell_type": "code",
   "execution_count": 16,
   "id": "79067cd8-b4a7-4bc2-969c-9fccece9adaa",
   "metadata": {},
   "outputs": [
    {
     "name": "stdout",
     "output_type": "stream",
     "text": [
      "Current working directory: /home/ursuni/Research_Project\n"
     ]
    }
   ],
   "source": [
    "import os\n",
    "\n",
    "# Change to the project directory\n",
    "os.chdir('/home/ursuni/Research_Project')\n",
    "\n",
    "# Confirm the current working directory\n",
    "print(\"Current working directory:\", os.getcwd())"
   ]
  },
  {
   "cell_type": "code",
   "execution_count": 17,
   "id": "45c57085-f2f8-49fc-bd41-4c90bf54dc6e",
   "metadata": {},
   "outputs": [],
   "source": [
    "def get_param_1D(path):\n",
    "    data = np.load(path, allow_pickle=True)\n",
    "    \n",
    "    popt_mbb_array = data['popt_mbb']\n",
    "    pcov_mbb_array = data['pcov_mbb']\n",
    "    popt_myy_array = data['popt_myy']\n",
    "    pcov_myy_array = data['pcov_myy']\n",
    "\n",
    "    mu_signal_mbb = ufloat(popt_mbb_array[0][0], np.sqrt(pcov_mbb_array[0][0][0]))\n",
    "    mu_bkg_mbb = ufloat(popt_mbb_array[0][1], np.sqrt(pcov_mbb_array[0][1][1]))\n",
    "\n",
    "    mu_signal_myy = ufloat(popt_myy_array[0][0], np.sqrt(pcov_myy_array[0][0][0]))\n",
    "    mu_bkg_myy = ufloat(popt_myy_array[0][1], np.sqrt(pcov_myy_array[0][1][1]))\n",
    "    \n",
    "    data.close()\n",
    "\n",
    "    return mu_signal_mbb, mu_bkg_mbb, mu_signal_myy, mu_bkg_myy"
   ]
  },
  {
   "cell_type": "code",
   "execution_count": 18,
   "id": "230b4c83-6552-49a3-a039-caf148cbb53b",
   "metadata": {},
   "outputs": [],
   "source": [
    "def get_param_2D(path):\n",
    "    data = np.load(path, allow_pickle=True)\n",
    "    \n",
    "    popt = data['popt']\n",
    "    pcov = data['pcov']\n",
    "\n",
    "    mu_s = ufloat(popt[0], np.sqrt(pcov[0][0]))\n",
    "    mu_b = ufloat(popt[1], np.sqrt(pcov[1][1]))\n",
    "    \n",
    "    data.close()\n",
    "\n",
    "    return mu_s, mu_b"
   ]
  },
  {
   "cell_type": "code",
   "execution_count": 19,
   "id": "26605865-2d74-4260-9b17-1fc440b2f284",
   "metadata": {},
   "outputs": [],
   "source": [
    "binning = np.array(['20-60', '20-19', '20-15', '20-9', '15-9', '11-9', '11-7'])\n",
    "\n",
    "def get_1D(dataset):\n",
    "    mu_s_mbb_list = []\n",
    "    mu_b_mbb_list = []\n",
    "    mu_s_myy_list = []\n",
    "    mu_b_myy_list = []\n",
    "    \n",
    "    for entry in binning:\n",
    "        mu_s_mbb, mu_b_mbb, mu_s_myy, mu_b_myy = \\\n",
    "            get_param_1D('HM-SampleArrays/HM-Y=3/Y=3-' + dataset + '-' + entry + '-Signal.npz')\n",
    "        \n",
    "        mu_s_mbb_list.append(mu_s_mbb)\n",
    "        mu_b_mbb_list.append(mu_b_mbb)\n",
    "        mu_s_myy_list.append(mu_s_myy)\n",
    "        mu_b_myy_list.append(mu_b_myy)\n",
    "\n",
    "    return mu_s_mbb_list, mu_b_mbb_list, mu_s_myy_list, mu_b_myy_list"
   ]
  },
  {
   "cell_type": "code",
   "execution_count": 6,
   "id": "c82154fe-5db1-427e-ade1-6628b20b42cc",
   "metadata": {},
   "outputs": [],
   "source": [
    "def get_2D(dataset):\n",
    "    mu_s_list = []\n",
    "    mu_b_list = []\n",
    "    \n",
    "    for entry in binning:\n",
    "        mu_s, mu_b = get_param_2D('HM-SampleArrays/HM-Y=3/Y=3-2D-' + \\\n",
    "                                  dataset + '-' + entry + '-Signal.npz')\n",
    "        \n",
    "        mu_s_list.append(mu_s)\n",
    "        mu_b_list.append(mu_b)\n",
    "\n",
    "    return mu_s_list, mu_b_list"
   ]
  },
  {
   "cell_type": "code",
   "execution_count": 7,
   "id": "d8b831fe-bd8f-49b6-acb6-b18c4bd6db81",
   "metadata": {
    "scrolled": true
   },
   "outputs": [],
   "source": [
    "mu_s_mbb_old_nom, mu_b_mbb_old_nom, mu_s_myy_old_nom, mu_b_myy_old_nom = \\\n",
    "get_1D('old_nominal')\n",
    "\n",
    "mu_s_mbb_new_nom, mu_b_mbb_new_nom, mu_s_myy_new_nom, mu_b_myy_new_nom = \\\n",
    "get_1D('new_nominal')\n",
    "\n",
    "mu_s_mbb_no_mbb, mu_b_mbb_no_mbb, mu_s_myy_no_mbb, mu_b_myy_no_mbb = \\\n",
    "get_1D('no_mbb')"
   ]
  },
  {
   "cell_type": "code",
   "execution_count": 8,
   "id": "11b100f2-f9b7-4164-9fba-714ed76fe1f0",
   "metadata": {},
   "outputs": [],
   "source": [
    "mu_s_old_nom_2D, mu_b_old_nom_2D = get_2D('old_nominal')\n",
    "\n",
    "mu_s_new_nom_2D, mu_b_new_nom_2D = get_2D('new_nominal')\n",
    "\n",
    "mu_s_no_mbb_2D, mu_b_no_mbb_2D = get_2D('no_mbb')"
   ]
  },
  {
   "cell_type": "code",
   "execution_count": 21,
   "id": "fdaca5a2-59d1-465d-b5c5-80b79c88ffd7",
   "metadata": {},
   "outputs": [
    {
     "name": "stdout",
     "output_type": "stream",
     "text": [
      "Table for mu_signal (old_nominal):\n",
      "\n",
      "\\begin{tabular}{llll}\n",
      "\\hline\n",
      " configuration (mbb x myy)   & 1D-mbb   & 1D-myy    & 2D        \\\\\n",
      "\\hline\n",
      " 20-60                       & 0+/-15   & 0.9+/-1.9 & 1.0+/-3.3 \\\\\n",
      " 20-19                       & 0+/-15   & 0.9+/-1.8 & 0.9+/-2.3 \\\\\n",
      " 20-15                       & 0+/-15   & 0.9+/-1.8 & 1.0+/-2.2 \\\\\n",
      " 20-9                        & 0+/-15   & 0.9+/-1.8 & 1.0+/-2.0 \\\\\n",
      " 15-9                        & 0+/-15   & 0.9+/-1.8 & 1.0+/-1.9 \\\\\n",
      " 11-9                        & 0+/-15   & 0.9+/-1.8 & 1.0+/-1.9 \\\\\n",
      " 11-7                        & 0+/-15   & 0.9+/-1.8 & 0.9+/-1.8 \\\\\n",
      "\\hline\n",
      "\\end{tabular}\n"
     ]
    }
   ],
   "source": [
    "old_nom_table = np.array([binning, mu_s_mbb_old_nom, \\\n",
    "                          mu_s_myy_old_nom, mu_s_old_nom_2D]).T\n",
    "\n",
    "print('Table for mu_signal (old_nominal):\\n')\n",
    "\n",
    "print(tabulate(old_nom_table, tablefmt='latex', \\\n",
    "               headers=['configuration (mbb x myy)', '1D-mbb', '1D-myy', '2D']))"
   ]
  },
  {
   "cell_type": "code",
   "execution_count": 23,
   "id": "7891f43f-2796-4460-88e0-fe86563bd7ce",
   "metadata": {},
   "outputs": [
    {
     "name": "stdout",
     "output_type": "stream",
     "text": [
      "Table for mu_signal (new_nominal):\n",
      "\n",
      "\\begin{tabular}{llll}\n",
      "\\hline\n",
      " configuration (mbb x myy)   & 1D-mbb   & 1D-myy    & 2D        \\\\\n",
      "\\hline\n",
      " 20-60                       & 0+/-16   & 1.0+/-1.9 & 1.0+/-3.4 \\\\\n",
      " 20-19                       & 0+/-16   & 1.0+/-1.8 & 1.0+/-2.3 \\\\\n",
      " 20-15                       & 0+/-16   & 1.0+/-1.8 & 1.0+/-2.2 \\\\\n",
      " 20-9                        & 0+/-16   & 1.0+/-1.8 & 1.0+/-2.0 \\\\\n",
      " 15-9                        & 0+/-16   & 1.0+/-1.8 & 1.0+/-1.9 \\\\\n",
      " 11-9                        & 0+/-16   & 1.0+/-1.8 & 1.0+/-1.9 \\\\\n",
      " 11-7                        & 0+/-16   & 1.0+/-1.8 & 1.0+/-1.8 \\\\\n",
      "\\hline\n",
      "\\end{tabular}\n"
     ]
    }
   ],
   "source": [
    "new_nom_table = np.array([binning, mu_s_mbb_new_nom, \\\n",
    "                          mu_s_myy_new_nom, mu_s_new_nom_2D]).T\n",
    "\n",
    "print('Table for mu_signal (new_nominal):\\n')\n",
    "\n",
    "print(tabulate(new_nom_table, tablefmt='latex', \\\n",
    "               headers=['configuration (mbb x myy)', '1D-mbb', '1D-myy', '2D']))"
   ]
  },
  {
   "cell_type": "code",
   "execution_count": 24,
   "id": "b7b47648-3a8b-45f3-b409-f6929f31eea6",
   "metadata": {},
   "outputs": [
    {
     "name": "stdout",
     "output_type": "stream",
     "text": [
      "Table for mu_signal (no_mbb):\n",
      "\n",
      "\\begin{tabular}{llll}\n",
      "\\hline\n",
      " configuration (mbb x myy)   & 1D-mbb   & 1D-myy    & 2D        \\\\\n",
      "\\hline\n",
      " 20-60                       & 0+/-6    & 0.9+/-2.0 & 1+/-4     \\\\\n",
      " 20-19                       & 0+/-6    & 0.9+/-1.9 & 0.9+/-2.4 \\\\\n",
      " 20-15                       & 0+/-6    & 0.9+/-1.9 & 0.9+/-2.3 \\\\\n",
      " 20-9                        & 0+/-6    & 0.9+/-1.9 & 0.9+/-2.0 \\\\\n",
      " 15-9                        & 0+/-6    & 0.9+/-1.9 & 0.9+/-1.9 \\\\\n",
      " 11-9                        & 0+/-6    & 0.9+/-1.9 & 0.9+/-1.9 \\\\\n",
      " 11-7                        & 0+/-6    & 0.9+/-1.9 & 0.9+/-1.8 \\\\\n",
      "\\hline\n",
      "\\end{tabular}\n"
     ]
    }
   ],
   "source": [
    "no_mbb_table = np.array([binning, mu_s_mbb_no_mbb, \\\n",
    "                          mu_s_myy_no_mbb, mu_s_no_mbb_2D]).T\n",
    "\n",
    "print('Table for mu_signal (no_mbb):\\n')\n",
    "\n",
    "print(tabulate(no_mbb_table, tablefmt='latex', \\\n",
    "               headers=['configuration (mbb x myy)', '1D-mbb', '1D-myy', '2D']))"
   ]
  },
  {
   "cell_type": "code",
   "execution_count": null,
   "id": "466d47a9-c855-47eb-a0b0-4ed5c95613fc",
   "metadata": {},
   "outputs": [],
   "source": []
  },
  {
   "cell_type": "code",
   "execution_count": 25,
   "id": "6a2f5cbb-d0df-4c9a-af0f-7bf9bd67c4a0",
   "metadata": {},
   "outputs": [
    {
     "name": "stdout",
     "output_type": "stream",
     "text": [
      "Table for mu_bkg (old_nominal):\n",
      "\n",
      "\\begin{tabular}{llll}\n",
      "\\hline\n",
      " configuration (mbb x myy)   & 1D-mbb    & 1D-myy      & 2D          \\\\\n",
      "\\hline\n",
      " 20-60                       & 1.1+/-1.0 & 1.0+/-0.4   & 1.0+/-0.8   \\\\\n",
      " 20-19                       & 1.1+/-1.0 & 1.01+/-0.32 & 1.0+/-0.5   \\\\\n",
      " 20-15                       & 1.1+/-1.0 & 1.01+/-0.32 & 1.0+/-0.5   \\\\\n",
      " 20-9                        & 1.1+/-1.0 & 1.00+/-0.31 & 1.0+/-0.4   \\\\\n",
      " 15-9                        & 1.1+/-1.0 & 1.00+/-0.31 & 1.0+/-0.4   \\\\\n",
      " 11-9                        & 1.1+/-1.0 & 1.00+/-0.31 & 1.0+/-0.4   \\\\\n",
      " 11-7                        & 1.1+/-1.0 & 1.01+/-0.31 & 1.00+/-0.35 \\\\\n",
      "\\hline\n",
      "\\end{tabular}\n"
     ]
    }
   ],
   "source": [
    "old_nom_table_bkg = np.array([binning, mu_b_mbb_old_nom, \\\n",
    "                          mu_b_myy_old_nom, mu_b_old_nom_2D]).T\n",
    "\n",
    "print('Table for mu_bkg (old_nominal):\\n')\n",
    "\n",
    "print(tabulate(old_nom_table_bkg, tablefmt='latex', \\\n",
    "               headers=['configuration (mbb x myy)', '1D-mbb', '1D-myy', '2D']))"
   ]
  },
  {
   "cell_type": "code",
   "execution_count": 26,
   "id": "8881e54b-0759-46c1-935d-d6f77e2a3c20",
   "metadata": {},
   "outputs": [
    {
     "name": "stdout",
     "output_type": "stream",
     "text": [
      "Table for mu_bkg (new_nominal):\n",
      "\n",
      "\\begin{tabular}{llll}\n",
      "\\hline\n",
      " configuration (mbb x myy)   & 1D-mbb    & 1D-myy      & 2D        \\\\\n",
      "\\hline\n",
      " 20-60                       & 1.1+/-1.1 & 1.0+/-0.4   & 1.0+/-0.8 \\\\\n",
      " 20-19                       & 1.1+/-1.1 & 1.00+/-0.33 & 1.0+/-0.5 \\\\\n",
      " 20-15                       & 1.1+/-1.1 & 1.00+/-0.33 & 1.0+/-0.5 \\\\\n",
      " 20-9                        & 1.1+/-1.1 & 1.00+/-0.33 & 1.0+/-0.4 \\\\\n",
      " 15-9                        & 1.1+/-1.1 & 1.00+/-0.33 & 1.0+/-0.4 \\\\\n",
      " 11-9                        & 1.1+/-1.1 & 1.00+/-0.33 & 1.0+/-0.4 \\\\\n",
      " 11-7                        & 1.1+/-1.1 & 1.00+/-0.32 & 1.0+/-0.4 \\\\\n",
      "\\hline\n",
      "\\end{tabular}\n"
     ]
    }
   ],
   "source": [
    "new_nom_table_bkg = np.array([binning, mu_b_mbb_new_nom, \\\n",
    "                          mu_b_myy_new_nom, mu_b_new_nom_2D]).T\n",
    "\n",
    "print('Table for mu_bkg (new_nominal):\\n')\n",
    "\n",
    "print(tabulate(new_nom_table_bkg, tablefmt='latex', \\\n",
    "               headers=['configuration (mbb x myy)', '1D-mbb', '1D-myy', '2D']))"
   ]
  },
  {
   "cell_type": "code",
   "execution_count": 27,
   "id": "2353e36d-7f9d-468f-b20a-a613e33daf72",
   "metadata": {},
   "outputs": [
    {
     "name": "stdout",
     "output_type": "stream",
     "text": [
      "Table for mu_bkg (no_mbb):\n",
      "\n",
      "\\begin{tabular}{llll}\n",
      "\\hline\n",
      " configuration (mbb x myy)   & 1D-mbb    & 1D-myy      & 2D        \\\\\n",
      "\\hline\n",
      " 20-60                       & 1.1+/-0.5 & 1.0+/-0.4   & 1.0+/-1.1 \\\\\n",
      " 20-19                       & 1.1+/-0.5 & 1.01+/-0.33 & 1.0+/-0.6 \\\\\n",
      " 20-15                       & 1.1+/-0.5 & 1.01+/-0.33 & 1.0+/-0.6 \\\\\n",
      " 20-9                        & 1.1+/-0.5 & 1.01+/-0.32 & 1.0+/-0.5 \\\\\n",
      " 15-9                        & 1.1+/-0.5 & 1.01+/-0.32 & 1.0+/-0.5 \\\\\n",
      " 11-9                        & 1.1+/-0.5 & 1.01+/-0.32 & 1.0+/-0.4 \\\\\n",
      " 11-7                        & 1.1+/-0.5 & 1.01+/-0.32 & 1.0+/-0.4 \\\\\n",
      "\\hline\n",
      "\\end{tabular}\n"
     ]
    }
   ],
   "source": [
    "no_mbb_table_bkg = np.array([binning, mu_b_mbb_no_mbb, \\\n",
    "                          mu_b_myy_no_mbb, mu_b_no_mbb_2D]).T\n",
    "\n",
    "print('Table for mu_bkg (no_mbb):\\n')\n",
    "\n",
    "print(tabulate(no_mbb_table_bkg, tablefmt='latex',  \\\n",
    "               headers=['configuration (mbb x myy)', '1D-mbb', '1D-myy', '2D']))"
   ]
  },
  {
   "cell_type": "code",
   "execution_count": null,
   "id": "f240d48c-22e1-497c-893c-6b5468ffb692",
   "metadata": {},
   "outputs": [],
   "source": []
  }
 ],
 "metadata": {
  "kernelspec": {
   "display_name": "Python 3 (ipykernel)",
   "language": "python",
   "name": "python3"
  },
  "language_info": {
   "codemirror_mode": {
    "name": "ipython",
    "version": 3
   },
   "file_extension": ".py",
   "mimetype": "text/x-python",
   "name": "python",
   "nbconvert_exporter": "python",
   "pygments_lexer": "ipython3",
   "version": "3.12.3"
  }
 },
 "nbformat": 4,
 "nbformat_minor": 5
}
